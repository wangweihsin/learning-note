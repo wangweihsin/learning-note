{
 "cells": [
  {
   "cell_type": "markdown",
   "metadata": {},
   "source": [
    "# 7. Reverse Integer\n",
    "\n",
    "問題:將輸入的數字反過來輸出\n",
    "\n",
    "ex:Input: 123 Output: 321"
   ]
  },
  {
   "cell_type": "markdown",
   "metadata": {},
   "source": [
    "想法:數字除以10的餘數放回來 就可以變成反轉字串\n",
    "\n",
    "ex:123%10=3 12%10=2 1\n",
    "\n",
    "參考:classroom.google.com/u/1/c/NzUzMzU0MzIyM1pa"
   ]
  },
  {
   "cell_type": "code",
   "execution_count": 1,
   "metadata": {},
   "outputs": [
    {
     "data": {
      "text/plain": [
       "3"
      ]
     },
     "execution_count": 1,
     "metadata": {},
     "output_type": "execute_result"
    }
   ],
   "source": [
    "a=123\n",
    "a%10"
   ]
  },
  {
   "cell_type": "code",
   "execution_count": 51,
   "metadata": {},
   "outputs": [
    {
     "data": {
      "text/plain": [
       "3"
      ]
     },
     "execution_count": 51,
     "metadata": {},
     "output_type": "execute_result"
    }
   ],
   "source": [
    "x=123\n",
    "y=0\n",
    "y=y*10+x%10\n",
    "y"
   ]
  },
  {
   "cell_type": "code",
   "execution_count": 58,
   "metadata": {},
   "outputs": [
    {
     "data": {
      "text/plain": [
       "32"
      ]
     },
     "execution_count": 58,
     "metadata": {},
     "output_type": "execute_result"
    }
   ],
   "source": [
    "x=123\n",
    "x=x//10\n",
    "y=3\n",
    "y=y*10+x%10\n",
    "y"
   ]
  },
  {
   "cell_type": "code",
   "execution_count": 63,
   "metadata": {},
   "outputs": [
    {
     "data": {
      "text/plain": [
       "321"
      ]
     },
     "execution_count": 63,
     "metadata": {},
     "output_type": "execute_result"
    }
   ],
   "source": [
    "x=12\n",
    "x=x//10\n",
    "y=32\n",
    "y=y*10+x\n",
    "y"
   ]
  },
  {
   "cell_type": "code",
   "execution_count": 69,
   "metadata": {},
   "outputs": [
    {
     "name": "stdout",
     "output_type": "stream",
     "text": [
      "321\n"
     ]
    }
   ],
   "source": [
    "x=123\n",
    "y=0\n",
    "while x!=0:\n",
    "    y=y*10+x%10\n",
    "    x=x//10\n",
    "print(y)"
   ]
  },
  {
   "cell_type": "markdown",
   "metadata": {},
   "source": [
    "題目給的測試值中有負數 所以要記得考慮到負數的情況\n",
    "\n",
    "就先把負數改成正數 然後一樣除10取餘數顛倒x10加回來\n",
    "\n",
    "最後再給數字加上負號"
   ]
  },
  {
   "cell_type": "code",
   "execution_count": 73,
   "metadata": {},
   "outputs": [],
   "source": [
    "class Solution:\n",
    "    def reverse(self, x: int) -> int:\n",
    "        y=0\n",
    "        if x>0:\n",
    "            while x!=0:\n",
    "                y=y*10+x%10\n",
    "                x=x//10\n",
    "            return y\n",
    "        elif x==0:\n",
    "            return x\n",
    "        else:\n",
    "            x=-x\n",
    "            while x!=0:\n",
    "                y=y*10+x%10\n",
    "                x=x//10\n",
    "            y=-y\n",
    "            return y"
   ]
  },
  {
   "cell_type": "markdown",
   "metadata": {},
   "source": [
    "# 測試值"
   ]
  },
  {
   "cell_type": "code",
   "execution_count": 71,
   "metadata": {},
   "outputs": [
    {
     "data": {
      "text/plain": [
       "321"
      ]
     },
     "execution_count": 71,
     "metadata": {},
     "output_type": "execute_result"
    }
   ],
   "source": [
    "Solution().reverse(123)"
   ]
  },
  {
   "cell_type": "code",
   "execution_count": 74,
   "metadata": {},
   "outputs": [
    {
     "data": {
      "text/plain": [
       "-321"
      ]
     },
     "execution_count": 74,
     "metadata": {},
     "output_type": "execute_result"
    }
   ],
   "source": [
    "Solution().reverse(-123)"
   ]
  },
  {
   "cell_type": "code",
   "execution_count": 75,
   "metadata": {},
   "outputs": [
    {
     "data": {
      "text/plain": [
       "21"
      ]
     },
     "execution_count": 75,
     "metadata": {},
     "output_type": "execute_result"
    }
   ],
   "source": [
    "Solution().reverse(120)"
   ]
  },
  {
   "cell_type": "markdown",
   "metadata": {},
   "source": [
    "提交以後出錯了\n",
    "\n",
    "input:1534236469\n",
    "\n",
    "output:9646324351\n",
    "\n",
    "Expected:0\n",
    "\n",
    "沒發現題目下面有備註限制 範圍32-bit 所以要記得設範圍"
   ]
  },
  {
   "cell_type": "code",
   "execution_count": 85,
   "metadata": {},
   "outputs": [],
   "source": [
    "class Solution:\n",
    "    def reverse(self, x: int) -> int:\n",
    "        y=0\n",
    "\n",
    "        if x>0:\n",
    "            while x!=0:\n",
    "                y=y*10+x%10\n",
    "                x=x//10\n",
    "        elif x==0:\n",
    "            return x\n",
    "        else:\n",
    "            x=-x\n",
    "            while x!=0:\n",
    "                y=y*10+x%10\n",
    "                x=x//10\n",
    "            y=-y\n",
    "        if -2**31<y<2**31-1:\n",
    "            return y\n",
    "        else:\n",
    "            return 0"
   ]
  },
  {
   "cell_type": "code",
   "execution_count": 86,
   "metadata": {},
   "outputs": [
    {
     "data": {
      "text/plain": [
       "0"
      ]
     },
     "execution_count": 86,
     "metadata": {},
     "output_type": "execute_result"
    }
   ],
   "source": [
    "Solution().reverse(1534236469)"
   ]
  },
  {
   "cell_type": "markdown",
   "metadata": {},
   "source": [
    "# 結果\n",
    "\n",
    "![結果](https://github.com/wangweihsin/learning-note/blob/master/%E5%9C%96%E7%89%87/7.%20Reverse%20Integer.jpg?raw=true)"
   ]
  },
  {
   "cell_type": "markdown",
   "metadata": {},
   "source": [
    "# 參考\n",
    "\n",
    "https://ithelp.ithome.com.tw/articles/10185520 (32bit)\n",
    "\n",
    "classroom.google.com/u/1/c/NzUzMzU0MzIyM1pa (餘數累加)"
   ]
  }
 ],
 "metadata": {
  "kernelspec": {
   "display_name": "Python 3",
   "language": "python",
   "name": "python3"
  },
  "language_info": {
   "codemirror_mode": {
    "name": "ipython",
    "version": 3
   },
   "file_extension": ".py",
   "mimetype": "text/x-python",
   "name": "python",
   "nbconvert_exporter": "python",
   "pygments_lexer": "ipython3",
   "version": "3.7.1"
  }
 },
 "nbformat": 4,
 "nbformat_minor": 2
}
