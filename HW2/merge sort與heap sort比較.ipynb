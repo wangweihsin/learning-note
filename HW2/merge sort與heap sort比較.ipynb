{
 "cells": [
  {
   "cell_type": "markdown",
   "metadata": {},
   "source": [
    "# merge sort V.S heap sort"
   ]
  },
  {
   "cell_type": "markdown",
   "metadata": {},
   "source": [
    "- 時間複雜度\n",
    "\n",
    "  兩者相同"
   ]
  },
  {
   "cell_type": "markdown",
   "metadata": {},
   "source": [
    "![比較](https://github.com/wangweihsin/learning-note/blob/master/%E5%9C%96%E7%89%87/%E6%AF%94%E8%BC%83.jpg?raw=true)"
   ]
  },
  {
   "cell_type": "markdown",
   "metadata": {},
   "source": [
    "- 空間複雜度\n",
    "  \n",
    "  Ο(n)V.SΟ(n) + Ο(1)"
   ]
  },
  {
   "cell_type": "markdown",
   "metadata": {},
   "source": [
    "- 穩定性\n",
    "\n",
    "  穩定V.S不穩定"
   ]
  },
  {
   "cell_type": "markdown",
   "metadata": {},
   "source": [
    "- 排序方式\n",
    "\n",
    "merge sort:對半分解後合併排序\n",
    "\n",
    "heap sort:分堆排序，比較父節點跟左右子節點，將最小值(root)取出後用最後的子節點補回去重新排序。"
   ]
  },
  {
   "cell_type": "markdown",
   "metadata": {},
   "source": [
    "# 參考\n",
    "\n",
    "http://alrightchiu.github.io/SecondRound/comparison-sort-heap-sortdui-ji-pai-xu-fa.html (圖片來源)\n",
    "\n",
    "http://notepad.yehyeh.net/Content/Algorithm/Sort/Sort.php"
   ]
  }
 ],
 "metadata": {
  "kernelspec": {
   "display_name": "Python 3",
   "language": "python",
   "name": "python3"
  },
  "language_info": {
   "codemirror_mode": {
    "name": "ipython",
    "version": 3
   },
   "file_extension": ".py",
   "mimetype": "text/x-python",
   "name": "python",
   "nbconvert_exporter": "python",
   "pygments_lexer": "ipython3",
   "version": "3.7.1"
  }
 },
 "nbformat": 4,
 "nbformat_minor": 2
}
