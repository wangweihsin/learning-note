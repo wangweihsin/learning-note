{
 "cells": [
  {
   "cell_type": "markdown",
   "metadata": {},
   "source": [
    "# Heap Sort 堆積排序法"
   ]
  },
  {
   "cell_type": "markdown",
   "metadata": {},
   "source": [
    "概念:像樹狀圖一樣，每個父母下面有兩個孩子，最底層可以有缺(只有一個或沒有)。父母必須比子女大(小)，最上層的父母最大(小)。"
   ]
  },
  {
   "cell_type": "markdown",
   "metadata": {},
   "source": [
    "1.max heap(最大堆積)\n",
    "\n",
    "最上層的數字必大於下面所有數\n",
    "\n",
    "2.min heap(最小堆積)\n",
    "\n",
    "最上層的數字必小於下面所有數"
   ]
  },
  {
   "cell_type": "markdown",
   "metadata": {},
   "source": [
    "# 流程圖"
   ]
  },
  {
   "cell_type": "markdown",
   "metadata": {},
   "source": [
    "![流程圖](https://github.com/wangweihsin/learning-note/blob/master/%E5%9C%96%E7%89%87/Heapsort%E6%B5%81%E7%A8%8B%E5%9C%96.jpg?raw=true)"
   ]
  },
  {
   "cell_type": "markdown",
   "metadata": {},
   "source": [
    "# 過程"
   ]
  },
  {
   "cell_type": "markdown",
   "metadata": {},
   "source": [
    "以下用max heap來說明排序過程\n",
    "\n",
    "將list中的元素從最上方一路放下來後 從最下方開始排序回去\n",
    "\n",
    "一但孩子比父母大 就往上移動 這樣一來最大的值就會在最上方\n",
    "\n",
    "將最上方(最大值)拿掉 把最下方的孩子拿到第一個重新排序\n",
    "\n",
    "不斷重複直到沒孩子可以拿到第一個排序"
   ]
  },
  {
   "cell_type": "markdown",
   "metadata": {},
   "source": [
    "# 參考"
   ]
  },
  {
   "cell_type": "markdown",
   "metadata": {},
   "source": [
    "http://alrightchiu.github.io/SecondRound/comparison-sort-heap-sortdui-ji-pai-xu-fa.html\n",
    "\n",
    "https://magiclen.org/heap-sort/\n",
    "\n",
    "http://marklin-blog.logdown.com/posts/1910116"
   ]
  }
 ],
 "metadata": {
  "kernelspec": {
   "display_name": "Python 3",
   "language": "python",
   "name": "python3"
  },
  "language_info": {
   "codemirror_mode": {
    "name": "ipython",
    "version": 3
   },
   "file_extension": ".py",
   "mimetype": "text/x-python",
   "name": "python",
   "nbconvert_exporter": "python",
   "pygments_lexer": "ipython3",
   "version": "3.7.1"
  }
 },
 "nbformat": 4,
 "nbformat_minor": 2
}
