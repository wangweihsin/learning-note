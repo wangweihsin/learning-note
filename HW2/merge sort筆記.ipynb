{
 "cells": [
  {
   "cell_type": "markdown",
   "metadata": {},
   "source": [
    "# Merge Sort 合併排序法"
   ]
  },
  {
   "cell_type": "markdown",
   "metadata": {},
   "source": [
    "概念:將大的問題分解成很多個小問題，從小的問題開始解決起。把小事解決完以後合併回大問題，大問題自然就解決了。"
   ]
  },
  {
   "cell_type": "markdown",
   "metadata": {},
   "source": [
    "## 流程圖"
   ]
  },
  {
   "cell_type": "markdown",
   "metadata": {},
   "source": [
    "![MergeSort](https://github.com/wangweihsin/learning-note/blob/master/%E5%9C%96%E7%89%87/MergeSort%E6%B5%81%E7%A8%8B%E5%9C%96.jpg?raw=true)"
   ]
  },
  {
   "cell_type": "markdown",
   "metadata": {},
   "source": [
    "# 過程"
   ]
  },
  {
   "cell_type": "markdown",
   "metadata": {},
   "source": [
    "Merge Sorty主要步驟就是1.拆分2.合併"
   ]
  },
  {
   "cell_type": "markdown",
   "metadata": {},
   "source": [
    "- 分解\n",
    "\n",
    "將list從中間切一半分成兩個小list\n",
    "\n",
    "大--->中--->小\n",
    "\n",
    "一直對半分，直到list中只剩一個元素沒辦法再分成兩個list為止。"
   ]
  },
  {
   "cell_type": "markdown",
   "metadata": {},
   "source": [
    "- 合併\n",
    "\n",
    "左右兩個list比較排序 從各自的第一個數字開始排序 比較大的就先放到list裡\n",
    "\n",
    "兩兩比較直到某個list裡的數字先沒了 剩下那個list的數字就可以直接放下去\n",
    "\n",
    "ex:[10,17] [2,32,65] 2跟10比2先放下去 接個10跟32比10放下去 17跟32比17放下去\n",
    "\n",
    "[2,10,17,_ ,_ ]<--變成這樣\n",
    "\n",
    "此時左邊的list已經空了 右邊剩[32,65]就可以直接放下去\n",
    "\n",
    "因為前面已經排序過了!"
   ]
  },
  {
   "cell_type": "markdown",
   "metadata": {},
   "source": [
    "# 程式碼"
   ]
  },
  {
   "cell_type": "markdown",
   "metadata": {},
   "source": [
    "Merge sort的主概念就是分解跟合併\n",
    "\n",
    "先從分解開始寫\n",
    "\n",
    "將list不斷對半分解 值到裡面只剩一個元素無法對半分為止"
   ]
  },
  {
   "cell_type": "code",
   "execution_count": 2,
   "metadata": {},
   "outputs": [
    {
     "data": {
      "text/plain": [
       "[17, 10, 2, 32]"
      ]
     },
     "execution_count": 2,
     "metadata": {},
     "output_type": "execute_result"
    }
   ],
   "source": [
    "alist=[17,10,2,32,87,28,45,7]\n",
    "a=len(alist)\n",
    "b=a//2  #長度的一半\n",
    "alist[0:b] #頭開始到一半"
   ]
  },
  {
   "cell_type": "code",
   "execution_count": 3,
   "metadata": {},
   "outputs": [
    {
     "data": {
      "text/plain": [
       "[87, 28, 45, 7]"
      ]
     },
     "execution_count": 3,
     "metadata": {},
     "output_type": "execute_result"
    }
   ],
   "source": [
    "alist[b:a] #一半到尾"
   ]
  },
  {
   "cell_type": "markdown",
   "metadata": {},
   "source": [
    "如果長度大於1就不斷分解"
   ]
  },
  {
   "cell_type": "code",
   "execution_count": 4,
   "metadata": {},
   "outputs": [
    {
     "name": "stdout",
     "output_type": "stream",
     "text": [
      "[17, 10, 2, 32] [87, 28, 45, 7]\n"
     ]
    }
   ],
   "source": [
    "if len(alist)<=1:\n",
    "    print(alist)\n",
    "else:\n",
    "    a=len(alist)\n",
    "    b=a//2\n",
    "    left=alist[0:b]\n",
    "    right=alist[b:a]\n",
    "    print(left,right)"
   ]
  },
  {
   "cell_type": "markdown",
   "metadata": {},
   "source": [
    "寫成def不斷分解"
   ]
  },
  {
   "cell_type": "code",
   "execution_count": 5,
   "metadata": {},
   "outputs": [],
   "source": [
    "def divide(alist):\n",
    "    if len(alist)<=1:\n",
    "        return alist\n",
    "    else:\n",
    "        a=len(alist)\n",
    "        b=a//2\n",
    "        left=alist[0:b]\n",
    "        right=alist[b:a]\n",
    "    left=divide(left)\n",
    "    right=divide(right)\n",
    "    return left,right   "
   ]
  },
  {
   "cell_type": "code",
   "execution_count": 6,
   "metadata": {},
   "outputs": [
    {
     "data": {
      "text/plain": [
       "((([17], [10]), ([2], [32])), (([87], [28]), ([45], [7])))"
      ]
     },
     "execution_count": 6,
     "metadata": {},
     "output_type": "execute_result"
    }
   ],
   "source": [
    "divide(alist)"
   ]
  },
  {
   "cell_type": "markdown",
   "metadata": {},
   "source": [
    "分解是成功了但是他變成一堆()包起來\n",
    "\n",
    "嘗試分成一個一個"
   ]
  },
  {
   "cell_type": "markdown",
   "metadata": {},
   "source": [
    "參考:https://peiqiang.net/2017/05/07/split-list-in-fixed-length.html"
   ]
  },
  {
   "cell_type": "code",
   "execution_count": 24,
   "metadata": {},
   "outputs": [
    {
     "data": {
      "text/plain": [
       "[[17], [10], [2], [32], [87], [28], [45], [7]]"
      ]
     },
     "execution_count": 24,
     "metadata": {},
     "output_type": "execute_result"
    }
   ],
   "source": [
    "alist=[17,10,2,32,87,28,45,7]\n",
    "blist =[alist[i:i+1] for i in range(0,len(alist),1)]\n",
    "blist"
   ]
  },
  {
   "cell_type": "code",
   "execution_count": 25,
   "metadata": {},
   "outputs": [],
   "source": [
    "def divide(alist):\n",
    "    if len(alist)==1:\n",
    "        return alist\n",
    "    else:\n",
    "        blist =[alist[i:i+1] for i in range(0,len(alist),1)]\n",
    "    return blist  "
   ]
  },
  {
   "cell_type": "code",
   "execution_count": 26,
   "metadata": {},
   "outputs": [
    {
     "data": {
      "text/plain": [
       "[[17], [10], [2], [32], [87], [28], [45], [7]]"
      ]
     },
     "execution_count": 26,
     "metadata": {},
     "output_type": "execute_result"
    }
   ],
   "source": [
    "divide(alist)"
   ]
  },
  {
   "cell_type": "markdown",
   "metadata": {},
   "source": [
    "本來想分解成上面那樣 但是這樣好像就不是對半分 所以還是回到對半分的部分\n",
    "\n",
    "暫時看不出來()會有什麼影響 先假設不會有影響繼續寫合併"
   ]
  },
  {
   "cell_type": "markdown",
   "metadata": {},
   "source": [
    "接著想如何寫合併的部分 左右兩兩對比 小的放左大的放右 很直覺的分"
   ]
  },
  {
   "cell_type": "code",
   "execution_count": 86,
   "metadata": {},
   "outputs": [
    {
     "data": {
      "text/plain": [
       "[10, 17]"
      ]
     },
     "execution_count": 86,
     "metadata": {},
     "output_type": "execute_result"
    }
   ],
   "source": [
    "def divide(alist):\n",
    "    if len(alist)<=1:\n",
    "        return alist\n",
    "    else:\n",
    "        a=len(alist)\n",
    "        b=a//2\n",
    "        left=alist[0:b]\n",
    "        right=alist[b:a]\n",
    "    left=divide(left)\n",
    "    right=divide(right)\n",
    "    return left,right\n",
    "def Conquer(left,right):\n",
    "    if left>right:\n",
    "        return right+left\n",
    "    else:\n",
    "        return left+right\n",
    "Conquer(left,right)"
   ]
  },
  {
   "cell_type": "markdown",
   "metadata": {},
   "source": [
    "只有最左邊的出來 稍微改一下 把分解的直接return合併"
   ]
  },
  {
   "cell_type": "code",
   "execution_count": 87,
   "metadata": {},
   "outputs": [
    {
     "data": {
      "text/plain": [
       "[2, 32, 10, 17, 7, 45, 28, 87]"
      ]
     },
     "execution_count": 87,
     "metadata": {},
     "output_type": "execute_result"
    }
   ],
   "source": [
    "def divide(alist):\n",
    "    if len(alist)<=1:\n",
    "        return alist\n",
    "    else:\n",
    "        a=len(alist)\n",
    "        b=a//2\n",
    "        left=alist[0:b]\n",
    "        right=alist[b:a]\n",
    "    left=divide(left)\n",
    "    right=divide(right)\n",
    "    return Conquer(left,right)\n",
    "def Conquer(left,right):\n",
    "    if left>right:\n",
    "        return right+left\n",
    "    else:\n",
    "        return left+right\n",
    "divide(alist)"
   ]
  },
  {
   "cell_type": "markdown",
   "metadata": {},
   "source": [
    "兩兩到是比成功了 但是四個的對比沒成功"
   ]
  },
  {
   "cell_type": "markdown",
   "metadata": {},
   "source": [
    "左[0]跟右[0]比 如果左>右 把右丟進新list裡 左0跟右1比\n",
    "\n",
    "如何跟右1比?\n",
    "\n",
    "我先把比較小的丟到新list裡 接著把他從原本的list刪除 然後把剩下的回傳重新對比!!\n",
    "\n",
    "參考:https://www.runoob.com/python/python-lists.html (list.pop用法)\n",
    "\n",
    "出錯:沒考慮到其中一個list比完的狀況 會超出範圍\n",
    "\n",
    "解決:在設立條件 如果左邊先放完直接回傳右邊 同裡 右邊放完回傳左邊\n",
    "\n",
    "條件要設立在前面 一開始設在左>右後面就出錯了 \n",
    "\n",
    "因為這樣當list空掉以後會先進行左>右對比 然後才執行if==0"
   ]
  },
  {
   "cell_type": "code",
   "execution_count": 3,
   "metadata": {},
   "outputs": [
    {
     "data": {
      "text/plain": [
       "[2, 7, 10, 17, 28, 32, 45, 87]"
      ]
     },
     "execution_count": 3,
     "metadata": {},
     "output_type": "execute_result"
    }
   ],
   "source": [
    "alist=[17,10,2,32,87,28,45,7]\n",
    "def divide(alist):\n",
    "    if len(alist)<=1:\n",
    "        return alist\n",
    "    else:\n",
    "        a=len(alist)\n",
    "        b=a//2\n",
    "        left=alist[0:b]\n",
    "        right=alist[b:a]\n",
    "    left=divide(left)\n",
    "    right=divide(right)\n",
    "    return Conquer(left,right)\n",
    "def Conquer(left,right):\n",
    "    x=[]\n",
    "    if len(left)==0:\n",
    "        return right\n",
    "    if len(right)==0:\n",
    "        return left\n",
    "    if left[0]>right[0]:\n",
    "        x.append(right[0])\n",
    "        right.pop(0)\n",
    "        return x+Conquer(left,right)\n",
    "    else:\n",
    "        x.append(left[0])\n",
    "        left.pop(0)\n",
    "        return x+Conquer(left,right)\n",
    "divide(alist)"
   ]
  },
  {
   "cell_type": "markdown",
   "metadata": {},
   "source": [
    "# 測試值"
   ]
  },
  {
   "cell_type": "code",
   "execution_count": 4,
   "metadata": {},
   "outputs": [
    {
     "data": {
      "text/plain": [
       "[2, 7, 10, 17, 28, 32, 45, 87]"
      ]
     },
     "execution_count": 4,
     "metadata": {},
     "output_type": "execute_result"
    }
   ],
   "source": [
    "alist=[17,10,2,32,87,28,45,7]\n",
    "divide(alist)"
   ]
  },
  {
   "cell_type": "code",
   "execution_count": 5,
   "metadata": {},
   "outputs": [
    {
     "data": {
      "text/plain": [
       "[17, 20, 26, 31, 44, 54, 55, 77, 93]"
      ]
     },
     "execution_count": 5,
     "metadata": {},
     "output_type": "execute_result"
    }
   ],
   "source": [
    "alist=[54,26,93,17,77,31,44,55,20]\n",
    "divide(alist)"
   ]
  },
  {
   "cell_type": "code",
   "execution_count": 6,
   "metadata": {},
   "outputs": [
    {
     "data": {
      "text/plain": [
       "[0, 1, 5, 5, 8, 10, 22, 22, 65]"
      ]
     },
     "execution_count": 6,
     "metadata": {},
     "output_type": "execute_result"
    }
   ],
   "source": [
    "alist=[5,1,10,0,5,8,22,65,22]\n",
    "divide(alist)"
   ]
  },
  {
   "cell_type": "markdown",
   "metadata": {},
   "source": [
    "# class"
   ]
  },
  {
   "cell_type": "markdown",
   "metadata": {},
   "source": [
    "參考:https://blog.csdn.net/CLHugh/article/details/75000104 (class用法)"
   ]
  },
  {
   "cell_type": "code",
   "execution_count": 1,
   "metadata": {},
   "outputs": [],
   "source": [
    "class Solution(object):\n",
    "    def merge_sort(self,nums):\n",
    "        self.nums=nums\n",
    "        if len(nums)<=1:\n",
    "            return nums\n",
    "        else:\n",
    "            a=len(nums)\n",
    "            b=a//2\n",
    "            left=nums[0:b]\n",
    "            right=nums[b:a]\n",
    "        left=Solution().merge_sort(left)\n",
    "        right=Solution().merge_sort(right)\n",
    "        return Solution().Conquer(left,right)\n",
    "    def Conquer(self,left,right):\n",
    "        self.left=left\n",
    "        self.right=right\n",
    "        x=[]\n",
    "        if len(left)==0:\n",
    "            return right\n",
    "        if len(right)==0:\n",
    "            return left\n",
    "        if left[0]>right[0]:\n",
    "            x.append(right[0])\n",
    "            right.pop(0)\n",
    "            return x+Solution().Conquer(left,right)\n",
    "        else:\n",
    "            x.append(left[0])\n",
    "            left.pop(0)\n",
    "        return x+Solution().Conquer(left,right)"
   ]
  },
  {
   "cell_type": "code",
   "execution_count": 2,
   "metadata": {},
   "outputs": [
    {
     "data": {
      "text/plain": [
       "[-4, 2, 2, 3, 4, 6, 19]"
      ]
     },
     "execution_count": 2,
     "metadata": {},
     "output_type": "execute_result"
    }
   ],
   "source": [
    "output=Solution().merge_sort([3,2,-4,6,4,2,19])\n",
    "output"
   ]
  },
  {
   "cell_type": "code",
   "execution_count": 3,
   "metadata": {},
   "outputs": [
    {
     "data": {
      "text/plain": [
       "[0, 0, 1, 1, 2, 5]"
      ]
     },
     "execution_count": 3,
     "metadata": {},
     "output_type": "execute_result"
    }
   ],
   "source": [
    "output=Solution().merge_sort([5,1,1,2,0,0])\n",
    "output"
   ]
  },
  {
   "cell_type": "markdown",
   "metadata": {},
   "source": [
    "# 參考\n",
    "\n",
    "https://www.runoob.com/python/python-lists.html (列表分割)\n",
    "\n",
    "https://peiqiang.net/2017/05/07/split-list-in-fixed-length.html (列表分割)\n",
    "\n",
    "https://medium.com/appworks-school/%E5%88%9D%E5%AD%B8%E8%80%85%E5%AD%B8%E6%BC%94%E7%AE%97%E6%B3%95-%E6%8E%92%E5%BA%8F%E6%B3%95%E9%80%B2%E9%9A%8E-%E5%90%88%E4%BD%B5%E6%8E%92%E5%BA%8F%E6%B3%95-6252651c6f7e\n",
    "\n",
    "http://alrightchiu.github.io/SecondRound/comparison-sort-merge-sorthe-bing-pai-xu-fa.html\n",
    "\n",
    "https://blog.csdn.net/CLHugh/article/details/75000104 (class用法)"
   ]
  }
 ],
 "metadata": {
  "kernelspec": {
   "display_name": "Python 3",
   "language": "python",
   "name": "python3"
  },
  "language_info": {
   "codemirror_mode": {
    "name": "ipython",
    "version": 3
   },
   "file_extension": ".py",
   "mimetype": "text/x-python",
   "name": "python",
   "nbconvert_exporter": "python",
   "pygments_lexer": "ipython3",
   "version": "3.7.1"
  }
 },
 "nbformat": 4,
 "nbformat_minor": 2
}
