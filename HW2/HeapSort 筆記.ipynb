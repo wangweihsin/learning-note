{
 "cells": [
  {
   "cell_type": "markdown",
   "metadata": {},
   "source": [
    "# Heap Sort 堆積排序法"
   ]
  },
  {
   "cell_type": "markdown",
   "metadata": {},
   "source": [
    "概念:像樹狀圖一樣，每個父母下面有兩個孩子，最底層可以有缺(只有一個或沒有)。父母必須比子女大(小)，最上層的父母最大(小)。"
   ]
  },
  {
   "cell_type": "markdown",
   "metadata": {},
   "source": [
    "1.max heap(最大堆積)\n",
    "\n",
    "最上層的數字(root)必大於下面所有數\n",
    "\n",
    "2.min heap(最小堆積)\n",
    "\n",
    "最上層的數字(root)必小於下面所有數"
   ]
  },
  {
   "cell_type": "markdown",
   "metadata": {},
   "source": [
    "# 流程圖"
   ]
  },
  {
   "cell_type": "markdown",
   "metadata": {},
   "source": [
    "![流程圖](https://github.com/wangweihsin/learning-note/blob/master/%E5%9C%96%E7%89%87/Heapsort%E6%B5%81%E7%A8%8B%E5%9C%96.jpg?raw=true)"
   ]
  },
  {
   "cell_type": "markdown",
   "metadata": {},
   "source": [
    "# 過程"
   ]
  },
  {
   "cell_type": "markdown",
   "metadata": {},
   "source": [
    "以下用max heap來說明排序過程\n",
    "\n",
    "將list中的元素從最上方一路放下來後 由左至右 子節永遠小於父節\n",
    "\n",
    "一但孩子比父母大 就往上移動 這樣一來最大的值就會在最上方\n",
    "\n",
    "將最上方(最大值)拿掉 把最下方的孩子拿到第一個重新排序\n",
    "\n",
    "不斷重複"
   ]
  },
  {
   "cell_type": "markdown",
   "metadata": {},
   "source": [
    "# 程式碼"
   ]
  },
  {
   "cell_type": "markdown",
   "metadata": {},
   "source": [
    "HeapSort最主要的就是一個父節點下面有兩個子節點\n",
    "\n",
    "在此我用minheap來寫\n",
    "\n",
    "先將list分堆\n",
    "\n",
    "因為父節點是(i) 子節點是(2i)(2i+1)\n",
    "\n",
    "讓父節點不在0 所以塞一個數字卡在0"
   ]
  },
  {
   "cell_type": "markdown",
   "metadata": {},
   "source": [
    "參考:https://www.runoob.com/python/python-lists.html (insert用法)"
   ]
  },
  {
   "cell_type": "code",
   "execution_count": 30,
   "metadata": {},
   "outputs": [
    {
     "data": {
      "text/plain": [
       "[0, 17, 10, 32, 2, 87, 28]"
      ]
     },
     "execution_count": 30,
     "metadata": {},
     "output_type": "execute_result"
    }
   ],
   "source": [
    "alist=[17,10,32,2,87,28]\n",
    "alist.insert(0, 0)\n",
    "alist"
   ]
  },
  {
   "cell_type": "markdown",
   "metadata": {},
   "source": [
    "參考:https://blog.csdn.net/cdl10000/article/details/80871642 (range範圍)"
   ]
  },
  {
   "cell_type": "code",
   "execution_count": 87,
   "metadata": {},
   "outputs": [
    {
     "name": "stdout",
     "output_type": "stream",
     "text": [
      "17\n",
      "10\n",
      "32\n"
     ]
    }
   ],
   "source": [
    "alist=[17,10,32,2,87,28]\n",
    "alist.insert(0, 0)\n",
    "for i in range(1,len(alist)//2+1):\n",
    "    father=alist[i] #父節點\n",
    "    print(father)"
   ]
  },
  {
   "cell_type": "markdown",
   "metadata": {},
   "source": [
    "出錯:直接另左右子節點為(2i)(2i+1)的話會超過範圍"
   ]
  },
  {
   "cell_type": "code",
   "execution_count": 59,
   "metadata": {},
   "outputs": [
    {
     "ename": "IndexError",
     "evalue": "list index out of range",
     "output_type": "error",
     "traceback": [
      "\u001b[1;31m---------------------------------------------------------------------------\u001b[0m",
      "\u001b[1;31mIndexError\u001b[0m                                Traceback (most recent call last)",
      "\u001b[1;32m<ipython-input-59-ed2e3e254ff2>\u001b[0m in \u001b[0;36m<module>\u001b[1;34m\u001b[0m\n\u001b[0;32m      4\u001b[0m     \u001b[0mfather\u001b[0m\u001b[1;33m=\u001b[0m\u001b[0malist\u001b[0m\u001b[1;33m[\u001b[0m\u001b[0mi\u001b[0m\u001b[1;33m]\u001b[0m \u001b[1;31m#父節點\u001b[0m\u001b[1;33m\u001b[0m\u001b[1;33m\u001b[0m\u001b[0m\n\u001b[0;32m      5\u001b[0m     \u001b[0mleftson\u001b[0m\u001b[1;33m=\u001b[0m\u001b[0malist\u001b[0m\u001b[1;33m[\u001b[0m\u001b[1;36m2\u001b[0m\u001b[1;33m*\u001b[0m\u001b[0mi\u001b[0m\u001b[1;33m]\u001b[0m\u001b[1;33m\u001b[0m\u001b[1;33m\u001b[0m\u001b[0m\n\u001b[1;32m----> 6\u001b[1;33m     \u001b[0mrightson\u001b[0m\u001b[1;33m=\u001b[0m\u001b[0malist\u001b[0m\u001b[1;33m[\u001b[0m\u001b[1;36m2\u001b[0m\u001b[1;33m*\u001b[0m\u001b[0mi\u001b[0m\u001b[1;33m+\u001b[0m\u001b[1;36m1\u001b[0m\u001b[1;33m]\u001b[0m\u001b[1;33m\u001b[0m\u001b[1;33m\u001b[0m\u001b[0m\n\u001b[0m",
      "\u001b[1;31mIndexError\u001b[0m: list index out of range"
     ]
    }
   ],
   "source": [
    "alist=[17,10,32,2,87,28]\n",
    "alist.insert(0, 0)\n",
    "for i in range(1,len(alist)//2+1):\n",
    "    father=alist[i] #父節點\n",
    "    leftson=alist[2*i]\n",
    "    rightson=alist[2*i+1]"
   ]
  },
  {
   "cell_type": "markdown",
   "metadata": {},
   "source": [
    "解決:多設條件 if(2*i)<len(alist) 在範圍裡才能變成左右子節點 \n",
    "\n",
    "大於的話就沒東西可以比"
   ]
  },
  {
   "cell_type": "code",
   "execution_count": 72,
   "metadata": {},
   "outputs": [
    {
     "data": {
      "text/plain": [
       "(17, 10, 32)"
      ]
     },
     "execution_count": 72,
     "metadata": {},
     "output_type": "execute_result"
    }
   ],
   "source": [
    "alist=[17,10,32,2,87,28]\n",
    "def heap(alist): #分堆\n",
    "    alist.insert(0, 0)\n",
    "    for i in range(1,len(alist)//2+1):\n",
    "        father=alist[i] #父節點\n",
    "        left=2*i\n",
    "        right=2*i+1\n",
    "        if left<len(alist): #左子節\n",
    "            leftson=alist[left]\n",
    "        else:\n",
    "            leftson=''\n",
    "        if right<len(alist): #右子節\n",
    "            rightson=alist[right]\n",
    "        else:\n",
    "            rightson=''\n",
    "        return father,leftson,rightson\n",
    "heap(alist)"
   ]
  },
  {
   "cell_type": "markdown",
   "metadata": {},
   "source": [
    "### 我寫minheap"
   ]
  },
  {
   "cell_type": "markdown",
   "metadata": {},
   "source": [
    "讓最小的成為父節點\n",
    "\n",
    "參考:https://www.twblogs.net/a/5c2db9d5bd9eee35b3a480da (互換)"
   ]
  },
  {
   "cell_type": "code",
   "execution_count": 10,
   "metadata": {},
   "outputs": [
    {
     "name": "stdout",
     "output_type": "stream",
     "text": [
      "10 17 32\n"
     ]
    },
    {
     "data": {
      "text/plain": [
       "[0, 17, 10, 32, 2, 87, 28]"
      ]
     },
     "execution_count": 10,
     "metadata": {},
     "output_type": "execute_result"
    }
   ],
   "source": [
    "alist=[17,10,32,2,87,28]\n",
    "alist.insert(0, 0)\n",
    "father=alist[1]\n",
    "leftson=alist[2]\n",
    "rightson=alist[3]\n",
    "if father>leftson: #父>左子\n",
    "    if leftson<rightson: #如果左子最小 父跟左子互換\n",
    "        a=father\n",
    "        father=leftson\n",
    "        leftson=a\n",
    "if father>rightson: #父>右子\n",
    "    if rightson<leftson:#右子最小\n",
    "        a=father #父跟右換\n",
    "        father=rightson\n",
    "        rightson=a\n",
    "print(father,leftson,rightson)\n",
    "alist"
   ]
  },
  {
   "cell_type": "markdown",
   "metadata": {},
   "source": [
    "互換是成功了 但是alist實際上是沒互換到的\n",
    "\n",
    "所以挑整一下互換那裡的程式碼"
   ]
  },
  {
   "cell_type": "code",
   "execution_count": 52,
   "metadata": {},
   "outputs": [
    {
     "data": {
      "text/plain": [
       "[0, 10, 17, 32, 2, 87, 28]"
      ]
     },
     "execution_count": 52,
     "metadata": {},
     "output_type": "execute_result"
    }
   ],
   "source": [
    "alist=[17,10,32,2,87,28]\n",
    "alist.insert(0, 0)\n",
    "father=alist[1]\n",
    "leftson=alist[2]\n",
    "rightson=alist[3]\n",
    "if father>leftson: #父>左子\n",
    "    if leftson<rightson: #如果左子最小 父跟左子互換\n",
    "        a=alist[1]\n",
    "        alist[1]=alist[2]\n",
    "        alist[2]=a\n",
    "if father>rightson: #父>右子\n",
    "    if rightson<leftson:#右子最小\n",
    "        a=alist[1] #父跟右換\n",
    "        alist[1]=alist[3]\n",
    "        alist[3]=a\n",
    "alist"
   ]
  },
  {
   "cell_type": "markdown",
   "metadata": {},
   "source": [
    "[1],[2],[3]對比成功 換對[2],[4],[5]"
   ]
  },
  {
   "cell_type": "code",
   "execution_count": 53,
   "metadata": {},
   "outputs": [
    {
     "data": {
      "text/plain": [
       "[0, 10, 2, 32, 17, 87, 28]"
      ]
     },
     "execution_count": 53,
     "metadata": {},
     "output_type": "execute_result"
    }
   ],
   "source": [
    "father=alist[2]\n",
    "leftson=alist[4]\n",
    "rightson=alist[5]\n",
    "if father>leftson: #父>左子\n",
    "    if leftson<rightson: #如果左子最小 父跟左子互換\n",
    "        a=alist[2]\n",
    "        alist[2]=alist[4]\n",
    "        alist[4]=a\n",
    "if father>rightson: #父>右子\n",
    "    if rightson<leftson:#右子最小\n",
    "        a=alist[2] #父跟右換\n",
    "        alist[2]=alist[5]\n",
    "        alist[5]=a\n",
    "alist"
   ]
  },
  {
   "cell_type": "markdown",
   "metadata": {},
   "source": [
    "數字2成為父節點 這時2又要跟上面的父節點比"
   ]
  },
  {
   "cell_type": "code",
   "execution_count": 54,
   "metadata": {},
   "outputs": [
    {
     "data": {
      "text/plain": [
       "[0, 2, 10, 32, 17, 87, 28]"
      ]
     },
     "execution_count": 54,
     "metadata": {},
     "output_type": "execute_result"
    }
   ],
   "source": [
    "father=alist[1]\n",
    "leftson=alist[2]\n",
    "rightson=alist[3]\n",
    "if father>leftson: #父>左子\n",
    "    if leftson<rightson: #如果左子最小 父跟左子互換\n",
    "        a=alist[1]\n",
    "        alist[1]=alist[2]\n",
    "        alist[2]=a\n",
    "if father>rightson: #父>右子\n",
    "    if rightson<leftson:#右子最小\n",
    "        a=alist[1] #父跟右換\n",
    "        alist[1]=alist[3]\n",
    "        alist[3]=a\n",
    "alist"
   ]
  },
  {
   "cell_type": "markdown",
   "metadata": {},
   "source": [
    "接著對比[6]"
   ]
  },
  {
   "cell_type": "code",
   "execution_count": 56,
   "metadata": {},
   "outputs": [
    {
     "data": {
      "text/plain": [
       "[0, 2, 10, 28, 17, 87, 32]"
      ]
     },
     "execution_count": 56,
     "metadata": {},
     "output_type": "execute_result"
    }
   ],
   "source": [
    "alist=[0, 2, 10, 32, 17, 87, 28]\n",
    "father=alist[3]\n",
    "leftson=alist[6]\n",
    "#rightson=alist[7] 不存在\n",
    "if father>leftson: #父>左子\n",
    "    #if leftson<rightson: #如果左子最小 父跟左子互換\n",
    "    a=alist[3]\n",
    "    alist[3]=alist[6]\n",
    "    alist[6]=a\n",
    "#不存在\n",
    "#if father>rightson: #父>右子\n",
    "    #if rightson<leftson:#右子最小\n",
    "        #a=alist[3] #父跟右換\n",
    "        #alist[3]=alist[7]\n",
    "        #alist[7]=a\n",
    "alist"
   ]
  },
  {
   "cell_type": "markdown",
   "metadata": {},
   "source": [
    "改寫成def"
   ]
  },
  {
   "cell_type": "code",
   "execution_count": 28,
   "metadata": {},
   "outputs": [
    {
     "data": {
      "text/plain": [
       "[0, 10, 17, 32, 2, 87, 28]"
      ]
     },
     "execution_count": 28,
     "metadata": {},
     "output_type": "execute_result"
    }
   ],
   "source": [
    "alist=[17,10,32,2,87,28]\n",
    "def heap(alist): #分堆\n",
    "    alist.insert(0, 0)\n",
    "    for i in range(1,len(alist)//2+1):\n",
    "        father=alist[i] #父節點\n",
    "        left=2*i\n",
    "        right=2*i+1\n",
    "        if left<len(alist): #左子節\n",
    "            leftson=alist[left]\n",
    "        else:\n",
    "            leftson=''\n",
    "        if right<len(alist): #右子節\n",
    "            rightson=alist[right]\n",
    "        else:\n",
    "            rightson=''\n",
    "        return min(father,leftson,rightson,i)\n",
    "def min(father,leftson,rightson,i):\n",
    "    if father>leftson: #父>左子\n",
    "        if leftson<rightson: #如果左子最小 父跟左子互換\n",
    "            a=alist[i]\n",
    "            alist[i]=alist[2*i]\n",
    "            alist[2*i]=a\n",
    "    if father>rightson: #父>右子\n",
    "        if rightson<leftson:#右子最小\n",
    "            a=alist[i] #父跟右換\n",
    "            alist[i]=alist[2*i+1]\n",
    "            alist[2*i+1]=a\n",
    "    return alist\n",
    "heap(alist)"
   ]
  },
  {
   "cell_type": "markdown",
   "metadata": {},
   "source": [
    "問題:對比不完全"
   ]
  },
  {
   "cell_type": "markdown",
   "metadata": {},
   "source": [
    "### 重寫一次\n",
    "\n",
    "原本想讓min整理完再丟回去分堆 可是這樣的話會有很多問題\n",
    "\n",
    "首先是丟回heap的話alist又會多加一個0在最前面\n",
    "\n",
    "所以乾脆把+0這部份自己寫個def"
   ]
  },
  {
   "cell_type": "code",
   "execution_count": 6,
   "metadata": {},
   "outputs": [
    {
     "data": {
      "text/plain": [
       "[0, 17, 10, 32, 2, 87, 28]"
      ]
     },
     "execution_count": 6,
     "metadata": {},
     "output_type": "execute_result"
    }
   ],
   "source": [
    "alist=[17,10,32,2,87,28]\n",
    "def heap_sort(alist): #前面隨便塞個數 \n",
    "    alist=[0]+alist\n",
    "    return alist\n",
    "heap_sort(alist)"
   ]
  },
  {
   "cell_type": "markdown",
   "metadata": {},
   "source": [
    "一開始寫錯了 從頭開始就開始排序 改成list分堆完後再從最後排序\n",
    "\n",
    "參考:https://www.itread01.com/content/1543115670.html (list從後往前)"
   ]
  },
  {
   "cell_type": "code",
   "execution_count": 40,
   "metadata": {},
   "outputs": [
    {
     "name": "stdout",
     "output_type": "stream",
     "text": [
      "3\n",
      "2\n",
      "1\n"
     ]
    }
   ],
   "source": [
    "alist=[0,17,10,32,2,87,28]\n",
    "for i in range(len(alist)//2,0,-1): #父節點的i\n",
    "    print(i)"
   ]
  },
  {
   "cell_type": "markdown",
   "metadata": {},
   "source": [
    "# 分堆\n",
    "\n",
    "原本我是這樣寫分堆 只單看第一次分堆的話是對的\n",
    "\n",
    "但是全部串起來後會出錯"
   ]
  },
  {
   "cell_type": "code",
   "execution_count": 9,
   "metadata": {},
   "outputs": [
    {
     "data": {
      "text/plain": [
       "[0, 2, 17, 28, 10, 87, 32]"
      ]
     },
     "execution_count": 9,
     "metadata": {},
     "output_type": "execute_result"
    }
   ],
   "source": [
    "alist=[0,17,10,32,2,87,28]\n",
    "def heap(alist):\n",
    "    for i in range(len(alist)//2,0,-1):\n",
    "        root=i\n",
    "        left=2*i\n",
    "        right=2*i+1\n",
    "        father=alist[root]#父節點\n",
    "        if left<len(alist): #左節點\n",
    "            leftson=alist[left]\n",
    "            if leftson<father:     #如果左節點比父節點小\n",
    "                a=alist[root]\n",
    "                alist[root]=alist[left]\n",
    "                alist[left]=a #root換成2i\n",
    "        if right<len(alist): #右節點\n",
    "            rightson=alist[right]\n",
    "            if rightson<father: #如果右節點比父節點小\n",
    "                a=alist[root] #父跟右換\n",
    "                alist[root]=alist[right]\n",
    "                alist[right]=a\n",
    "    return alist\n",
    "heap(alist)"
   ]
  },
  {
   "cell_type": "markdown",
   "metadata": {},
   "source": [
    "最小的出來了 接著把它拿掉放進新list裡\n",
    "\n",
    "把最後一個放到第一個位置去"
   ]
  },
  {
   "cell_type": "code",
   "execution_count": 57,
   "metadata": {},
   "outputs": [
    {
     "data": {
      "text/plain": [
       "[0, 32, 17, 28, 10, 87]"
      ]
     },
     "execution_count": 57,
     "metadata": {},
     "output_type": "execute_result"
    }
   ],
   "source": [
    "alist=[0, 2, 17, 28, 10, 87, 32]\n",
    "x=[]\n",
    "def newlist(alist):\n",
    "    x.append(alist[1]) #把最小的丟到新list裡\n",
    "\n",
    "    a=alist[1] #互換\n",
    "    alist[1]=alist[len(alist)-1]\n",
    "    alist[len(alist)-1]=a\n",
    "\n",
    "    alist.pop(len(alist)-1) #去掉最後一位\n",
    "    return alist\n",
    "newlist(alist)"
   ]
  },
  {
   "cell_type": "code",
   "execution_count": 10,
   "metadata": {},
   "outputs": [
    {
     "data": {
      "text/plain": [
       "[2, 28, 10, 17, 32, 87]"
      ]
     },
     "execution_count": 10,
     "metadata": {},
     "output_type": "execute_result"
    }
   ],
   "source": [
    "alist=[17,10,32,2,87,28]\n",
    "def heap_sort(alist): #前面隨便塞個數 \n",
    "    alist=[0]+alist\n",
    "    return heap(alist)\n",
    "def heap(alist):\n",
    "    for i in range(len(alist)//2,0,-1):\n",
    "        root=i\n",
    "        left=2*i\n",
    "        right=2*i+1\n",
    "        father=alist[root]#父節點\n",
    "        if left<len(alist): #左節點\n",
    "            leftson=alist[left]\n",
    "            if leftson<father:     #如果左節點比父節點小\n",
    "                a=alist[root]\n",
    "                alist[root]=alist[left]\n",
    "                alist[left]=a #root換成2i\n",
    "        if right<len(alist): #右節點\n",
    "            rightson=alist[right]\n",
    "            if rightson<father: #如果右節點比父節點小\n",
    "                a=alist[root] #父跟右換\n",
    "                alist[root]=alist[right]\n",
    "                alist[right]=a\n",
    "    return newlist(alist)\n",
    "x=[]\n",
    "def newlist(alist):\n",
    "    x.append(alist[1]) #把最小的丟到新list裡\n",
    "\n",
    "    a=alist[1] #互換\n",
    "    alist[1]=alist[len(alist)-1]\n",
    "    alist[len(alist)-1]=a\n",
    "\n",
    "    alist.pop(len(alist)-1) #去掉最後一位\n",
    "    if len(alist)>1:\n",
    "        return heap(alist)\n",
    "    else:\n",
    "        return x\n",
    "heap_sort(alist)"
   ]
  },
  {
   "cell_type": "markdown",
   "metadata": {},
   "source": [
    "回頭看分堆 會發現說當去掉一個數以後len=6\n",
    "\n",
    "i=3的時候 father=28\n",
    "\n",
    "結果跑i=2的時候就會跟i=3的位置互換"
   ]
  },
  {
   "cell_type": "code",
   "execution_count": 11,
   "metadata": {},
   "outputs": [
    {
     "data": {
      "text/plain": [
       "[0, 10, 32, 28, 17, 87]"
      ]
     },
     "execution_count": 11,
     "metadata": {},
     "output_type": "execute_result"
    }
   ],
   "source": [
    "alist=[0, 32, 17, 28, 10, 87]\n",
    "def heap(alist):\n",
    "    for i in range(len(alist)//2,0,-1):\n",
    "        root=i\n",
    "        left=2*i\n",
    "        right=2*i+1\n",
    "        if left<len(alist): #左節點\n",
    "            father=alist[root]#父節點\n",
    "            leftson=alist[left]\n",
    "            if leftson<father:     #如果左節點比父節點小\n",
    "                a=alist[root]\n",
    "                alist[root]=alist[left]\n",
    "                alist[left]=a #root換成2i\n",
    "        if right<len(alist): #右節點\n",
    "            father=alist[root]#父節點\n",
    "            rightson=alist[right]\n",
    "            if rightson<father: #如果右節點比父節點小\n",
    "                a=alist[root] #父跟右換\n",
    "                alist[root]=alist[right]\n",
    "                alist[right]=a\n",
    "    return alist\n",
    "heap(alist)"
   ]
  },
  {
   "cell_type": "markdown",
   "metadata": {},
   "source": [
    "改正 把father的條件設在if裡面 有子節點才有父節點"
   ]
  },
  {
   "cell_type": "code",
   "execution_count": 8,
   "metadata": {},
   "outputs": [
    {
     "data": {
      "text/plain": [
       "[2, 10, 17, 28, 32, 87]"
      ]
     },
     "execution_count": 8,
     "metadata": {},
     "output_type": "execute_result"
    }
   ],
   "source": [
    "alist=[17,10,32,2,87,28]\n",
    "def heap_sort(alist): #前面隨便塞個數 \n",
    "    alist=[0]+alist\n",
    "    return heap(alist)\n",
    "def heap(alist):\n",
    "    for i in range(len(alist)//2,0,-1):\n",
    "        root=i\n",
    "        left=2*i\n",
    "        right=2*i+1\n",
    "        if left<len(alist): #左節點\n",
    "            father=alist[root]#父節點\n",
    "            leftson=alist[left]\n",
    "            if leftson<father:     #如果左節點比父節點小\n",
    "                a=alist[root]\n",
    "                alist[root]=alist[left]\n",
    "                alist[left]=a #root換成2i\n",
    "        if right<len(alist): #右節點\n",
    "            father=alist[root]#父節點\n",
    "            rightson=alist[right]\n",
    "            if rightson<father: #如果右節點比父節點小\n",
    "                a=alist[root] #父跟右換\n",
    "                alist[root]=alist[right]\n",
    "                alist[right]=a\n",
    "    return newlist(alist)\n",
    "x=[]\n",
    "def newlist(alist):\n",
    "\n",
    "    x.append(alist[1]) #把最小的丟到新list裡\n",
    "\n",
    "    a=alist[1] #互換\n",
    "    alist[1]=alist[len(alist)-1]\n",
    "    alist[len(alist)-1]=a\n",
    "\n",
    "    alist.pop(len(alist)-1) #去掉最後一位\n",
    "    if len(alist)>1:\n",
    "        return heap(alist)\n",
    "    else:\n",
    "        return x\n",
    "heap_sort(alist)"
   ]
  },
  {
   "cell_type": "markdown",
   "metadata": {},
   "source": [
    "問題:前一個測試值會累加在下一個測試值裡\n",
    "\n",
    "解決:因為把x=[]放在外面才會這樣"
   ]
  },
  {
   "cell_type": "code",
   "execution_count": 49,
   "metadata": {},
   "outputs": [
    {
     "data": {
      "text/plain": [
       "[2, 10, 17, 28, 32, 87]"
      ]
     },
     "execution_count": 49,
     "metadata": {},
     "output_type": "execute_result"
    }
   ],
   "source": [
    "alist=[17,10,32,2,87,28]\n",
    "def heap_sort(alist): #前面隨便塞個數\n",
    "    alist=[0]+alist\n",
    "    return heap(alist)\n",
    "def heap(alist):\n",
    "    for i in range(len(alist)//2,0,-1):\n",
    "        root=i\n",
    "        left=2*i\n",
    "        right=2*i+1\n",
    "        if left<len(alist): #左節點\n",
    "            if alist[left]<alist[root]: #如果左節點比root小\n",
    "                root=left #root換成2i\n",
    "        if right<len(alist): #右節點\n",
    "            if alist[right]<alist[root]:\n",
    "                    root=right\n",
    "        if root!=i: #如果root不等於一開始的i 把alist裡的位置替換\n",
    "            a=alist[i]\n",
    "            alist[i]=alist[root]\n",
    "            alist[root]=a\n",
    "    return newlist(alist)\n",
    "\n",
    "def newlist(alist):\n",
    "    x=[]\n",
    "    if len(alist)>1:\n",
    "        x.append(alist[1]) #把最小的丟到新list裡\n",
    "\n",
    "        a=alist[1] #互換\n",
    "        alist[1]=alist[len(alist)-1]\n",
    "        alist[len(alist)-1]=a\n",
    "\n",
    "        alist.pop(len(alist)-1) #去掉最後一位\n",
    "        return x+heap(alist)\n",
    "    else:\n",
    "        return x\n",
    "heap_sort(alist)"
   ]
  },
  {
   "cell_type": "markdown",
   "metadata": {},
   "source": [
    "# class"
   ]
  },
  {
   "cell_type": "code",
   "execution_count": 50,
   "metadata": {},
   "outputs": [],
   "source": [
    "class Solution(object):\n",
    "    def heap_sort(self,nums): #前面隨便塞個數\n",
    "        self.nums=nums\n",
    "        nums=[0]+nums\n",
    "        return heap(nums)\n",
    "    def heap(alist):\n",
    "        for i in range(len(alist)//2,0,-1):\n",
    "            root=i\n",
    "            left=2*i\n",
    "            right=2*i+1\n",
    "            if left<len(alist): #左節點\n",
    "                father=alist[root]#父節點\n",
    "                leftson=alist[left]\n",
    "                if leftson<father:     #如果左節點比父節點小\n",
    "                    a=alist[root]\n",
    "                    alist[root]=alist[left]\n",
    "                    alist[left]=a #root換成2i\n",
    "            if right<len(alist): #右節點\n",
    "                father=alist[root]#父節點\n",
    "                rightson=alist[right]\n",
    "                if rightson<father: #如果右節點比父節點小\n",
    "                    a=alist[root] #父跟右換\n",
    "                    alist[root]=alist[right]\n",
    "                    alist[right]=a\n",
    "        return newlist(alist)\n",
    "\n",
    "    def newlist(alist):\n",
    "        x=[]\n",
    "        if len(alist)>1:\n",
    "            x.append(alist[1]) #把最小的丟到新list裡\n",
    "\n",
    "            a=alist[1] #互換\n",
    "            alist[1]=alist[len(alist)-1]\n",
    "            alist[len(alist)-1]=a\n",
    "\n",
    "            alist.pop(len(alist)-1) #去掉最後一位\n",
    "            return x+heap(alist)\n",
    "        else:\n",
    "            return x"
   ]
  },
  {
   "cell_type": "markdown",
   "metadata": {},
   "source": [
    "# 測試值"
   ]
  },
  {
   "cell_type": "code",
   "execution_count": 51,
   "metadata": {},
   "outputs": [
    {
     "data": {
      "text/plain": [
       "[-4, 2, 2, 3, 4, 6, 19]"
      ]
     },
     "execution_count": 51,
     "metadata": {},
     "output_type": "execute_result"
    }
   ],
   "source": [
    "output=Solution().heap_sort([3,2,-4,6,4,2,19])\n",
    "output"
   ]
  },
  {
   "cell_type": "code",
   "execution_count": 53,
   "metadata": {},
   "outputs": [
    {
     "data": {
      "text/plain": [
       "[0, 0, 1, 1, 2, 5]"
      ]
     },
     "execution_count": 53,
     "metadata": {},
     "output_type": "execute_result"
    }
   ],
   "source": [
    "output=Solution().heap_sort([5,1,1,2,0,0])\n",
    "output"
   ]
  },
  {
   "cell_type": "markdown",
   "metadata": {},
   "source": [
    "# 參考\n",
    "\n",
    "http://alrightchiu.github.io/SecondRound/comparison-sort-heap-sortdui-ji-pai-xu-fa.html\n",
    "\n",
    "https://magiclen.org/heap-sort/\n",
    "\n",
    "http://marklin-blog.logdown.com/posts/1910116\n",
    "\n",
    "https://algorithm.yuanbin.me/zh-tw/basics_data_structure/heap.html"
   ]
  }
 ],
 "metadata": {
  "kernelspec": {
   "display_name": "Python 3",
   "language": "python",
   "name": "python3"
  },
  "language_info": {
   "codemirror_mode": {
    "name": "ipython",
    "version": 3
   },
   "file_extension": ".py",
   "mimetype": "text/x-python",
   "name": "python",
   "nbconvert_exporter": "python",
   "pygments_lexer": "ipython3",
   "version": "3.7.1"
  }
 },
 "nbformat": 4,
 "nbformat_minor": 2
}
