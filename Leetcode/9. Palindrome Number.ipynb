{
 "cells": [
  {
   "cell_type": "markdown",
   "metadata": {},
   "source": [
    "# 9. Palindrome Number\n",
    "\n",
    "題目:數字倒過來一樣\n",
    "\n",
    "ex: 121->121(0) -121->121-(x)\n",
    "\n",
    "想法:先將數字顛倒過來 如果相等回傳\n",
    "\n",
    "如果數字是負數顛倒一定不一樣 所以直接false"
   ]
  },
  {
   "cell_type": "code",
   "execution_count": 40,
   "metadata": {},
   "outputs": [],
   "source": [
    "class Solution:\n",
    "    def isPalindrome(self, x: int) -> int:\n",
    "        if x<0:\n",
    "            return False\n",
    "        else:\n",
    "            y=0\n",
    "            while x!=0:\n",
    "                y=y*10+x%10\n",
    "                x=x//10\n",
    "            return x==y"
   ]
  },
  {
   "cell_type": "code",
   "execution_count": 41,
   "metadata": {},
   "outputs": [
    {
     "data": {
      "text/plain": [
       "False"
      ]
     },
     "execution_count": 41,
     "metadata": {},
     "output_type": "execute_result"
    }
   ],
   "source": [
    "Solution().isPalindrome(121)"
   ]
  },
  {
   "cell_type": "code",
   "execution_count": 43,
   "metadata": {},
   "outputs": [
    {
     "data": {
      "text/plain": [
       "0"
      ]
     },
     "execution_count": 43,
     "metadata": {},
     "output_type": "execute_result"
    }
   ],
   "source": [
    "class Solution:\n",
    "    def isPalindrome(self, x: int) -> int:\n",
    "        if x<0:\n",
    "            return False\n",
    "        else:\n",
    "            y=0\n",
    "            while x!=0:\n",
    "                y=y*10+x%10\n",
    "                x=x//10\n",
    "            return x\n",
    "Solution().isPalindrome(121)"
   ]
  },
  {
   "cell_type": "markdown",
   "metadata": {},
   "source": [
    "問題:一開始用第7題的顛倒法想直接回傳 結果發現這樣x會被覆蓋會等於0\n",
    "\n",
    "解決:所以先設個z=x 用z跑顛倒數"
   ]
  },
  {
   "cell_type": "code",
   "execution_count": 32,
   "metadata": {},
   "outputs": [],
   "source": [
    "class Solution:\n",
    "    def isPalindrome(self, x: int) -> bool:\n",
    "        if x<0:\n",
    "            return False\n",
    "        else:\n",
    "            y=0\n",
    "            z=x\n",
    "            while z!=0:\n",
    "                y=y*10+z%10\n",
    "                z=z//10\n",
    "            return x==y"
   ]
  },
  {
   "cell_type": "code",
   "execution_count": 33,
   "metadata": {},
   "outputs": [
    {
     "data": {
      "text/plain": [
       "True"
      ]
     },
     "execution_count": 33,
     "metadata": {},
     "output_type": "execute_result"
    }
   ],
   "source": [
    "Solution().isPalindrome(121)"
   ]
  },
  {
   "cell_type": "code",
   "execution_count": 34,
   "metadata": {},
   "outputs": [
    {
     "data": {
      "text/plain": [
       "False"
      ]
     },
     "execution_count": 34,
     "metadata": {},
     "output_type": "execute_result"
    }
   ],
   "source": [
    "Solution().isPalindrome(-123)"
   ]
  },
  {
   "cell_type": "code",
   "execution_count": 35,
   "metadata": {},
   "outputs": [
    {
     "data": {
      "text/plain": [
       "False"
      ]
     },
     "execution_count": 35,
     "metadata": {},
     "output_type": "execute_result"
    }
   ],
   "source": [
    "Solution().isPalindrome(123)"
   ]
  },
  {
   "cell_type": "markdown",
   "metadata": {},
   "source": [
    "# 結果\n",
    "\n",
    "![結果](https://github.com/wangweihsin/learning-note/blob/master/%E5%9C%96%E7%89%87/9.%20Palindrome%20Number.jpg?raw=true)\n",
    "\n",
    "# 參考\n",
    "\n",
    "我的第7題寫法"
   ]
  }
 ],
 "metadata": {
  "kernelspec": {
   "display_name": "Python 3",
   "language": "python",
   "name": "python3"
  },
  "language_info": {
   "codemirror_mode": {
    "name": "ipython",
    "version": 3
   },
   "file_extension": ".py",
   "mimetype": "text/x-python",
   "name": "python",
   "nbconvert_exporter": "python",
   "pygments_lexer": "ipython3",
   "version": "3.7.1"
  }
 },
 "nbformat": 4,
 "nbformat_minor": 2
}
