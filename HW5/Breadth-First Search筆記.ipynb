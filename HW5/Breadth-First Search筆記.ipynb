{
 "cells": [
  {
   "cell_type": "markdown",
   "metadata": {},
   "source": [
    "# Breadth-First Search (廣度優先搜尋)\n",
    "\n",
    "概念:一層一層走下去 顧名思義以\"廣度\"為重點\n",
    "\n",
    "# 流程圖\n",
    "\n",
    "![流程圖1](https://github.com/wangweihsin/learning-note/blob/master/%E5%9C%96%E7%89%87/BFS%E6%B5%81%E7%A8%8B%E5%9C%961.jpg?raw=true)"
   ]
  },
  {
   "cell_type": "markdown",
   "metadata": {},
   "source": [
    "用E當起點，E連到C跟D，接著看C，C連到A跟B，接著看D，D連到F。\n",
    "\n",
    "上課範例:\n",
    "\n",
    "![流程圖2](https://github.com/wangweihsin/learning-note/blob/master/%E5%9C%96%E7%89%87/BFS%E6%B5%81%E7%A8%8B%E5%9C%962.jpg?raw=true)\n",
    "\n",
    "這是用C當起點，C連到EG，E連到BF，G連到E E已經出現過所以不用管，B連CF已出現過，F連A，A連D。\n",
    "\n",
    "# Queue\n",
    "\n",
    "把起點從頭丟進去，後續的層也照順序丟進去，保證層的順序。"
   ]
  },
  {
   "cell_type": "markdown",
   "metadata": {},
   "source": [
    "# Depth-First Search (深度優先搜尋)\n",
    "\n",
    "概念:一條走到底，直到不能走後再回頭尋找沒走訪過的點\n",
    "\n",
    "# 流程圖\n",
    "\n",
    "![DFS流程圖](https://github.com/wangweihsin/learning-note/blob/master/%E5%9C%96%E7%89%87/DFS%E6%B5%81%E7%A8%8B%E5%9C%961.jpg?raw=true)\n",
    "\n",
    "以A為起點 stack丟進B,C C在上層所以把C拿出來 還有C連D,E E在上拿出來 E連CD都連過了所以回頭看stack最上層現在是D D拿出來連F F連D已連過\n",
    "\n",
    "回頭看STACK最上層是B 拿出來結束\n",
    "\n",
    "![DFS流程圖2](https://github.com/wangweihsin/learning-note/blob/master/%E5%9C%96%E7%89%87/DFS%E6%B5%81%E7%A8%8B%E5%9C%962.jpg?raw=true)\n",
    "\n",
    "用G當起點 stack丟進E E拿出來連B,F 最上層F拿出來連A A拿出來拿出來連D D拿出來連F已經連過回頭看最上層B拿出來 B連C 結束"
   ]
  },
  {
   "cell_type": "markdown",
   "metadata": {},
   "source": [
    "# Stack\n",
    "\n",
    "DFS用來放路徑的地方 把它想成是直立式的 把最上層的拿出來\n",
    "\n",
    "也就是說把最後一個拿出來 讓DFS可以一條路走到底在回頭看沒走過的路徑\n",
    "\n",
    "# BFS v.s DFS\n",
    "\n",
    "上面提過BFS是廣度優先而DFS是深度優先\n",
    "\n",
    "### 舉例說明:\n",
    "\n",
    "假設我們在圖書館看到小說區 小說區裡有細分各種類別\n",
    "\n",
    "BFS就是先了解一下小說區裡還有什麼種類 知道有奇幻、冒險類後\n",
    "\n",
    "發現奇幻區下面還有分成魔法或是騎士類 然後看冒險類發現下面還分成東西方\n",
    "\n",
    "DFS的話是直接走進小說區裡第一個冒險類逛然後接著逛冒險下的魔法一條路到底逛完後 再出來往沒逛過的走進去逛到底\n",
    "\n",
    "### 路徑\n",
    "\n",
    "BFS用的state是先進先出\n",
    "\n",
    "DFS用的stack是先進後出\n",
    "\n",
    "### 複雜度\n",
    "\n",
    "BFS 空間複雜度 O(|V|+|E|) 時間複雜度 O(|V|+|E|)\n",
    "\n",
    "DFS 空間複雜度 O(bm) 時間複雜度 O(b^m)\n",
    "\n",
    "BFS適合大範圍尋找 比較需要記憶體\n",
    "\n",
    "DFS適合目標明確的 比較節省記憶體"
   ]
  },
  {
   "cell_type": "markdown",
   "metadata": {},
   "source": [
    "# 作業流程圖\n",
    "\n",
    "先試著畫了一下作業流程圖方便思考\n",
    "\n",
    "![作業](https://github.com/wangweihsin/learning-note/blob/master/%E5%9C%96%E7%89%87/%E4%BD%9C%E6%A5%AD%E6%B5%81%E7%A8%8B%E5%9C%96.jpg?raw=true)"
   ]
  },
  {
   "cell_type": "markdown",
   "metadata": {},
   "source": [
    "# BFS過程\n",
    "\n",
    "想法:建立state1放路徑 state2是要輸出的結果\n",
    "\n",
    "先把起點丟進s2裡 然後把起點的路徑丟進s1裡\n",
    "\n",
    "再看s1[0]的路徑走哪 往s1裡面加 把s1[0]的值丟進s2裡"
   ]
  },
  {
   "cell_type": "code",
   "execution_count": 10,
   "metadata": {},
   "outputs": [],
   "source": [
    "from collections import defaultdict \n",
    "\n",
    "class Graph:\n",
    "    def __init__(self): \n",
    "        self.graph = defaultdict(list) \n",
    "        \n",
    "    def addEdge(self,u,v): \n",
    "        self.graph[u].append(v) \n",
    "        return self.graph     "
   ]
  },
  {
   "cell_type": "code",
   "execution_count": 11,
   "metadata": {},
   "outputs": [
    {
     "data": {
      "text/plain": [
       "defaultdict(list, {0: [1, 2], 1: [2], 2: [0, 3], 3: [3]})"
      ]
     },
     "execution_count": 11,
     "metadata": {},
     "output_type": "execute_result"
    }
   ],
   "source": [
    "g=Graph()\n",
    "g.addEdge(0,1)\n",
    "g.addEdge(0,2)\n",
    "g.addEdge(1,2)\n",
    "g.addEdge(2,0)\n",
    "g.addEdge(2,3)\n",
    "g.addEdge(3,3)"
   ]
  },
  {
   "cell_type": "markdown",
   "metadata": {},
   "source": [
    "建立state1跟state2 然後直接把起點先丟進s2"
   ]
  },
  {
   "cell_type": "code",
   "execution_count": 22,
   "metadata": {},
   "outputs": [],
   "source": [
    "from collections import defaultdict \n",
    "\n",
    "class Graph:\n",
    "    def __init__(self): \n",
    "        self.graph = defaultdict(list) \n",
    "        \n",
    "    def addEdge(self,u,v): \n",
    "        self.graph[u].append(v)\n",
    "        \n",
    "    def BFS(self, s):\n",
    "        state1=[] #建立空集合\n",
    "        state2=[]\n",
    "        state2.append(s)\n",
    "        state1.append(self.graph[s])\n",
    "        return state1"
   ]
  },
  {
   "cell_type": "code",
   "execution_count": 23,
   "metadata": {},
   "outputs": [
    {
     "name": "stdout",
     "output_type": "stream",
     "text": [
      "[[0, 3]]\n"
     ]
    }
   ],
   "source": [
    "g=Graph()\n",
    "g.addEdge(0,1)\n",
    "g.addEdge(0,2)\n",
    "g.addEdge(1,2)\n",
    "g.addEdge(2,0)\n",
    "g.addEdge(2,3)\n",
    "g.addEdge(3,3)\n",
    "\n",
    "print(g.BFS(2))"
   ]
  },
  {
   "cell_type": "markdown",
   "metadata": {},
   "source": [
    "原來graph[s]出來就直接是list 用for一個一個把數字丟進s1\n",
    "\n",
    "因為是第一層所以也直接把數字丟進s2"
   ]
  },
  {
   "cell_type": "code",
   "execution_count": 42,
   "metadata": {},
   "outputs": [],
   "source": [
    "from collections import defaultdict \n",
    "\n",
    "class Graph:\n",
    "    def __init__(self): \n",
    "        self.graph = defaultdict(list) \n",
    "        \n",
    "    def addEdge(self,u,v): \n",
    "        self.graph[u].append(v)\n",
    "        \n",
    "    def BFS(self, s):\n",
    "        state1=[] #建立空集合\n",
    "        state2=[]\n",
    "        state2.append(s) #先把起點丟進2裡面\n",
    "        for i in self.graph[s]: \n",
    "            state1.append(i)#接著把起點的連接丟到1裡面\n",
    "            state2.append(i)#也把起點的連結丟進2裡面\n",
    "        return state2"
   ]
  },
  {
   "cell_type": "code",
   "execution_count": 44,
   "metadata": {},
   "outputs": [
    {
     "name": "stdout",
     "output_type": "stream",
     "text": [
      "[2, 0, 3]\n"
     ]
    }
   ],
   "source": [
    "g=Graph()\n",
    "g.addEdge(0,1)\n",
    "g.addEdge(0,2)\n",
    "g.addEdge(1,2)\n",
    "g.addEdge(2,0)\n",
    "g.addEdge(2,3)\n",
    "g.addEdge(3,3)\n",
    "print(g.BFS(2))"
   ]
  },
  {
   "cell_type": "markdown",
   "metadata": {},
   "source": [
    "接著看state1裡面第1個數後面還有沒有東西"
   ]
  },
  {
   "cell_type": "code",
   "execution_count": 45,
   "metadata": {},
   "outputs": [],
   "source": [
    "from collections import defaultdict \n",
    "\n",
    "class Graph:\n",
    "    def __init__(self): \n",
    "        self.graph = defaultdict(list) \n",
    "        \n",
    "    def addEdge(self,u,v): \n",
    "        self.graph[u].append(v)\n",
    "        \n",
    "    def BFS(self, s):\n",
    "        state1=[] #建立空集合\n",
    "        state2=[]\n",
    "        state2.append(s) #先把起點丟進2裡面\n",
    "        for i in self.graph[s]: \n",
    "            state1.append(i)#接著把起點的連接丟到1裡面\n",
    "            state2.append(i)#也把起點的連結丟進2裡面\n",
    "        a=state1[0]\n",
    "        return self.graph[a]"
   ]
  },
  {
   "cell_type": "code",
   "execution_count": 46,
   "metadata": {},
   "outputs": [
    {
     "name": "stdout",
     "output_type": "stream",
     "text": [
      "[1, 2]\n"
     ]
    }
   ],
   "source": [
    "g=Graph()\n",
    "g.addEdge(0,1)\n",
    "g.addEdge(0,2)\n",
    "g.addEdge(1,2)\n",
    "g.addEdge(2,0)\n",
    "g.addEdge(2,3)\n",
    "g.addEdge(3,3)\n",
    "print(g.BFS(2))"
   ]
  },
  {
   "cell_type": "markdown",
   "metadata": {},
   "source": [
    "新問題 沒考慮到0:2,1 這樣會有重複的問題\n",
    "\n",
    "應該是先把東西丟進1裡面 然後再丟進2裡面\n",
    "\n",
    "然後設條件說如果他在s2裡面還沒出現過的話就丟進s1裡\n",
    "\n",
    "ex:範例裡0能走到2 2能走到0\n",
    "\n",
    "以2為起點 走到0,3\n",
    "\n",
    "接著看0 0走到1,2 但是2在s2裡面出現過了所以不要管"
   ]
  },
  {
   "cell_type": "code",
   "execution_count": 78,
   "metadata": {},
   "outputs": [],
   "source": [
    "from collections import defaultdict \n",
    "\n",
    "class Graph:\n",
    "    def __init__(self): \n",
    "        self.graph = defaultdict(list) \n",
    "        \n",
    "    def addEdge(self,u,v): \n",
    "        self.graph[u].append(v)\n",
    "        \n",
    "    def BFS(self, s):\n",
    "        state1=[]\n",
    "        state2=[] #建立空集合\n",
    "        state2.append(s) #先把起點丟進2裡面\n",
    "        for i in self.graph[s]: \n",
    "            state1.append(i)#接著把起點的連接丟到1裡面\n",
    "        while len(state1)>0: #當s1裡面還有東西時\n",
    "            a=state1[0] #把s1的第1個數字拿出來順便刪掉在s1\n",
    "            state1.remove(a)\n",
    "            state2.append(a) #把數字丟進s2裡\n",
    "            for j in self.graph[a]:#接著找數字後面的連結\n",
    "                if j  not in state2: #如果他還沒有出現在s2的話\n",
    "                    state1.append(j)  #就丟進s1裡\n",
    "        return state2"
   ]
  },
  {
   "cell_type": "code",
   "execution_count": 79,
   "metadata": {},
   "outputs": [
    {
     "name": "stdout",
     "output_type": "stream",
     "text": [
      "[2, 0, 3, 1]\n"
     ]
    }
   ],
   "source": [
    "g=Graph()\n",
    "g.addEdge(0,1)\n",
    "g.addEdge(0,2)\n",
    "g.addEdge(1,2)\n",
    "g.addEdge(2,0)\n",
    "g.addEdge(2,3)\n",
    "g.addEdge(3,3)\n",
    "print(g.BFS(2))"
   ]
  },
  {
   "cell_type": "markdown",
   "metadata": {},
   "source": [
    "一開始想到刪除的時候是用remove\n",
    "\n",
    "後來看到助教說要用pop\n",
    "\n",
    "不確定是不是只有dfs藥用所以又寫了一個pop版\n",
    "\n",
    "參考:https://www.runoob.com/python/att-list-pop.html"
   ]
  },
  {
   "cell_type": "code",
   "execution_count": 80,
   "metadata": {},
   "outputs": [],
   "source": [
    "from collections import defaultdict \n",
    "\n",
    "class Graph:\n",
    "    def __init__(self): \n",
    "        self.graph = defaultdict(list) \n",
    "        \n",
    "    def addEdge(self,u,v): \n",
    "        self.graph[u].append(v)\n",
    "        \n",
    "    def BFS(self, s):\n",
    "        state1=[]\n",
    "        state2=[] #建立空集合\n",
    "        state2.append(s) #先把起點丟進2裡面\n",
    "        for i in self.graph[s]: \n",
    "            state1.append(i)#接著把起點的連接丟到1裡面\n",
    "        while len(state1)>0: #當s1裡面還有東西時\n",
    "            a=state1.pop(0) #把s1的第1個數字拿出來順便刪掉在s1\n",
    "            state2.append(a)\n",
    "            for j in self.graph[a]:\n",
    "                if j  not in state2:\n",
    "                    state1.append(j) \n",
    "        return state2"
   ]
  },
  {
   "cell_type": "code",
   "execution_count": 81,
   "metadata": {},
   "outputs": [
    {
     "name": "stdout",
     "output_type": "stream",
     "text": [
      "[2, 0, 3, 1]\n"
     ]
    }
   ],
   "source": [
    "g=Graph()\n",
    "g.addEdge(0,1)\n",
    "g.addEdge(0,2)\n",
    "g.addEdge(1,2)\n",
    "g.addEdge(2,0)\n",
    "g.addEdge(2,3)\n",
    "g.addEdge(3,3)\n",
    "print(g.BFS(2))"
   ]
  },
  {
   "cell_type": "markdown",
   "metadata": {},
   "source": [
    "# DFS過程\n",
    "\n",
    "想法:把BFS裡POP的順序改成POP最後一個\n",
    "\n",
    "POP沒設參數的話默認回傳最後一個"
   ]
  },
  {
   "cell_type": "code",
   "execution_count": 3,
   "metadata": {},
   "outputs": [],
   "source": [
    "from collections import defaultdict \n",
    "\n",
    "class Graph:\n",
    "    def __init__(self): \n",
    "        self.graph = defaultdict(list) \n",
    "        \n",
    "    def addEdge(self,u,v): \n",
    "        self.graph[u].append(v)\n",
    "        \n",
    "    def BFS(self, s):\n",
    "        state1=[]\n",
    "        state2=[] #建立空state等下放東西\n",
    "        state2.append(s) #先把起點丟進2裡面\n",
    "        for i in self.graph[s]: \n",
    "            state1.append(i)#接著把起點的連接丟到1裡面\n",
    "        while len(state1)>0: #當s1裡面還有東西時\n",
    "            a=state1.pop(0) #把s1的第1個數字拿出來順便刪掉在s1\n",
    "            state2.append(a)\n",
    "            for j in self.graph[a]:\n",
    "                if j  not in state2:\n",
    "                    state1.append(j) \n",
    "        return state2\n",
    "    def DFS(self, s):\n",
    "        stack=[] #建立空stack等下放路徑\n",
    "        end=[]#等下要回傳的\n",
    "        end.append(s)#先把起點丟進裡面\n",
    "        for i in self.graph[s]: \n",
    "            stack.append(i)#接著把起點的連接丟到1裡面\n",
    "        while len(stack)>0: #當s1裡面還有東西時\n",
    "            a=stack.pop() #把s1的第1個數字拿出來順便刪掉在s1\n",
    "            end.append(a)\n",
    "            for j in self.graph[a]:\n",
    "                if j  not in end:\n",
    "                    stack.append(j) \n",
    "        return end    "
   ]
  },
  {
   "cell_type": "code",
   "execution_count": 4,
   "metadata": {},
   "outputs": [
    {
     "name": "stdout",
     "output_type": "stream",
     "text": [
      "[2, 3, 0, 1]\n"
     ]
    }
   ],
   "source": [
    "g=Graph()\n",
    "g.addEdge(0,1)\n",
    "g.addEdge(0,2)\n",
    "g.addEdge(1,2)\n",
    "g.addEdge(2,0)\n",
    "g.addEdge(2,3)\n",
    "g.addEdge(3,3)\n",
    "print(g.DFS(2))"
   ]
  },
  {
   "cell_type": "markdown",
   "metadata": {},
   "source": [
    "原本判斷式是想寫說如果他出現在s2裡的話不要管\n",
    "\n",
    "但是不知道不要管要怎麼寫只好先寫說如果他不再s2裡\n",
    "\n",
    "上網查了一下有沒有不要管這種寫法 找到continue\n",
    "\n",
    "參考:https://medium.com/@chiayinchen/1-%E5%88%86%E9%90%98%E6%90%9E%E6%87%82-python-%E8%BF%B4%E5%9C%88%E6%8E%A7%E5%88%B6-break-continue-pass-be290cd1f9d8"
   ]
  },
  {
   "cell_type": "code",
   "execution_count": 17,
   "metadata": {},
   "outputs": [],
   "source": [
    "from collections import defaultdict \n",
    "\n",
    "class Graph:\n",
    "    def __init__(self): \n",
    "        self.graph = defaultdict(list) \n",
    "        \n",
    "    def addEdge(self,u,v): \n",
    "        self.graph[u].append(v)\n",
    "        \n",
    "    def BFS(self, s):\n",
    "        state1=[] #s1放路徑\n",
    "        state2=[] #s2最後要回傳的\n",
    "        state2.append(s) #先把起點丟進s2裡面\n",
    "        for i in self.graph[s]: #接著把起點的連接丟到s1裡面\n",
    "            state1.append(i)\n",
    "        while len(state1)>0: #當s1裡面還有東西時\n",
    "            a=state1.pop(0) #把s1的第1個數字拿出來順便刪掉\n",
    "            state2.append(a) #然後丟進s2裡\n",
    "            for j in self.graph[a]: #然後把a的連接丟進s1裡\n",
    "                if j in state2: #要檢查他在s2有沒有出現過 如果有就不用管\n",
    "                    continue\n",
    "                else: #沒有在s2出現過就加進s1裡\n",
    "                    state1.append(j) \n",
    "        return state2 #回傳s2\n",
    "    def DFS(self, s):\n",
    "        stack=[] #建立空stack等下放路徑\n",
    "        end=[]#等下要回傳的\n",
    "        end.append(s)#先把起點丟進裡面\n",
    "        for i in self.graph[s]: #接著把起點的連接丟到stack裡面\n",
    "            stack.append(i)\n",
    "        while len(stack)>0: #當stack裡面還有東西時\n",
    "            a=stack.pop() #把stack最上層的東西拿出來 pop默認最後一個\n",
    "            end.append(a) #丟到end裡\n",
    "            for j in self.graph[a]: #一樣把連接丟進stack裡\n",
    "                if j in end: #確認他有沒有出現過 如果有那就不用管\n",
    "                    continue\n",
    "                else: #沒有的話就加進stack裡繼續跑\n",
    "                    stack.append(j)\n",
    "        return end #回傳結果"
   ]
  },
  {
   "cell_type": "code",
   "execution_count": 18,
   "metadata": {},
   "outputs": [
    {
     "name": "stdout",
     "output_type": "stream",
     "text": [
      "[2, 0, 3, 1]\n",
      "[2, 3, 0, 1]\n"
     ]
    }
   ],
   "source": [
    "g=Graph()\n",
    "g.addEdge(0,1)\n",
    "g.addEdge(0,2)\n",
    "g.addEdge(1,2)\n",
    "g.addEdge(2,0)\n",
    "g.addEdge(2,3)\n",
    "g.addEdge(3,3)\n",
    "print(g.BFS(2))\n",
    "print(g.DFS(2))"
   ]
  },
  {
   "cell_type": "code",
   "execution_count": 22,
   "metadata": {},
   "outputs": [
    {
     "name": "stdout",
     "output_type": "stream",
     "text": [
      "['E', 'C', 'D', 'A', 'B', 'D', 'B', 'F', 'B', 'F']\n"
     ]
    }
   ],
   "source": [
    "g=Graph()\n",
    "g.addEdge('A','B')\n",
    "g.addEdge('A','C')\n",
    "g.addEdge('B','A')\n",
    "g.addEdge('B','C')\n",
    "g.addEdge('B','D')\n",
    "g.addEdge('C','A')\n",
    "g.addEdge('C','B')\n",
    "g.addEdge('C','D')\n",
    "g.addEdge('C','E')\n",
    "g.addEdge('D','B')\n",
    "g.addEdge('D','C')\n",
    "g.addEdge('D','E')\n",
    "g.addEdge('D','F')\n",
    "g.addEdge('E','C')\n",
    "g.addEdge('E','D')\n",
    "g.addEdge('F','F')\n",
    "print(g.BFS('E'))"
   ]
  },
  {
   "cell_type": "markdown",
   "metadata": {},
   "source": [
    "新問題 沒有想過S1裡面也有出現的狀況!!\n",
    "\n",
    "所以還要再設一個判斷式才對\n",
    "\n",
    "想法:\n",
    "\n",
    "如果他已經在S2出現過就不用管\n",
    "\n",
    "如果他還沒在S2出現過卻在S1出現過也不用管"
   ]
  },
  {
   "cell_type": "code",
   "execution_count": 30,
   "metadata": {},
   "outputs": [],
   "source": [
    "from collections import defaultdict \n",
    "\n",
    "class Graph:\n",
    "    def __init__(self): \n",
    "        self.graph = defaultdict(list) \n",
    "        \n",
    "    def addEdge(self,u,v): \n",
    "        self.graph[u].append(v)\n",
    "        \n",
    "    def BFS(self, s):\n",
    "        state1=[] #s1放路徑\n",
    "        state2=[] #s2最後要回傳的\n",
    "        state2.append(s) #先把起點丟進s2裡面\n",
    "        for i in self.graph[s]: #接著把起點的連接丟到s1裡面\n",
    "            state1.append(i)\n",
    "        while len(state1)>0: #當s1裡面還有東西時\n",
    "            a=state1.pop(0) #把s1的第1個數字拿出來順便刪掉\n",
    "            state2.append(a) #然後丟進s2裡\n",
    "            for j in self.graph[a]: #然後把a的連接丟進s1裡\n",
    "                if j in state2: #要檢查他在s2有沒有出現過 如果有就不用管\n",
    "                    continue\n",
    "                else: #沒有在s2出現過\n",
    "                    if j in state1: #卻在s1出現過\n",
    "                        continue #不要管\n",
    "                    else: #s1s2都沒出現過就丟進s1裡\n",
    "                        state1.append(j) \n",
    "        return state2 #回傳s2\n",
    "    def DFS(self, s):\n",
    "        stack=[] #建立空stack等下放路徑\n",
    "        end=[]#等下要回傳的\n",
    "        end.append(s)#先把起點丟進裡面\n",
    "        for i in self.graph[s]: #接著把起點的連接丟到stack裡面\n",
    "            stack.append(i)\n",
    "        while len(stack)>0: #當stack裡面還有東西時\n",
    "            a=stack.pop() #把stack最上層的東西拿出來 pop默認最後一個\n",
    "            end.append(a) #丟到end裡\n",
    "            for j in self.graph[a]: #一樣把連接丟進stack裡\n",
    "                if j in end: #確認他有沒有出現過 如果有那就不用管\n",
    "                    continue\n",
    "                else: #沒有出現在end裡\n",
    "                    if j in stack: #在stack卻出現過\n",
    "                        continue #不要管\n",
    "                    else: #stack跟end都沒出現過\n",
    "                        stack.append(j) #丟進stack裡\n",
    "        return end #回傳結果"
   ]
  },
  {
   "cell_type": "code",
   "execution_count": 31,
   "metadata": {},
   "outputs": [
    {
     "name": "stdout",
     "output_type": "stream",
     "text": [
      "['E', 'C', 'D', 'A', 'B', 'F']\n",
      "['A', 'C', 'E', 'D', 'F', 'B']\n"
     ]
    }
   ],
   "source": [
    "g=Graph()\n",
    "g.addEdge('A','B')\n",
    "g.addEdge('A','C')\n",
    "g.addEdge('B','A')\n",
    "g.addEdge('B','C')\n",
    "g.addEdge('B','D')\n",
    "g.addEdge('C','A')\n",
    "g.addEdge('C','B')\n",
    "g.addEdge('C','D')\n",
    "g.addEdge('C','E')\n",
    "g.addEdge('D','B')\n",
    "g.addEdge('D','C')\n",
    "g.addEdge('D','E')\n",
    "g.addEdge('D','F')\n",
    "g.addEdge('E','C')\n",
    "g.addEdge('E','D')\n",
    "g.addEdge('F','D')\n",
    "print(g.BFS('E'))\n",
    "print(g.DFS('A'))"
   ]
  },
  {
   "cell_type": "markdown",
   "metadata": {},
   "source": [
    "# 參考\n",
    "\n",
    "https://www.youtube.com/watch?v=QRq6p9s8NVg (BFS影片)\n",
    "\n",
    "https://alrightchiu.github.io/SecondRound/graph-breadth-first-searchbfsguang-du-you-xian-sou-xun.html (BFS)\n",
    "\n",
    "https://www.youtube.com/watch?v=oLtvUWpAnTQ&feature=youtu.be (BFS&DFS影片)\n",
    "\n",
    "http://alrightchiu.github.io/SecondRound/graph-depth-first-searchdfsshen-du-you-xian-sou-xun.html (DFS)\n",
    "\n",
    "https://blog.csdn.net/u012956540/article/details/50816334 (pop用法)\n",
    "\n",
    "https://medium.com/@chiayinchen/1-%E5%88%86%E9%90%98%E6%90%9E%E6%87%82-python-%E8%BF%B4%E5%9C%88%E6%8E%A7%E5%88%B6-break-continue-pass-be290cd1f9d8 (continue用法)\n",
    "\n",
    "https://magiclen.org/dfs-bfs/ (DFS&BFS)\n",
    "\n",
    "https://www.itread01.com/content/1541297601.html (DFS&BFS)\n",
    "\n",
    "https://zh.wikipedia.org/zh-tw/%E5%B9%BF%E5%BA%A6%E4%BC%98%E5%85%88%E6%90%9C%E7%B4%A2 (BFS)\n",
    "\n",
    "https://zh.wikipedia.org/wiki/%E6%B7%B1%E5%BA%A6%E4%BC%98%E5%85%88%E6%90%9C%E7%B4%A2 (DFS)"
   ]
  }
 ],
 "metadata": {
  "kernelspec": {
   "display_name": "Python 3",
   "language": "python",
   "name": "python3"
  },
  "language_info": {
   "codemirror_mode": {
    "name": "ipython",
    "version": 3
   },
   "file_extension": ".py",
   "mimetype": "text/x-python",
   "name": "python",
   "nbconvert_exporter": "python",
   "pygments_lexer": "ipython3",
   "version": "3.7.1"
  }
 },
 "nbformat": 4,
 "nbformat_minor": 2
}
