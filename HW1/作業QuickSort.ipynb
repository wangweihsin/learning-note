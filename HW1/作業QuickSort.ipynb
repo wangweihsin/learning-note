{
 "cells": [
  {
   "cell_type": "markdown",
   "metadata": {},
   "source": [
    "# 問題"
   ]
  },
  {
   "cell_type": "markdown",
   "metadata": {},
   "source": [
    "從一組未排序過的list中選取一個標準值比較排序"
   ]
  },
  {
   "cell_type": "markdown",
   "metadata": {},
   "source": [
    "# 程式架構設計說明"
   ]
  },
  {
   "cell_type": "markdown",
   "metadata": {},
   "source": [
    "- 從list中拿取一個數字當標準點"
   ]
  },
  {
   "cell_type": "markdown",
   "metadata": {},
   "source": [
    "- 將其他數字與標準值比較\n",
    "\n",
    "    1.大於放左邊list\n",
    "\n",
    "    2.等於於放中間list\n",
    "\n",
    "    3.小於放右邊list"
   ]
  },
  {
   "cell_type": "markdown",
   "metadata": {},
   "source": [
    "- 將左右list重複上面步驟，從中抽取標準值比較排序"
   ]
  },
  {
   "cell_type": "markdown",
   "metadata": {},
   "source": [
    "# 流程圖"
   ]
  },
  {
   "cell_type": "markdown",
   "metadata": {},
   "source": [
    "![流程圖](https://github.com/wangweihsin/learning-note/blob/master/%E5%9C%96%E7%89%87/%E6%B5%81%E7%A8%8B%E5%9C%96.png?raw=true)"
   ]
  },
  {
   "cell_type": "markdown",
   "metadata": {},
   "source": [
    "# 逐步解釋說明"
   ]
  },
  {
   "cell_type": "markdown",
   "metadata": {},
   "source": [
    "從list中抽一個數字當基準"
   ]
  },
  {
   "cell_type": "code",
   "execution_count": 40,
   "metadata": {},
   "outputs": [
    {
     "name": "stdout",
     "output_type": "stream",
     "text": [
      "[44]\n"
     ]
    }
   ],
   "source": [
    "alist=[54,26,93,17,77,31,44,55,20]\n",
    "import random\n",
    "key=random.sample(alist,1) #隨機抽\n",
    "print(key)"
   ]
  },
  {
   "cell_type": "markdown",
   "metadata": {},
   "source": [
    "這邊會出現問題 key的type是list，這樣下面寫迴圈的時候會出錯"
   ]
  },
  {
   "cell_type": "code",
   "execution_count": 41,
   "metadata": {},
   "outputs": [
    {
     "data": {
      "text/plain": [
       "list"
      ]
     },
     "execution_count": 41,
     "metadata": {},
     "output_type": "execute_result"
    }
   ],
   "source": [
    "type(key)"
   ]
  },
  {
   "cell_type": "code",
   "execution_count": 42,
   "metadata": {},
   "outputs": [
    {
     "data": {
      "text/plain": [
       "44"
      ]
     },
     "execution_count": 42,
     "metadata": {},
     "output_type": "execute_result"
    }
   ],
   "source": [
    "key=key[0]\n",
    "key"
   ]
  },
  {
   "cell_type": "markdown",
   "metadata": {},
   "source": [
    "跟基準做比較，大的放右邊小的放左邊"
   ]
  },
  {
   "cell_type": "code",
   "execution_count": 46,
   "metadata": {},
   "outputs": [
    {
     "data": {
      "text/plain": [
       "[26, 17, 31, 20, 44, 54, 93, 77, 55]"
      ]
     },
     "execution_count": 46,
     "metadata": {},
     "output_type": "execute_result"
    }
   ],
   "source": [
    "left=[]\n",
    "right=[]\n",
    "center=[]\n",
    "for i in alist:\n",
    "    if i > key:\n",
    "        right.append(i)\n",
    "    elif i < key:\n",
    "        left.append(i)\n",
    "    else:\n",
    "        center.append(i)\n",
    "left+center+right"
   ]
  },
  {
   "cell_type": "markdown",
   "metadata": {},
   "source": [
    "key的位置已經排出來了，接著要重複排left跟right\n",
    "慢慢排的話要很久 所以寫def"
   ]
  },
  {
   "cell_type": "code",
   "execution_count": 62,
   "metadata": {},
   "outputs": [],
   "source": [
    "def QuickSort(alist):\n",
    "    left=[] \n",
    "    center=[]\n",
    "    right=[]\n",
    "    if len(alist)<=1: #如果alist裡只有一個或沒有元素就不用排序\n",
    "        return alist\n",
    "    else:\n",
    "        import random\n",
    "        key=random.sample(alist,1)\n",
    "        key=key[0]\n",
    "        for i in alist:\n",
    "            if i>key:  \n",
    "                right.append(i)\n",
    "            elif i<key: \n",
    "                left.append(i)\n",
    "            else:\n",
    "                center.append(i)\n",
    "    left=QuickSort(left)\n",
    "    right=QuickSort(right)\n",
    "    return left+center+right"
   ]
  },
  {
   "cell_type": "markdown",
   "metadata": {},
   "source": [
    "問題:原本沒有寫if len(alist)<=1: 就出現error 參考其他人的後才跑的出來 不知道為什麼會這樣"
   ]
  },
  {
   "cell_type": "markdown",
   "metadata": {},
   "source": [
    "# 測試值"
   ]
  },
  {
   "cell_type": "code",
   "execution_count": 63,
   "metadata": {},
   "outputs": [
    {
     "name": "stdout",
     "output_type": "stream",
     "text": [
      "[17, 20, 26, 31, 44, 54, 55, 77, 93]\n"
     ]
    }
   ],
   "source": [
    "alist=[54,26,93,17,77,31,44,55,20]\n",
    "blist=QuickSort(alist)\n",
    "print(blist)"
   ]
  },
  {
   "cell_type": "code",
   "execution_count": 64,
   "metadata": {},
   "outputs": [
    {
     "name": "stdout",
     "output_type": "stream",
     "text": [
      "[0, 1, 5, 5, 8, 10, 22, 22, 65]\n"
     ]
    }
   ],
   "source": [
    "alist=[5,1,10,0,5,8,22,65,22] #重複值\n",
    "blist=QuickSort(alist)\n",
    "print(blist)"
   ]
  },
  {
   "cell_type": "markdown",
   "metadata": {},
   "source": [
    "# 補充"
   ]
  },
  {
   "cell_type": "markdown",
   "metadata": {},
   "source": [
    "因為是隨機抽取，所以每次抽到的基準都不同。"
   ]
  }
 ],
 "metadata": {
  "kernelspec": {
   "display_name": "Python 3",
   "language": "python",
   "name": "python3"
  },
  "language_info": {
   "codemirror_mode": {
    "name": "ipython",
    "version": 3
   },
   "file_extension": ".py",
   "mimetype": "text/x-python",
   "name": "python",
   "nbconvert_exporter": "python",
   "pygments_lexer": "ipython3",
   "version": "3.7.1"
  }
 },
 "nbformat": 4,
 "nbformat_minor": 2
}
