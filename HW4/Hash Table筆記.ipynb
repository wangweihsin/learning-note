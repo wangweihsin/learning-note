{
 "cells": [
  {
   "cell_type": "markdown",
   "metadata": {},
   "source": [
    "# Hash Table(雜湊表)\n",
    "\n",
    "概念:鍵值(key)通過函數(Hash Function)找到對應的位置(index)來存放(buckets)\n",
    "\n",
    "# Hash function\n",
    "\n",
    "概念:一個規則，將key轉換成為唯一的雜湊值輸出，方便更快速有效的找到他的index\n",
    "\n",
    "\n",
    "# 舉例\n",
    "\n",
    "1.就像是電話簿一樣，我要找王小明(key)的電話(buckets)，要如何快速從一堆人名裡找到?\n",
    "\n",
    "從姓氏的發音[ㄨ]來找 這個規則就是Hash Function\n",
    "\n",
    "首頁的ㄅㄆㄇ對照頁數就是index\n",
    "\n",
    "2.buckets就像是置物櫃 拿來存放東西\n",
    "\n",
    "index就是置物櫃的編號\n",
    "\n",
    "Hash Function是發放置物櫃的規則\n",
    "\n",
    "key就是大一新生名字\n",
    "\n",
    "所以就是大一新生\"丁某\"(key)照著自己名字的筆劃\"2畫\"(Hash Function)順利地找到編號001(index)的置物櫃(buckets)"
   ]
  },
  {
   "cell_type": "markdown",
   "metadata": {},
   "source": [
    "# Collision(衝突)\n",
    "\n",
    "一般來說理想的情況是一個buckets裡面只有一個東西 \n",
    "\n",
    "但是function可能會把兩個不同的key指向同一個index\n",
    "\n",
    "也就是一個buckets有兩筆資料\n",
    "\n",
    "這就會造成你用key1應該回傳item1卻回傳item2給你\n",
    "\n",
    "## 解決方法\n",
    "\n",
    "- 使用linkedlist把資料串起來\n",
    "\n",
    "- 找新的空buckets存資料"
   ]
  },
  {
   "cell_type": "markdown",
   "metadata": {},
   "source": [
    "# 流程圖\n",
    "\n",
    "![流程圖](https://github.com/wangweihsin/learning-note/blob/master/%E5%9C%96%E7%89%87/hashtable%E6%B5%81%E7%A8%8B%E5%9C%96.jpg?raw=true)\n",
    "\n",
    "衝突情況\n",
    "\n",
    "![衝突](https://github.com/wangweihsin/learning-note/blob/master/%E5%9C%96%E7%89%87/collision.jpg?raw=true)"
   ]
  },
  {
   "cell_type": "code",
   "execution_count": 1,
   "metadata": {},
   "outputs": [
    {
     "name": "stdout",
     "output_type": "stream",
     "text": [
      "dc66bc437224cbfedb50876f7a218f0d\n",
      "0\n"
     ]
    }
   ],
   "source": [
    "from Crypto.Hash import MD5\n",
    "h = MD5.new()\n",
    "h.update(\"I am Pecu\".encode(\"utf-8\"))\n",
    "print(h.hexdigest())\n",
    "x= h.hexdigest()\n",
    "x=int(h.hexdigest(),16)\n",
    "print(x%5)"
   ]
  },
  {
   "cell_type": "code",
   "execution_count": 21,
   "metadata": {},
   "outputs": [],
   "source": [
    "class ListNode:\n",
    "    def __init__(self, val):\n",
    "        self.val = val\n",
    "        self.next = None\n",
    "\n",
    "class MyHashSet:\n",
    "    def __init__(self, capacity=5):\n",
    "        self.capacity = capacity\n",
    "        self.data = [None] * capacity\n",
    "        \n",
    "    def add(self, key):\n",
    "        h = MD5.new()\n",
    "        h.update(key.encode(\"utf-8\"))\n",
    "        x= h.hexdigest()\n",
    "        return x"
   ]
  },
  {
   "cell_type": "code",
   "execution_count": 22,
   "metadata": {},
   "outputs": [
    {
     "data": {
      "text/plain": [
       "'06d80eb0c50b49a509b49f2424e8c805'"
      ]
     },
     "execution_count": 22,
     "metadata": {},
     "output_type": "execute_result"
    }
   ],
   "source": [
    "MyHashSet().add(\"dog\")"
   ]
  },
  {
   "cell_type": "code",
   "execution_count": 20,
   "metadata": {},
   "outputs": [
    {
     "name": "stdout",
     "output_type": "stream",
     "text": [
      "06d80eb0c50b49a509b49f2424e8c805\n",
      "0\n"
     ]
    }
   ],
   "source": [
    "from Crypto.Hash import MD5\n",
    "h = MD5.new()\n",
    "h.update(\"dog\".encode(\"utf-8\"))\n",
    "print(h.hexdigest())\n",
    "x= h.hexdigest()\n",
    "x=int(h.hexdigest(),16)\n",
    "print(x%5)"
   ]
  },
  {
   "cell_type": "markdown",
   "metadata": {},
   "source": [
    "把md5這邊自己寫一個 不要放到add裡\n",
    "\n",
    "開始寫add\n",
    "\n",
    "想法:md5%5的數字就是他的索引號index\n",
    "\n",
    "然後把數字丟進data[index]裡"
   ]
  },
  {
   "cell_type": "code",
   "execution_count": 33,
   "metadata": {},
   "outputs": [],
   "source": [
    "class ListNode:\n",
    "    def __init__(self, val):\n",
    "        self.val = val\n",
    "        self.next = None\n",
    "\n",
    "class MyHashSet:\n",
    "    def __init__(self, capacity=5):\n",
    "        self.capacity = capacity\n",
    "        self.data = [None] * capacity\n",
    "    def md5(self,key):\n",
    "        h = MD5.new() \n",
    "        h.update(key.encode(\"utf-8\"))\n",
    "        x= h.hexdigest()\n",
    "        x=int(h.hexdigest(),16)\n",
    "        return x%5\n",
    "    def add(self,key):\n",
    "        index=self.md5(key)\n",
    "        self.data[index]=key\n",
    "        return self.data[index]"
   ]
  },
  {
   "cell_type": "code",
   "execution_count": 34,
   "metadata": {},
   "outputs": [
    {
     "data": {
      "text/plain": [
       "'dog'"
      ]
     },
     "execution_count": 34,
     "metadata": {},
     "output_type": "execute_result"
    }
   ],
   "source": [
    "MyHashSet().add(\"dog\")"
   ]
  },
  {
   "cell_type": "markdown",
   "metadata": {},
   "source": [
    "寫contains來判斷"
   ]
  },
  {
   "cell_type": "code",
   "execution_count": 56,
   "metadata": {},
   "outputs": [],
   "source": [
    "class ListNode:\n",
    "    def __init__(self, val):\n",
    "        self.val = val\n",
    "        self.next = None\n",
    "\n",
    "class MyHashSet:\n",
    "    def __init__(self, capacity=5):\n",
    "        self.capacity = capacity\n",
    "        self.data = [None] * capacity #要存放的抽屜\n",
    "    def md5(self,key):\n",
    "        h = MD5.new()\n",
    "        h.update(key.encode(\"utf-8\"))\n",
    "        x= h.hexdigest()\n",
    "        x=int(h.hexdigest(),16) #轉成10進位\n",
    "        return x%5 #回傳除以5的餘數\n",
    "    def add(self,key):\n",
    "        index=self.md5(key) #索引號就是剛剛md5轉完的餘數\n",
    "        self.data[index]=key #存進索引號的抽屜裡\n",
    "        return self.data #回傳抽屜\n",
    "    def contains(self, key):\n",
    "        data=self.add(key) #拿add弄完的抽屜\n",
    "        if key in data: #看key在不再那個抽屜裡\n",
    "            return True\n",
    "        else:\n",
    "            return False"
   ]
  },
  {
   "cell_type": "code",
   "execution_count": 57,
   "metadata": {},
   "outputs": [
    {
     "data": {
      "text/plain": [
       "True"
      ]
     },
     "execution_count": 57,
     "metadata": {},
     "output_type": "execute_result"
    }
   ],
   "source": [
    "MyHashSet().add(\"dog\")\n",
    "MyHashSet().contains(\"dog\")"
   ]
  },
  {
   "cell_type": "markdown",
   "metadata": {},
   "source": [
    "寫remove 想法:如果他在buckets裡就把它變成none"
   ]
  },
  {
   "cell_type": "code",
   "execution_count": 48,
   "metadata": {},
   "outputs": [],
   "source": [
    "class ListNode:\n",
    "    def __init__(self, val):\n",
    "        self.val = val\n",
    "        self.next = None\n",
    "\n",
    "class MyHashSet:\n",
    "    def __init__(self, capacity=5):\n",
    "        self.capacity = capacity\n",
    "        self.data = [None] * capacity #要存放的抽屜\n",
    "    def md5(self,key):\n",
    "        h = MD5.new()\n",
    "        h.update(key.encode(\"utf-8\"))\n",
    "        x= h.hexdigest()\n",
    "        x=int(h.hexdigest(),16) #轉成10進位\n",
    "        return x%5 #回傳除以5的餘數\n",
    "    def add(self,key):\n",
    "        index=self.md5(key) #索引號就是剛剛md5轉完的餘數\n",
    "        self.data[index]=key #存進索引號的抽屜裡\n",
    "        return self.data\n",
    "    def remove(self, key):\n",
    "        if self.contains(key)==True: \n",
    "            index=self.md5(key)\n",
    "            self.data[index]==None\n",
    "            return self.data\n",
    "        else:\n",
    "            return False\n",
    "    def contains(self, key):\n",
    "        if key in self.data: #看key在不再那個抽屜裡\n",
    "            return True\n",
    "        else:\n",
    "            return False"
   ]
  },
  {
   "cell_type": "code",
   "execution_count": 49,
   "metadata": {},
   "outputs": [
    {
     "name": "stdout",
     "output_type": "stream",
     "text": [
      "True\n",
      "True\n",
      "False\n",
      "True\n",
      "True\n"
     ]
    }
   ],
   "source": [
    "hashSet=MyHashSet()\n",
    "hashSet.add(\"dog\")\n",
    "hashSet.add(\"pig\")\n",
    "rel=hashSet.contains(\"pig\")\n",
    "print(rel)\n",
    "rel=hashSet.contains(\"dog\")\n",
    "print(rel)\n",
    "rel=hashSet.contains(\"cat\")\n",
    "print(rel)\n",
    "hashSet.add(\"bird\")\n",
    "rel=hashSet.contains(\"bird\")\n",
    "print(rel)\n",
    "hashSet.remove(\"pig\")\n",
    "rel=hashSet.contains(\"pig\")\n",
    "print(rel)"
   ]
  },
  {
   "cell_type": "code",
   "execution_count": 61,
   "metadata": {},
   "outputs": [
    {
     "data": {
      "text/plain": [
       "False"
      ]
     },
     "execution_count": 61,
     "metadata": {},
     "output_type": "execute_result"
    }
   ],
   "source": [
    "MyHashSet().add(\"cat\")\n",
    "MyHashSet().add(\"pig\")\n",
    "MyHashSet().contains(\"cat\")"
   ]
  },
  {
   "cell_type": "markdown",
   "metadata": {},
   "source": [
    "出錯了remove沒成功\n",
    "\n",
    "而且add的部分沒有考慮collision\n",
    "\n",
    "先寫collision"
   ]
  },
  {
   "cell_type": "code",
   "execution_count": 263,
   "metadata": {},
   "outputs": [],
   "source": [
    "class ListNode:\n",
    "    def __init__(self, x):\n",
    "        self.val = x\n",
    "        self.next = None\n",
    "\n",
    "class MyHashSet:\n",
    "    def __init__(self, capacity=5):\n",
    "        self.capacity = capacity\n",
    "        self.data = [None] * capacity #要存放的抽屜\n",
    "        \n",
    "    def md5(self,key):\n",
    "        h = MD5.new()\n",
    "        h.update(key.encode(\"utf-8\"))\n",
    "        x= h.hexdigest()\n",
    "        x=int(h.hexdigest(),16) #轉成10進位\n",
    "        return x%5 #回傳除以5的餘數\n",
    "    \n",
    "    def add(self,key):\n",
    "        index=self.md5(key) #索引號就是剛剛md5轉完的餘數\n",
    "        self.data[index]=ListNode(key)\n",
    "        return self.data[index].val"
   ]
  },
  {
   "cell_type": "code",
   "execution_count": 264,
   "metadata": {},
   "outputs": [
    {
     "data": {
      "text/plain": [
       "'cat'"
      ]
     },
     "execution_count": 264,
     "metadata": {},
     "output_type": "execute_result"
    }
   ],
   "source": [
    "MyHashSet().add(\"cat\")"
   ]
  },
  {
   "cell_type": "markdown",
   "metadata": {},
   "source": [
    "想法:用linkedlist的概念來建立點\n",
    "\n",
    "參考:https://medium.com/@tobby168/%E7%94%A8python%E5%AF%A6%E4%BD%9Clinked-list-524441133d4d (linkedlist)"
   ]
  },
  {
   "cell_type": "code",
   "execution_count": 317,
   "metadata": {},
   "outputs": [],
   "source": [
    "class ListNode:\n",
    "    def __init__(self, x):\n",
    "        self.val = x\n",
    "        self.next = None\n",
    "\n",
    "class MyHashSet:\n",
    "    def __init__(self, capacity=5):\n",
    "        self.capacity = capacity\n",
    "        self.data = [None] * capacity #要存放的抽屜\n",
    "        \n",
    "    def md5(self,key):\n",
    "        h = MD5.new()\n",
    "        h.update(key.encode(\"utf-8\"))\n",
    "        x= h.hexdigest()\n",
    "        x=int(h.hexdigest(),16) #轉成10進位\n",
    "        return x%5 #回傳除以5的餘數\n",
    "    \n",
    "    def add(self,key):\n",
    "        index=self.md5(key) #索引號就是剛剛md5轉完的餘數\n",
    "        if self.data[index]: #如果裡面有東西\n",
    "            y=self.data[index]\n",
    "            while y.next: #當他下一個存在\n",
    "                y=y.next\n",
    "            y.next=ListNode(key)     \n",
    "        else: #裡面沒東西就建立點\n",
    "            self.data[index]=ListNode(key)\n",
    "        return "
   ]
  },
  {
   "cell_type": "markdown",
   "metadata": {},
   "source": [
    "接著寫contains判斷\n",
    "\n",
    "想法 用剛剛add的概念 如果裡面的值=key return True"
   ]
  },
  {
   "cell_type": "code",
   "execution_count": 343,
   "metadata": {},
   "outputs": [],
   "source": [
    "class ListNode:\n",
    "    def __init__(self, x):\n",
    "        self.val = x\n",
    "        self.next = None #linklist的點\n",
    "\n",
    "class MyHashSet:\n",
    "    def __init__(self, capacity=5):\n",
    "        self.capacity = capacity\n",
    "        self.data = [None] * capacity #要存放的抽屜\n",
    "        \n",
    "    def md5(self,key):\n",
    "        h = MD5.new()\n",
    "        h.update(key.encode(\"utf-8\"))\n",
    "        x= h.hexdigest()\n",
    "        x=int(h.hexdigest(),16) #轉成10進位\n",
    "        return x%5 #回傳除以5的餘數\n",
    "    \n",
    "    def add(self,key):\n",
    "        index=self.md5(key) #索引號就是剛剛md5轉完的餘數\n",
    "        if self.data[index]: #如果裡面有東西\n",
    "            y=self.data[index]\n",
    "            while y.next: #當他下一個存在\n",
    "                y=y.next #頭變成下一個\n",
    "            y.next=ListNode(key)     #如果下一個不存在就變成新的點\n",
    "        else: #裡面沒東西就建立點\n",
    "            self.data[index]=ListNode(key) \n",
    "        return \n",
    "    def contains(self, key):\n",
    "        index=self.md5(key) #索引號就是剛剛md5轉完的餘數\n",
    "        if self.data[index].val==key:#如果裡面就是key\n",
    "            return True\n",
    "        elif self.data[index]==None: #裡面沒東西\n",
    "            return False\n",
    "        else:\n",
    "            y=self.data[index]\n",
    "            while y.next: #當他下一個存在\n",
    "                if y.next.val==key: #如果下一個就是key\n",
    "                    return True\n",
    "                y=y.next #不是的話頭就變下一個繼續找\n",
    "            return False #如果找到他下一個都不存在還找不到就會傳false"
   ]
  },
  {
   "cell_type": "code",
   "execution_count": 344,
   "metadata": {},
   "outputs": [
    {
     "name": "stdout",
     "output_type": "stream",
     "text": [
      "True\n",
      "True\n",
      "False\n",
      "True\n"
     ]
    }
   ],
   "source": [
    "hashSet=MyHashSet()\n",
    "hashSet.add(\"dog\")\n",
    "hashSet.add(\"pig\")\n",
    "rel=hashSet.contains(\"pig\")\n",
    "print(rel)\n",
    "rel=hashSet.contains(\"dog\")\n",
    "print(rel)\n",
    "rel=hashSet.contains(\"cat\")\n",
    "print(rel)\n",
    "hashSet.add(\"bird\")\n",
    "rel=hashSet.contains(\"bird\")\n",
    "print(rel)"
   ]
  },
  {
   "cell_type": "code",
   "execution_count": 346,
   "metadata": {},
   "outputs": [
    {
     "name": "stdout",
     "output_type": "stream",
     "text": [
      "True\n"
     ]
    }
   ],
   "source": [
    "hashSet=MyHashSet()\n",
    "hashSet.add(\"pig\")\n",
    "hashSet.add(\"cat\")\n",
    "rel=hashSet.contains(\"pig\")\n",
    "print(rel)"
   ]
  },
  {
   "cell_type": "markdown",
   "metadata": {},
   "source": [
    "相同index的也不會被覆蓋掉了\n",
    "\n",
    "接著寫remove\n",
    "\n",
    "想法:找到數字後回傳None"
   ]
  },
  {
   "cell_type": "code",
   "execution_count": 355,
   "metadata": {},
   "outputs": [],
   "source": [
    "class ListNode:\n",
    "    def __init__(self, x):\n",
    "        self.val = x\n",
    "        self.next = None #linklist的點\n",
    "\n",
    "class MyHashSet:\n",
    "    def __init__(self, capacity=5):\n",
    "        self.capacity = capacity\n",
    "        self.data = [None] * capacity #要存放的抽屜\n",
    "        \n",
    "    def md5(self,key):\n",
    "        h = MD5.new()\n",
    "        h.update(key.encode(\"utf-8\"))\n",
    "        x= h.hexdigest()\n",
    "        x=int(h.hexdigest(),16) #轉成10進位\n",
    "        return x%5 #回傳除以5的餘數\n",
    "    \n",
    "    def add(self,key):\n",
    "        index=self.md5(key) #索引號就是剛剛md5轉完的餘數\n",
    "        if self.data[index]: #如果裡面有東西\n",
    "            y=self.data[index]\n",
    "            while y.next: #當他下一個存在\n",
    "                y=y.next #頭變成下一個\n",
    "            y.next=ListNode(key)     #如果下一個不存在就變成新的點\n",
    "        else: #裡面沒東西就建立點\n",
    "            self.data[index]=ListNode(key) \n",
    "        return \n",
    "    def contains(self, key):\n",
    "        index=self.md5(key) #索引號就是剛剛md5轉完的餘數\n",
    "        if self.data[index].val==key:#如果裡面就是key\n",
    "            return True\n",
    "        elif self.data[index]==None: #裡面沒東西\n",
    "            return False\n",
    "        else:\n",
    "            y=self.data[index]\n",
    "            while y.next: #當他下一個存在\n",
    "                if y.next.val==key: #如果下一個就是key\n",
    "                    return True\n",
    "                y=y.next #不是的話頭就變下一個繼續找\n",
    "            return False #如果找到他下一個都不存在還找不到就會傳false\n",
    "    def remove(self, key):\n",
    "        index=self.md5(key) #索引號就是剛剛md5轉完的餘數\n",
    "        if self.contains(key)==True: #如果裡面有要刪的數字\n",
    "            if self.data[index].val==key: #如果第一個就是要刪掉的數\n",
    "                self.data[index]==None\n",
    "            else: #第一個不是要找的 就往後找\n",
    "                y=self.data[index]\n",
    "                while y.next: #當他下一個存在\n",
    "                    if y.next.val==key: #如果下一個就是key\n",
    "                        y.next==None\n",
    "                    y=y.next #不是的話頭就變下一個繼續找\n",
    "            return\n",
    "        else: #沒要刪的\n",
    "            return False"
   ]
  },
  {
   "cell_type": "code",
   "execution_count": 356,
   "metadata": {},
   "outputs": [
    {
     "name": "stdout",
     "output_type": "stream",
     "text": [
      "True\n",
      "True\n"
     ]
    }
   ],
   "source": [
    "hashSet=MyHashSet()\n",
    "hashSet.add(\"pig\")\n",
    "rel=hashSet.contains(\"pig\")\n",
    "print(rel)\n",
    "hashSet.remove(\"pig\")\n",
    "rel=hashSet.contains(\"pig\")\n",
    "print(rel)"
   ]
  },
  {
   "cell_type": "markdown",
   "metadata": {},
   "source": [
    "沒有移除掉 重新試試\n",
    "\n",
    "發現好像是因為我刪掉之後並沒有傳回contains裡\n",
    "\n",
    "結果是contains的條件設的不太對 應該先判斷裡面有沒有東西再判斷key在不在"
   ]
  },
  {
   "cell_type": "code",
   "execution_count": 11,
   "metadata": {},
   "outputs": [],
   "source": [
    "from Crypto.Hash import MD5\n",
    "class ListNode:\n",
    "    def __init__(self, x):\n",
    "        self.val = x\n",
    "        self.next = None #linklist的點\n",
    "\n",
    "class MyHashSet:\n",
    "    def __init__(self, capacity=5):\n",
    "        self.capacity = capacity #這邊要可更改 所以不要設成=5\n",
    "        self.data = [None] * capacity #要存放的抽屜\n",
    "        \n",
    "    def md5(self,key):\n",
    "        h = MD5.new()\n",
    "        h.update(key.encode(\"utf-8\"))\n",
    "        x= h.hexdigest()\n",
    "        x=int(h.hexdigest(),16) #轉成10進位\n",
    "        return x%self.capacity #回傳除以capacity的餘數 這樣就可以更改\n",
    "    \n",
    "    def add(self,key):\n",
    "        index=self.md5(key) #索引號就是剛剛md5轉完的餘數\n",
    "        if self.data[index]: #如果裡面有東西\n",
    "            y=self.data[index]\n",
    "            while y.next: #當他下一個存在\n",
    "                y=y.next #頭變成下一個\n",
    "            y.next=ListNode(key)     #如果下一個不存在就變成新的點\n",
    "        else: #裡面沒東西就建立點\n",
    "            self.data[index]=ListNode(key) \n",
    "        return \n",
    "    \n",
    "    def contains(self, key):\n",
    "        index=self.md5(key) #索引號就是剛剛md5轉完的餘數\n",
    "        if self.data[index]:#如果裡面有東西\n",
    "            if self.data[index].val==key:#如果裡面就是key\n",
    "                return True\n",
    "            else:\n",
    "                y=self.data[index]\n",
    "                while y.next: #當他下一個存在\n",
    "                    if y.next.val==key: #如果下一個就是key\n",
    "                        return True\n",
    "                    else:\n",
    "                        y=y.next #不是的話頭就變下一個繼續找\n",
    "                return False #如果找到他下一個都不存在還找不到就會傳false\n",
    "        else: #裡面沒東西\n",
    "            return False\n",
    " \n",
    "    def remove(self, key):\n",
    "        index=self.md5(key) #索引號就是剛剛md5轉完的餘數\n",
    "        if self.contains(key)==True: #如果裡面有要刪的數字\n",
    "            if self.data[index].val==key: #如果第一個就是要刪掉的數\n",
    "                self.data[index]=None #刪掉他\n",
    "            else: #如果不是第一個就往後找\n",
    "                y=self.data[index]\n",
    "                while y.next: #當他下一個存在\n",
    "                    if y.next.val==key: #如果下一個就是key\n",
    "                        y.next=None #刪掉下一個\n",
    "                    else:\n",
    "                        y=y.next #不是的話頭就變下一個繼續找  \n",
    "            return\n",
    "        else: #沒要刪的\n",
    "            return False"
   ]
  },
  {
   "cell_type": "markdown",
   "metadata": {},
   "source": [
    "# 測試值"
   ]
  },
  {
   "cell_type": "code",
   "execution_count": 12,
   "metadata": {},
   "outputs": [
    {
     "name": "stdout",
     "output_type": "stream",
     "text": [
      "True\n",
      "False\n"
     ]
    }
   ],
   "source": [
    "hashSet=MyHashSet(5)\n",
    "hashSet.add(\"pig\")\n",
    "rel=hashSet.contains(\"pig\")\n",
    "print(rel)\n",
    "hashSet.remove(\"pig\")\n",
    "rel=hashSet.contains(\"pig\")\n",
    "print(rel)"
   ]
  },
  {
   "cell_type": "code",
   "execution_count": 13,
   "metadata": {},
   "outputs": [
    {
     "name": "stdout",
     "output_type": "stream",
     "text": [
      "True\n",
      "True\n",
      "False\n",
      "True\n",
      "False\n"
     ]
    }
   ],
   "source": [
    "hashSet=MyHashSet(5)\n",
    "hashSet.add(\"dog\")\n",
    "hashSet.add(\"pig\")\n",
    "rel=hashSet.contains(\"pig\")\n",
    "print(rel)\n",
    "rel=hashSet.contains(\"dog\")\n",
    "print(rel)\n",
    "rel=hashSet.contains(\"cat\")\n",
    "print(rel)\n",
    "hashSet.add(\"bird\")\n",
    "rel=hashSet.contains(\"bird\")\n",
    "print(rel)\n",
    "hashSet.remove(\"pig\")\n",
    "rel=hashSet.contains(\"pig\")\n",
    "print(rel)"
   ]
  },
  {
   "cell_type": "code",
   "execution_count": 14,
   "metadata": {},
   "outputs": [
    {
     "name": "stdout",
     "output_type": "stream",
     "text": [
      "False\n"
     ]
    }
   ],
   "source": [
    "hashSet=MyHashSet(5)\n",
    "hashSet.add(\"pig\")\n",
    "hashSet.add(\"cat\")\n",
    "hashSet.remove(\"pig\")\n",
    "rel=hashSet.contains(\"cat\")\n",
    "print(rel)"
   ]
  },
  {
   "cell_type": "markdown",
   "metadata": {},
   "source": [
    "新發現的問題 如果他後面還有數字我應該把後面數字接上來 不然會找不到\n",
    "\n",
    "新問題2 助教改了以後才知道原來存進去的值要是md5過的\n",
    "\n"
    
   ]
  },
  {
   "cell_type": "code",
   "execution_count": 65,
   "metadata": {},
   "outputs": [],
   "source": [
    "from Crypto.Hash import MD5\n",
    "class ListNode:\n",
    "    def __init__(self, x):\n",
    "        self.val = x\n",
    "        self.next = None #linklist的點\n",
    "\n",
    "class MyHashSet:\n",
    "    def __init__(self, capacity=5):\n",
    "        self.capacity = capacity #這邊要可更改 所以不要設成=5\n",
    "        self.data = [None] * capacity #要存放的抽屜\n",
    "        \n",
    "    def md5(self,key):\n",
    "        h = MD5.new()\n",
    "        h.update(key.encode(\"utf-8\"))\n",
    "        x= h.hexdigest()\n",
    "        x=int(x,16) #轉成10進位\n",
    "        return x #回傳加密後的 等下要用這個狀態存進去\n",
    "    \n",
    "    def add(self,key):\n",
    "        key=self.md5(key)\n",
    "        index=key%self.capacity #索引號就是剛剛md5轉完的餘數\n",
    "        if self.data[index]: #如果裡面有東西\n",
    "            y=self.data[index]\n",
    "            while y.next: #當他下一個存在\n",
    "                y=y.next #頭變成下一個\n",
    "            y.next=ListNode(key)     #如果下一個不存在就變成新的點\n",
    "        else: #裡面沒東西就建立點\n",
    "            self.data[index]=ListNode(key) \n",
    "        return self.data[index].val\n",
    "    \n",
    "    def contains(self, key):\n",
    "        key=self.md5(key)\n",
    "        index=key%self.capacity #索引號就是剛剛md5轉完的餘數\n",
    "        if self.data[index]:#如果裡面有東西\n",
    "            if self.data[index].val==key:#如果裡面就是key\n",
    "                return True\n",
    "            else:\n",
    "                y=self.data[index]\n",
    "                while y.next: #當他下一個存在\n",
    "                    if y.next.val==key: #如果下一個就是key\n",
    "                        return True\n",
    "                    else:\n",
    "                        y=y.next #不是的話頭就變下一個繼續找\n",
    "                return False #如果找到他下一個都不存在還找不到就會傳false\n",
    "        else: #裡面沒東西\n",
    "            return False\n",
    " \n",
    "    def remove(self, key):\n",
    "        x=self.md5(key)\n",
    "        index=x%self.capacity #索引號就是剛剛md5轉完的餘數\n",
    "        if self.contains(key)==True: #如果裡面有要刪的數字\n",
    "            if self.data[index].val==x: #如果第一個就是要刪掉的數\n",
    "                if self.data[index].next: #如果他下一個存在\n",
    "                    self.data[index]=self.data[index].next #頭就變下一個不然找不到下一個東西\n",
    "                else: #如果他下一個不存在就直接刪掉\n",
    "                    self.data[index]=None #刪掉他\n",
    "            else: #如果不是第一個就往後找\n",
    "                y=self.data[index]\n",
    "                while y.next: #當他下一個存在\n",
    "                    if y.next.val==x: #如果下一個就是key\n",
    "                        if y.next.next: #如果key後面有東西\n",
    "                            y.next=y.next.next #就變成下下個\n",
    "                        else: #key後面沒東西\n",
    "                            y.next=None #刪掉\n",
    "                    else:\n",
    "                        y=y.next #不是的話頭就變下一個繼續找  \n",
    "            return self.remove(key) #避免重複值\n",
    "        else: #沒要刪的\n",
    "            return False"
   ]
  },
  {
   "cell_type": "code",
   "execution_count": 66,
   "metadata": {},
   "outputs": [
    {
     "name": "stdout",
     "output_type": "stream",
     "text": [
      "True\n",
      "False\n"
     ]
    }
   ],
   "source": [
    "hashSet=MyHashSet(5)\n",
    "hashSet.add(\"pig\")\n",
    "rel=hashSet.contains(\"pig\")\n",
    "print(rel)\n",
    "hashSet.remove(\"pig\")\n",
    "rel=hashSet.contains(\"pig\")\n",
    "print(rel)"
   ]
  },
  {
   "cell_type": "code",
   "execution_count": 67,
   "metadata": {},
   "outputs": [
    {
     "name": "stdout",
     "output_type": "stream",
     "text": [
      "True\n",
      "True\n",
      "False\n",
      "True\n",
      "False\n"
     ]
    }
   ],
   "source": [
    "hashSet=MyHashSet(5)\n",
    "hashSet.add(\"dog\")\n",
    "hashSet.add(\"pig\")\n",
    "rel=hashSet.contains(\"pig\")\n",
    "print(rel)\n",
    "rel=hashSet.contains(\"dog\")\n",
    "print(rel)\n",
    "rel=hashSet.contains(\"cat\")\n",
    "print(rel)\n",
    "hashSet.add(\"bird\")\n",
    "rel=hashSet.contains(\"bird\")\n",
    "print(rel)\n",
    "hashSet.remove(\"pig\")\n",
    "rel=hashSet.contains(\"pig\")\n",
    "print(rel)"
   ]
  },
  {
   "cell_type": "code",
   "execution_count": 63,
   "metadata": {},
   "outputs": [
    {
     "name": "stdout",
     "output_type": "stream",
     "text": [
      "False\n",
      "True\n"
     ]
    }
   ],
   "source": [
    "hashSet=MyHashSet(5)\n",
    "hashSet.add(\"pig\")\n",
    "hashSet.add(\"cat\")\n",
    "hashSet.add(\"pig\")\n",
    "hashSet.remove(\"pig\")\n",
    "rel=hashSet.contains(\"pig\")\n",
    "print(rel)\n",
    "rel=hashSet.contains(\"cat\")\n",
    "print(rel)"
   ]
  },
  {
   "cell_type": "code",
   "execution_count": 68,
   "metadata": {},
   "outputs": [
    {
     "name": "stdout",
     "output_type": "stream",
     "text": [
      "False\n"
     ]
    }
   ],
   "source": [
    "hashSet=MyHashSet(5)\n",
    "hashSet.add(\"pig\")\n",
    "hashSet.add(\"pig\")\n",
    "hashSet.remove(\"pig\")\n",
    "rel=hashSet.contains(\"pig\")\n",
    "print(rel)"
   ]
  },
  {
   "cell_type": "code",
   "execution_count": 70,
   "metadata": {},
   "outputs": [
    {
     "name": "stdout",
     "output_type": "stream",
     "text": [
      "True\n"
     ]
    }
   ],
   "source": [
    "hashSet=MyHashSet(5)\n",
    "hashSet.add(\"pig\")\n",
    "hashSet.add(\"cat\")\n",
    "hashSet.remove(\"pig\")\n",
    "rel=hashSet.contains(\"cat\")\n",
    "print(rel)"
   ]
  },
  {
   "cell_type": "markdown",
   "metadata": {},
   "source": [
    "# 參考\n",
    "\n",
    "https://www.youtube.com/watch?v=O4dGJZ4J0Bk\n",
    "\n",
    "https://zh.wikipedia.org/wiki/%E5%93%88%E5%B8%8C%E8%A1%A8\n",
    "\n",
    "https://blog.techbridge.cc/2017/01/21/simple-hash-table-intro/\n",
    "\n",
    "http://alrightchiu.github.io/SecondRound/hash-tableintrojian-jie.html\n",
    "\n",
    "https://gist.github.com/travishen/f51365915ef7f178623a2cc9b2ede886\n",
    "\n",
    "https://www.youtube.com/watch?v=aZVNWYSR_sY&feature=youtu.be\n",
    "\n",
    "https://github.com/graphoarty/python-dsa/blob/master/DataStructures/HashTable/HashTable.py\n",
    "\n",
    "https://github.com/joeyajames/Python/blob/master/HashMap.py\n",
    "\n",
    "https://medium.com/100-days-of-python/day-09-hash-table-chaining-ef74baa6732"
   ]
  }
 ],
 "metadata": {
  "kernelspec": {
   "display_name": "Python 3",
   "language": "python",
   "name": "python3"
  },
  "language_info": {
   "codemirror_mode": {
    "name": "ipython",
    "version": 3
   },
   "file_extension": ".py",
   "mimetype": "text/x-python",
   "name": "python",
   "nbconvert_exporter": "python",
   "pygments_lexer": "ipython3",
   "version": "3.7.1"
  }
 },
 "nbformat": 4,
 "nbformat_minor": 2
}
