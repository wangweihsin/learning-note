問題:如何快速排序






{
 "cells": [
  {
   "cell_type": "code",
   "execution_count": 23,
   "metadata": {},
   "outputs": [],
   "source": [
    "def QuickSort(alist):\n",
    "    left=[]\n",
    "    center=[]\n",
    "    right=[]\n",
    "    if len(alist)<=1:\n",
    "        return alist\n",
    "    else:\n",
    "        key=alist[0] #設基準\n",
    "        for i in alist:\n",
    "            if i>key:\n",
    "                right.append(i)\n",
    "            elif i<key:\n",
    "                left.append(i)\n",
    "            else:\n",
    "                center.append(i)\n",
    "    left=QuickSort(left)\n",
    "    right=QuickSort(right)\n",
    "    return left+center+right"
   ]
  },
  {
   "cell_type": "code",
   "execution_count": 24,
   "metadata": {},
   "outputs": [
    {
     "name": "stdout",
     "output_type": "stream",
     "text": [
      "[17, 20, 26, 31, 44, 54, 55, 77, 93]\n"
     ]
    }
   ],
   "source": [
    "alist=[54,26,93,17,77,31,44,55,20]\n",
    "blist=QuickSort(alist)\n",
    "print(blist)"
   ]
  },
  {
   "cell_type": "code",
   "execution_count": 25,
   "metadata": {},
   "outputs": [
    {
     "name": "stdout",
     "output_type": "stream",
     "text": [
      "[0, 1, 5, 5, 8, 10, 22, 22, 65]\n"
     ]
    }
   ],
   "source": [
    "alist=[5,1,10,0,5,8,22,65,22]\n",
    "blist=QuickSort(alist)\n",
    "print(blist)"
   ]
  }
 ],
 "metadata": {
  "kernelspec": {
   "display_name": "Python 3",
   "language": "python",
   "name": "python3"
  },
  "language_info": {
   "codemirror_mode": {
    "name": "ipython",
    "version": 3
   },
   "file_extension": ".py",
   "mimetype": "text/x-python",
   "name": "python",
   "nbconvert_exporter": "python",
   "pygments_lexer": "ipython3",
   "version": "3.7.1"
  }
 },
 "nbformat": 4,
 "nbformat_minor": 2
}
