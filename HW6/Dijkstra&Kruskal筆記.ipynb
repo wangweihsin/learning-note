{
 "cells": [
  {
   "cell_type": "markdown",
   "metadata": {},
   "source": [
    "# Shortest Path(最短路徑問題)\n",
    "\n",
    "概念:起點到終點的最短路徑。\n",
    "\n",
    "# Dijkstra(戴克斯特拉算法)\n",
    "\n",
    "概念:有點像BFS的升級版本，選當前的最佳選擇，找出最短路徑。\n",
    "\n",
    "過程:先找起點，接著看他連到那些點(廣度優先)，接著看路徑長(最短路徑)。\n",
    "\n",
    "# 流程圖\n",
    "\n",
    "![d流程圖](https://github.com/wangweihsin/learning-note/blob/master/%E5%9C%96%E7%89%87/Dijkstra%E6%B5%81%E7%A8%8B%E5%9C%96.jpg?raw=true)"
   ]
  },
  {
   "cell_type": "markdown",
   "metadata": {},
   "source": [
    "為什麼會說像bfs升級版是因為一開始我們先看0>1路徑長4 0>7路徑長8\n",
    "\n",
    "0>1比較短所以接著看1還連到那些點(廣度優先)以及他們的路徑長(最短路徑)\n",
    "\n",
    "要注意0>7>6>5>3路徑長25 但是有更短的0>1>2>3路徑長19\n",
    "\n",
    "還有0>7>8路徑長15 更短的是0>1>2>8路徑長14"
   ]
  },
  {
   "cell_type": "markdown",
   "metadata": {},
   "source": [
    "# Kruskal(克魯斯克爾)\n",
    "\n",
    "概念:一種尋找最小生成樹的演算法。\n",
    "\n",
    "過程:先從小到大把權重排出來，從最小權重的開始找parent把兩點連起來，重複直到所有點的parent一樣，完成連通，得到最小生成樹\n",
    "\n",
    "# 流程圖\n",
    "\n",
    "![k流程圖](https://github.com/wangweihsin/learning-note/blob/master/%E5%9C%96%E7%89%87/Kruskal%E6%B5%81%E7%A8%8B%E5%9C%96.jpg?raw=true)"
   ]
  },
  {
   "cell_type": "markdown",
   "metadata": {},
   "source": [
    "可以看到途中最小權重1是7跟6 所以6的parent是7\n",
    "\n",
    "接著看權重2是8&2 2的parent是8\n",
    "\n",
    "注意!第三行權重2是6跟5 可以前面6的parent是7 所以5的parent也是7\n",
    "\n",
    "第五行權重4是2跟5 2的p 8 5的p 7 所以把p是7的全部改成8 7就不是parent了\n",
    "\n",
    "一直重複到最後就會畫出右下角連通的圖"
   ]
  },
  {
   "cell_type": "markdown",
   "metadata": {},
   "source": [
    "# 過程"
   ]
  },
  {
   "cell_type": "code",
   "execution_count": 21,
   "metadata": {},
   "outputs": [],
   "source": [
    "from collections import defaultdict \n",
    "class Graph(): \n",
    "    def __init__(self, vertices): \n",
    "        self.V = vertices \n",
    "        self.graph = [] \n",
    "        self.graph_matrix = [[0 for column in range(vertices)]  \n",
    "                    for row in range(vertices)]\n",
    "    def Dijkstra(self, s):\n",
    "        for i in self.graph:\n",
    "            return i"
   ]
  },
  {
   "cell_type": "code",
   "execution_count": 22,
   "metadata": {},
   "outputs": [
    {
     "name": "stdout",
     "output_type": "stream",
     "text": [
      "Dijkstra [0, 4, 0, 0, 0, 0, 0, 8, 0]\n"
     ]
    }
   ],
   "source": [
    "g = Graph(9)\n",
    "g.graph = [[0,4,0,0,0,0,0,8,0],\n",
    "          [4,0,8,0,0,0,0,11,0],\n",
    "          [0,8,0,7,0,4,0,0,2],\n",
    "          [0,0,7,0,9,14,0,0,0],\n",
    "          [0,0,0,9,0,10,0,0,0],\n",
    "          [0,0,4,14,10,0,2,0,0],\n",
    "          [0,0,0,0,0,2,0,1,6],\n",
    "          [8,11,0,0,0,0,1,0,7],\n",
    "          [0,0,2,0,0,0,6,7,0]];\n",
    "print(\"Dijkstra\",g.Dijkstra(0))"
   ]
  },
  {
   "cell_type": "markdown",
   "metadata": {},
   "source": [
    "根據最後要回傳的結果 我們先設字典\n",
    "\n",
    "參考:https://www.runoob.com/python/python-dictionary.html (字典)"
   ]
  },
  {
   "cell_type": "code",
   "execution_count": 30,
   "metadata": {},
   "outputs": [
    {
     "data": {
      "text/plain": [
       "{0: 0}"
      ]
     },
     "execution_count": 30,
     "metadata": {},
     "output_type": "execute_result"
    }
   ],
   "source": [
    "distance={0:0}\n",
    "distance"
   ]
  },
  {
   "cell_type": "code",
   "execution_count": 7,
   "metadata": {},
   "outputs": [
    {
     "data": {
      "text/plain": [
       "{'1': 0}"
      ]
     },
     "execution_count": 7,
     "metadata": {},
     "output_type": "execute_result"
    }
   ],
   "source": [
    "distance={}\n",
    "distance[str(1)]=0\n",
    "distance"
   ]
  },
  {
   "cell_type": "code",
   "execution_count": 8,
   "metadata": {},
   "outputs": [
    {
     "data": {
      "text/plain": [
       "{'1': 0, '2': 9}"
      ]
     },
     "execution_count": 8,
     "metadata": {},
     "output_type": "execute_result"
    }
   ],
   "source": [
    "distance[str(2)]=9\n",
    "distance"
   ]
  },
  {
   "cell_type": "code",
   "execution_count": 9,
   "metadata": {},
   "outputs": [],
   "source": [
    "from collections import defaultdict \n",
    "class Graph(): \n",
    "    def __init__(self, vertices): \n",
    "        self.V = vertices \n",
    "        self.graph = [] \n",
    "        self.graph_matrix = [[0 for column in range(vertices)]  \n",
    "                    for row in range(vertices)]\n",
    "    def Dijkstra(self, s):\n",
    "        distance={} #設字典\n",
    "        distance[str(s)]=0 #起點=0\n",
    "        return distance"
   ]
  },
  {
   "cell_type": "code",
   "execution_count": 10,
   "metadata": {},
   "outputs": [
    {
     "name": "stdout",
     "output_type": "stream",
     "text": [
      "Dijkstra {'0': 0}\n"
     ]
    }
   ],
   "source": [
    "g = Graph(9)\n",
    "g.graph = [[0,4,0,0,0,0,0,8,0],\n",
    "          [4,0,8,0,0,0,0,11,0],\n",
    "          [0,8,0,7,0,4,0,0,2],\n",
    "          [0,0,7,0,9,14,0,0,0],\n",
    "          [0,0,0,9,0,10,0,0,0],\n",
    "          [0,0,4,14,10,0,2,0,0],\n",
    "          [0,0,0,0,0,2,0,1,6],\n",
    "          [8,11,0,0,0,0,1,0,7],\n",
    "          [0,0,2,0,0,0,6,7,0]];\n",
    "print(\"Dijkstra\",g.Dijkstra(0))"
   ]
  },
  {
   "cell_type": "markdown",
   "metadata": {},
   "source": [
    "想法:找第一行除了0以外的最小值 他會是接著要往後看的點"
   ]
  },
  {
   "cell_type": "code",
   "execution_count": 25,
   "metadata": {},
   "outputs": [],
   "source": [
    "from collections import defaultdict \n",
    "class Graph(): \n",
    "    def __init__(self, vertices): \n",
    "        self.V = vertices \n",
    "        self.graph = [] \n",
    "        self.graph_matrix = [[0 for column in range(vertices)]  \n",
    "                    for row in range(vertices)]\n",
    "    def Dijkstra(self, s):\n",
    "        distance={} #設字典\n",
    "        distance[str(s)]=0 #先把起點丟進去 起點=0\n",
    "        x=[] #先設個空list等下放我要找的除了0以外的數字\n",
    "        for i in self.graph[0]: #找第一行中\n",
    "            if i>0: #大於0的數字\n",
    "                x.append(i) #丟進x裡\n",
    "        y=self.graph[0].index(min(x)) #找除了0以外最小的數字所在的位置\n",
    "        distance[str(y)]=min(x) #接著丟進字典裡\n",
    "        return distance"
   ]
  },
  {
   "cell_type": "code",
   "execution_count": 26,
   "metadata": {},
   "outputs": [
    {
     "name": "stdout",
     "output_type": "stream",
     "text": [
      "Dijkstra {'0': 0, '1': 4}\n"
     ]
    }
   ],
   "source": [
    "g = Graph(9)\n",
    "g.graph = [[0,4,0,0,0,0,0,8,0],\n",
    "          [4,0,8,0,0,0,0,11,0],\n",
    "          [0,8,0,7,0,4,0,0,2],\n",
    "          [0,0,7,0,9,14,0,0,0],\n",
    "          [0,0,0,9,0,10,0,0,0],\n",
    "          [0,0,4,14,10,0,2,0,0],\n",
    "          [0,0,0,0,0,2,0,1,6],\n",
    "          [8,11,0,0,0,0,1,0,7],\n",
    "          [0,0,2,0,0,0,6,7,0]];\n",
    "print(\"Dijkstra\",g.Dijkstra(0))"
   ]
  },
  {
   "cell_type": "markdown",
   "metadata": {},
   "source": [
    "想錯了 應該先把數字丟進字典裡而不是慢慢加進去 不然可能會有順序的問題"
   ]
  },
  {
   "cell_type": "code",
   "execution_count": 28,
   "metadata": {},
   "outputs": [
    {
     "data": {
      "text/plain": [
       "{'1': 0, '2': 9, '7': 8, '5': 10}"
      ]
     },
     "execution_count": 28,
     "metadata": {},
     "output_type": "execute_result"
    }
   ],
   "source": [
    "distance[str(7)]=8\n",
    "distance[str(5)]=10\n",
    "distance"
   ]
  },
  {
   "cell_type": "code",
   "execution_count": 35,
   "metadata": {},
   "outputs": [],
   "source": [
    "from collections import defaultdict \n",
    "class Graph(): \n",
    "    def __init__(self, vertices): \n",
    "        self.V = vertices \n",
    "        self.graph = [] \n",
    "        self.graph_matrix = [[0 for column in range(vertices)]  \n",
    "                    for row in range(vertices)]\n",
    "    def Dijkstra(self, s):\n",
    "        end={}\n",
    "        for i in range(len(self.graph[0])):\n",
    "            end[str(i)]=None\n",
    "        return end"
   ]
  },
  {
   "cell_type": "code",
   "execution_count": 36,
   "metadata": {},
   "outputs": [
    {
     "name": "stdout",
     "output_type": "stream",
     "text": [
      "Dijkstra {'0': None, '1': None, '2': None, '3': None, '4': None, '5': None, '6': None, '7': None, '8': None}\n"
     ]
    }
   ],
   "source": [
    "g = Graph(9)\n",
    "g.graph = [[0,4,0,0,0,0,0,8,0],\n",
    "          [4,0,8,0,0,0,0,11,0],\n",
    "          [0,8,0,7,0,4,0,0,2],\n",
    "          [0,0,7,0,9,14,0,0,0],\n",
    "          [0,0,0,9,0,10,0,0,0],\n",
    "          [0,0,4,14,10,0,2,0,0],\n",
    "          [0,0,0,0,0,2,0,1,6],\n",
    "          [8,11,0,0,0,0,1,0,7],\n",
    "          [0,0,2,0,0,0,6,7,0]];\n",
    "print(\"Dijkstra\",g.Dijkstra(0))"
   ]
  },
  {
   "cell_type": "code",
   "execution_count": 41,
   "metadata": {},
   "outputs": [],
   "source": [
    "from collections import defaultdict \n",
    "class Graph(): \n",
    "    def __init__(self, vertices): \n",
    "        self.V = vertices \n",
    "        self.graph = [] \n",
    "        self.graph_matrix = [[0 for column in range(vertices)]  \n",
    "                    for row in range(vertices)]\n",
    "    def Dijkstra(self, s):\n",
    "        end={} #最後要回傳的字典\n",
    "        for i in range(len(self.graph[0])): #看他一行有幾個數字\n",
    "            end[str(i)]=None #先建立在字典裡 後面的值先寫None之後補\n",
    "        end[str(s)]=0#起點等於0\n",
    "        return end"
   ]
  },
  {
   "cell_type": "code",
   "execution_count": 42,
   "metadata": {},
   "outputs": [
    {
     "name": "stdout",
     "output_type": "stream",
     "text": [
      "Dijkstra {'0': 0, '1': None, '2': None, '3': None, '4': None, '5': None, '6': None, '7': None, '8': None}\n"
     ]
    }
   ],
   "source": [
    "g = Graph(9)\n",
    "g.graph = [[0,4,0,0,0,0,0,8,0],\n",
    "          [4,0,8,0,0,0,0,11,0],\n",
    "          [0,8,0,7,0,4,0,0,2],\n",
    "          [0,0,7,0,9,14,0,0,0],\n",
    "          [0,0,0,9,0,10,0,0,0],\n",
    "          [0,0,4,14,10,0,2,0,0],\n",
    "          [0,0,0,0,0,2,0,1,6],\n",
    "          [8,11,0,0,0,0,1,0,7],\n",
    "          [0,0,2,0,0,0,6,7,0]];\n",
    "print(\"Dijkstra\",g.Dijkstra(0))"
   ]
  },
  {
   "cell_type": "markdown",
   "metadata": {},
   "source": [
    "起點加到字典裡後看起點那行的最小值 他就是下一個要加進字典裡的\n",
    "\n",
    "像例子是起點是0 '0':0 看第一行可以知道0後面接1跟7 而1比7路徑長還小 所以先看1"
   ]
  },
  {
   "cell_type": "code",
   "execution_count": 43,
   "metadata": {},
   "outputs": [],
   "source": [
    "from collections import defaultdict \n",
    "class Graph(): \n",
    "    def __init__(self, vertices): \n",
    "        self.V = vertices \n",
    "        self.graph = [] \n",
    "        self.graph_matrix = [[0 for column in range(vertices)]  \n",
    "                    for row in range(vertices)]\n",
    "    def Dijkstra(self, s):\n",
    "        end={} #最後要回傳的字典\n",
    "        for i in range(len(self.graph[0])): #看他一行有幾個數字\n",
    "            end[str(i)]=None #先建立在字典裡 後面的值先寫None之後補\n",
    "        end[str(s)]=0#起點等於0\n",
    "        x=[] #先設個空list等下放我要找的除了0以外的數字\n",
    "        for j in self.graph[s]: #找起點那行中\n",
    "            if j>0: #大於0的數字\n",
    "                x.append(j) #丟進x裡\n",
    "        y=self.graph[s].index(min(x)) #找除了0以外最小的數字所在的位置\n",
    "        end[str(y)]=min(x) #接著丟進字典裡\n",
    "        return end"
   ]
  },
  {
   "cell_type": "code",
   "execution_count": 44,
   "metadata": {},
   "outputs": [
    {
     "name": "stdout",
     "output_type": "stream",
     "text": [
      "Dijkstra {'0': 0, '1': 4, '2': None, '3': None, '4': None, '5': None, '6': None, '7': None, '8': None}\n"
     ]
    }
   ],
   "source": [
    "g = Graph(9)\n",
    "g.graph = [[0,4,0,0,0,0,0,8,0],\n",
    "          [4,0,8,0,0,0,0,11,0],\n",
    "          [0,8,0,7,0,4,0,0,2],\n",
    "          [0,0,7,0,9,14,0,0,0],\n",
    "          [0,0,0,9,0,10,0,0,0],\n",
    "          [0,0,4,14,10,0,2,0,0],\n",
    "          [0,0,0,0,0,2,0,1,6],\n",
    "          [8,11,0,0,0,0,1,0,7],\n",
    "          [0,0,2,0,0,0,6,7,0]];\n",
    "print(\"Dijkstra\",g.Dijkstra(0))"
   ]
  },
  {
   "cell_type": "markdown",
   "metadata": {},
   "source": [
    "0-1=4 接著看第二行1後面連的數字有沒有路徑長比剛剛0-7還短的\n",
    "\n",
    "有的話就先看 沒有的話照順序先看0-7"
   ]
  },
  {
   "cell_type": "markdown",
   "metadata": {},
   "source": [
    "想了一下我不太會一個一個填進去 只好換別的方法 把兩個list合併試試"
   ]
  },
  {
   "cell_type": "code",
   "execution_count": 212,
   "metadata": {},
   "outputs": [],
   "source": [
    "from collections import defaultdict \n",
    "class Graph(): \n",
    "    def __init__(self, vertices): \n",
    "        self.V = vertices \n",
    "        self.graph = [] \n",
    "        self.graph_matrix = [[0 for column in range(vertices)]  \n",
    "                    for row in range(vertices)]\n",
    "    def Dijkstra(self, s):\n",
    "        row=len(self.graph[0])#看第一行有多少數就是結果要返回的0~?\n",
    "        distance = [float(\"inf\")] * row #所有的路徑先都等於inf\n",
    "        distance[s]=0 #起點等於0\n",
    "        \n",
    "        queue=[]#放數字的list 還沒走過的點\n",
    "        for j in range(row):\n",
    "            queue.append(j)\n",
    "        \n",
    "        #找起點後連接的點 0-1\n",
    "        x=[] #先設個空list等下放我要找的除了0以外的數字\n",
    "        for i in self.graph[s]:#看起點那行\n",
    "            if i>0: #大於0的數字\n",
    "                x.append(i) #丟進x裡\n",
    "        y=self.graph[s].index(min(x)) #找除了0以外最小的數字所在的位置  \n",
    "        distance[y]=min(x)\n",
    "\n",
    "        while queue: #當還有沒走過的點 queue(1,2,3,4,5,6,7,8)\n",
    "            u=self.mindistance(distance,queue) #看他下一個要往哪走 0-1-? u=2\n",
    "            queue.remove(u)\n",
    "            for v in range(row):\n",
    "                if v in queue: #如果v還沒走過\n",
    "                    if self.graph[u][v]>0: #他有連到那個點\n",
    "                        if distance[u]+self.graph[u][v]<distance[v]:\n",
    "                            distance[v]=distance[u]+self.graph[u][v]\n",
    "        \n",
    "        return distance       \n",
    "    def mindistance(self,distance,queue): #找下個最近的點\n",
    "        mindist = float(\"inf\")\n",
    "        for k in range(len(self.graph[0])):\n",
    "            if k in queue:\n",
    "                if distance[k] < mindist:\n",
    "                    mindist = distance[k]\n",
    "                    minindex = k\n",
    "        return minindex"
   ]
  },
  {
   "cell_type": "code",
   "execution_count": 213,
   "metadata": {},
   "outputs": [
    {
     "name": "stdout",
     "output_type": "stream",
     "text": [
      "Dijkstra [0, 4, 12, 19, 21, 11, 9, 8, 14]\n"
     ]
    }
   ],
   "source": [
    "g = Graph(9)\n",
    "g.graph = [[0,4,0,0,0,0,0,8,0],\n",
    "          [4,0,8,0,0,0,0,11,0],\n",
    "          [0,8,0,7,0,4,0,0,2],\n",
    "          [0,0,7,0,9,14,0,0,0],\n",
    "          [0,0,0,9,0,10,0,0,0],\n",
    "          [0,0,4,14,10,0,2,0,0],\n",
    "          [0,0,0,0,0,2,0,1,6],\n",
    "          [8,11,0,0,0,0,1,0,7],\n",
    "          [0,0,2,0,0,0,6,7,0]];\n",
    "print(\"Dijkstra\",g.Dijkstra(0))"
   ]
  },
  {
   "cell_type": "markdown",
   "metadata": {},
   "source": [
    "接著把兩個合併起來 本來想使用zip\n",
    "\n",
    "參考:https://www.runoob.com/python/python-func-zip.html\n",
    "\n",
    "後來發現直接用dict(字典)就可以了"
   ]
  },
  {
   "cell_type": "code",
   "execution_count": 224,
   "metadata": {},
   "outputs": [],
   "source": [
    "from collections import defaultdict \n",
    "class Graph(): \n",
    "    def __init__(self, vertices): \n",
    "        self.V = vertices \n",
    "        self.graph = [] \n",
    "        self.graph_matrix = [[0 for column in range(vertices)]  \n",
    "                    for row in range(vertices)]\n",
    "    def Dijkstra(self, s):\n",
    "        row=len(self.graph[0])#看第一行有多少數就是結果要返回的0~?\n",
    "        distance = [float(\"inf\")] * row #所有的路徑先都等於inf\n",
    "        distance[s]=0 #起點等於0\n",
    "        \n",
    "        queue=[]#放數字的list 還沒走過的點\n",
    "        for j in range(row):\n",
    "            queue.append(j)\n",
    "        \n",
    "        #找起點後連接的點 0-1\n",
    "        x=[] #先設個空list等下放我要找的除了0以外的數字\n",
    "        for i in self.graph[s]:#看起點那行\n",
    "            if i>0: #大於0的數字\n",
    "                x.append(i) #丟進x裡\n",
    "        y=self.graph[s].index(min(x)) #找除了0以外最小的數字所在的位置  \n",
    "        distance[y]=min(x)\n",
    "\n",
    "        while queue: #當還有沒走過的點 queue(1,2,3,4,5,6,7,8)\n",
    "            u=self.mindistance(distance,queue) #看他下一個要往哪走 0-1-? u=2\n",
    "            queue.remove(u)\n",
    "            for v in range(row):\n",
    "                if v in queue: #如果v還沒走過\n",
    "                    if self.graph[u][v]>0: #他有連到那個點\n",
    "                        if distance[u]+self.graph[u][v]<distance[v]:\n",
    "                            distance[v]=distance[u]+self.graph[u][v]\n",
    "        \n",
    "        return self.endreturn(distance)       \n",
    "    def mindistance(self,distance,queue): #找下個最近的點\n",
    "        mindist = float(\"inf\")\n",
    "        for k in range(len(self.graph[0])):\n",
    "            if k in queue:\n",
    "                if distance[k] < mindist:\n",
    "                    mindist = distance[k]\n",
    "                    minindex = k\n",
    "        return minindex\n",
    "    def endreturn(self,distance):\n",
    "        end={} #最後要回傳的字典\n",
    "        for d in range(len(self.graph[0])): #看他一行有幾個數字\n",
    "            end[str(d)]=distance[d] #先建立在字典裡 後面的值先寫None之後補\n",
    "        return end"
   ]
  },
  {
   "cell_type": "code",
   "execution_count": 225,
   "metadata": {},
   "outputs": [
    {
     "name": "stdout",
     "output_type": "stream",
     "text": [
      "Dijkstra {'0': 0, '1': 4, '2': 12, '3': 19, '4': 21, '5': 11, '6': 9, '7': 8, '8': 14}\n"
     ]
    }
   ],
   "source": [
    "g = Graph(9)\n",
    "g.graph = [[0,4,0,0,0,0,0,8,0],\n",
    "          [4,0,8,0,0,0,0,11,0],\n",
    "          [0,8,0,7,0,4,0,0,2],\n",
    "          [0,0,7,0,9,14,0,0,0],\n",
    "          [0,0,0,9,0,10,0,0,0],\n",
    "          [0,0,4,14,10,0,2,0,0],\n",
    "          [0,0,0,0,0,2,0,1,6],\n",
    "          [8,11,0,0,0,0,1,0,7],\n",
    "          [0,0,2,0,0,0,6,7,0]];\n",
    "print(\"Dijkstra\",g.Dijkstra(0))"
   ]
  },
  {
   "cell_type": "markdown",
   "metadata": {},
   "source": [
    "# Kruskal過程"
   ]
  },
  {
   "cell_type": "code",
   "execution_count": 323,
   "metadata": {},
   "outputs": [],
   "source": [
    "from collections import defaultdict \n",
    "\n",
    "class Graph(): \n",
    "\n",
    "    def __init__(self, vertices): \n",
    "        self.V = vertices \n",
    "        self.graph = [] \n",
    "        self.graph_matrix = [[0 for column in range(vertices)]  \n",
    "                    for row in range(vertices)] \n",
    "    def addEdge(self,u,v,w): \n",
    "        self.graph.append([u,v,w])\n",
    "    def Kruskal(self):\n",
    "        \n",
    "        p=[-1]*self.V #parent設-1\n",
    "        self.graph=sorted(self.graph,key=lambda item:item[2]) #照權重排列\n",
    "        end={}\n",
    "        for i in range(len(self.graph)):\n",
    "            a=self.graph[i][0]#第一小的權重\n",
    "            b=self.graph[i][1]\n",
    "            if p[a] and p[b] == -1:\n",
    "                p[a]=a\n",
    "                p[b]=a\n",
    "                end[str(a)+\"-\"+str(b)]=self.graph[i][2]\n",
    "                \n",
    "            if p[a]==-1:\n",
    "                if p[b]!=-1:\n",
    "                    p[a]=a\n",
    "                    for j in p:\n",
    "                        if p[j]==p[b]:\n",
    "                            p[j]=a\n",
    "                            p[b]=a\n",
    "                    end[str(a)+\"-\"+str(b)]=self.graph[i][2]\n",
    "            if p[a]!=-1:\n",
    "                if p[b]==-1:\n",
    "                    p[b]=p[a]\n",
    "                    end[str(a)+\"-\"+str(b)]=self.graph[i][2]\n",
    "        return end"
   ]
  },
  {
   "cell_type": "code",
   "execution_count": 324,
   "metadata": {},
   "outputs": [
    {
     "name": "stdout",
     "output_type": "stream",
     "text": [
      "Kruskal {'2-3': 4, '0-3': 5, '0-1': 10}\n"
     ]
    }
   ],
   "source": [
    "g = Graph(4)\n",
    "g.addEdge(0,1,10)\n",
    "g.addEdge(0,2,6)\n",
    "g.addEdge(0,3,5)\n",
    "g.addEdge(1,3,15)\n",
    "g.addEdge(2,3,4)\n",
    "print(\"Kruskal\",g.Kruskal())"
   ]
  },
  {
   "cell_type": "markdown",
   "metadata": {},
   "source": [
    "# 參考\n",
    "\n",
    "https://www.google.com/search?q=Shortest+Path&rlz=1C1GGRV_enTW754TW764&oq=Shortest+Path&aqs=chrome..69i57j0l6j69i61.1421j0j7&sourceid=chrome&ie=UTF-8 (最短路徑)\n",
    "\n",
    "http://alrightchiu.github.io/SecondRound/single-source-shortest-pathdijkstras-algorithm.html (Dijkstra)\n",
    "\n",
    "https://zh.wikipedia.org/wiki/%E6%88%B4%E5%85%8B%E6%96%AF%E7%89%B9%E6%8B%89%E7%AE%97%E6%B3%95 (Dijkstra)\n",
    "\n",
    "https://www.runoob.com/python/python-dictionary.html (字典)\n",
    "\n",
    "https://www.youtube.com/watch?v=9wV1VxlfBlI\n",
    "\n",
    "https://www.geeksforgeeks.org/printing-paths-dijkstras-shortest-path-algorithm/"
   ]
  }
 ],
 "metadata": {
  "kernelspec": {
   "display_name": "Python 3",
   "language": "python",
   "name": "python3"
  },
  "language_info": {
   "codemirror_mode": {
    "name": "ipython",
    "version": 3
   },
   "file_extension": ".py",
   "mimetype": "text/x-python",
   "name": "python",
   "nbconvert_exporter": "python",
   "pygments_lexer": "ipython3",
   "version": "3.7.1"
  }
 },
 "nbformat": 4,
 "nbformat_minor": 2
}
