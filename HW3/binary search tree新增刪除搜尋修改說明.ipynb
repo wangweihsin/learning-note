{
 "cells": [
  {
   "cell_type": "markdown",
   "metadata": {},
   "source": [
    "# search 搜尋"
   ]
  },
  {
   "attachments": {},
   "cell_type": "markdown",
   "metadata": {},
   "source": [
    "![搜尋](https://github.com/wangweihsin/learning-note/blob/master/%E5%9C%96%E7%89%87/%E6%90%9C%E5%B0%8B.jpg?raw=true)"
   ]
  },
  {
   "cell_type": "markdown",
   "metadata": {},
   "source": [
    "根據binary search tree的規則left<root<right進行搜尋"
   ]
  },
  {
   "cell_type": "markdown",
   "metadata": {},
   "source": [
    "### 搜尋成功\n",
    "\n",
    "將搜尋的值與root對比 像圖中找[2] 2<17(root1)所以往left走\n",
    "\n",
    "2<10(root2)再繼續往left走 就找到2了"
   ]
  },
  {
   "cell_type": "markdown",
   "metadata": {},
   "source": [
    "### 搜尋失敗\n",
    "\n",
    "另一種情況是沒有搜尋到 像圖中找[54]\n",
    "\n",
    "54>17(root1)向right走 54>32(root3)向right走\n",
    "\n",
    "但是32沒有right 於是回傳null"
   ]
  },
  {
   "cell_type": "markdown",
   "metadata": {},
   "source": [
    "# insert 新增"
   ]
  },
  {
   "cell_type": "markdown",
   "metadata": {},
   "source": [
    "![新增](https://github.com/wangweihsin/learning-note/blob/master/%E5%9C%96%E7%89%87/%E6%96%B0%E5%A2%9E.jpg?raw=true)"
   ]
  },
  {
   "cell_type": "markdown",
   "metadata": {},
   "source": [
    "根據left<root<right的規則來找到要新增的數的位置\n",
    "\n",
    "如圖 新增數字[26] 先跟root1比 26>17向右走\n",
    "\n",
    "26<32向左走 26<28放左"
   ]
  },
  {
   "cell_type": "markdown",
   "metadata": {},
   "source": [
    "# 刪除"
   ]
  },
  {
   "cell_type": "markdown",
   "metadata": {},
   "source": [
    "![刪除](https://github.com/wangweihsin/learning-note/blob/master/%E5%9C%96%E7%89%87/%E5%88%AA%E9%99%A4.jpg?raw=true)"
   ]
  },
  {
   "cell_type": "markdown",
   "metadata": {},
   "source": [
    "刪除有三種情況\n",
    "\n",
    "### 情況1:要刪除的值沒有子節點\n",
    "\n",
    "如圖 刪除[7] 直接把數字變成指向null就可\n",
    "\n",
    "### 情況2:要刪除的值有一個子節點\n",
    "\n",
    "如圖 刪除[2] 2下面還有個right(7)\n",
    "\n",
    "將10(root2)指向7就可 因為7也是10的左節點 可以保持樹的完整性\n",
    "\n",
    "### 情況3:要刪除的值有兩個子節點\n",
    "\n",
    "如圖 刪除[32]\n",
    "\n",
    "找大於(right)中的最小(如果右子節點下面還有子節點)\n",
    "\n",
    "找小於(left)中的最大(如果下面還有子節點)\n",
    "\n",
    "因為圖中87下面沒有其他子節點了 所以用87替代掉32"
   ]
  },
  {
   "cell_type": "markdown",
   "metadata": {},
   "source": [
    "參考:\n",
    "\n",
    "http://alrightchiu.github.io/SecondRound/binary-search-tree-searchsou-xun-zi-liao-insertxin-zeng-zi-liao.html#search (新增、查詢)\n",
    "\n",
    "http://alrightchiu.github.io/SecondRound/binary-search-tree-sortpai-xu-deleteshan-chu-zi-liao.html (刪除、修改)\n",
    "\n",
    "https://zh.wikipedia.org/wiki/%E4%BA%8C%E5%85%83%E6%90%9C%E5%B0%8B%E6%A8%B9 (維基)\n",
    "\n",
    "http://alrightchiu.github.io/SecondRound/binary-search-tree-introjian-jie.html (簡介)"
   ]
  }
 ],
 "metadata": {
  "kernelspec": {
   "display_name": "Python 3",
   "language": "python",
   "name": "python3"
  },
  "language_info": {
   "codemirror_mode": {
    "name": "ipython",
    "version": 3
   },
   "file_extension": ".py",
   "mimetype": "text/x-python",
   "name": "python",
   "nbconvert_exporter": "python",
   "pygments_lexer": "ipython3",
   "version": "3.7.1"
  }
 },
 "nbformat": 4,
 "nbformat_minor": 2
}
