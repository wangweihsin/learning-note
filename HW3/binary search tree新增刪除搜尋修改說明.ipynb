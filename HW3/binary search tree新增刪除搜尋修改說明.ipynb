{
 "cells": [
  {
   "cell_type": "markdown",
   "metadata": {},
   "source": [
    "# search 搜尋"
   ]
  },
  {
   "cell_type": "markdown",
   "metadata": {},
   "source": [
    "![搜尋](https://github.com/wangweihsin/learning-note/blob/master/%E5%9C%96%E7%89%87/%E6%90%9C%E5%B0%8B.jpg?raw=true)"
   ]
  },
  {
   "cell_type": "markdown",
   "metadata": {},
   "source": [
    "根據binary search tree的規則left<root<right進行搜尋"
   ]
  },
  {
   "cell_type": "markdown",
   "metadata": {},
   "source": [
    "### 搜尋成功\n",
    "\n",
    "將搜尋的值與root對比 像圖中找[2] 2<17(root1)所以往left走\n",
    "\n",
    "2<10(root2)再繼續往left走 就找到2了"
   ]
  },
  {
   "cell_type": "markdown",
   "metadata": {},
   "source": [
    "### 搜尋失敗\n",
    "\n",
    "另一種情況是沒有搜尋到 像圖中找[54]\n",
    "\n",
    "54>17(root1)向right走 54>32(root3)向right走\n",
    "\n",
    "但是32沒有right 於是回傳null"
   ]
  },
  {
   "cell_type": "code",
   "execution_count": 7,
   "metadata": {},
   "outputs": [],
   "source": [
    "class TreeNode(object):\n",
    "    def __init__(self,x):\n",
    "        self.val = x\n",
    "        self.left = None\n",
    "        self.right = None\n",
    "class Solution(object):\n",
    "    def search(self, root, target):\n",
    "        if root: #如果root存在\n",
    "            if target>root.val: #往右\n",
    "                if root.right: #如果右邊存在\n",
    "                    return Solution().search(root.right,target) #回傳繼續找\n",
    "                else: #右邊不存在 也就是找不到 回傳沒東西\n",
    "                    return None\n",
    "            if target<root.val: #往左\n",
    "                if root.left: #如果左邊存在\n",
    "                    return Solution().search(root.left,target) #回傳繼續找\n",
    "                else: #左邊不存在 找不到 沒東西\n",
    "                    return None\n",
    "            if target==root.val: #如果要找的值=root\n",
    "                return root\n",
    "        else:\n",
    "            return None"
   ]
  },
  {
   "cell_type": "code",
   "execution_count": 9,
   "metadata": {},
   "outputs": [
    {
     "name": "stdout",
     "output_type": "stream",
     "text": [
      "search\n",
      "None\n"
     ]
    }
   ],
   "source": [
    "root=TreeNode(5)\n",
    "Node1=TreeNode(3)\n",
    "Node2=TreeNode(3)\n",
    "Node3=TreeNode(-5)\n",
    "Node4=TreeNode(8)\n",
    "Node5=TreeNode(7)\n",
    "Node6=TreeNode(6)\n",
    "Node7=TreeNode(10)\n",
    "root.left=Node1\n",
    "root.right=Node4\n",
    "Node1.left=Node2\n",
    "Node2.left=Node3\n",
    "Node4.left=Node5\n",
    "Node4.right=Node7\n",
    "Node5.left=Node6\n",
    "print('search')\n",
    "print(Solution().search(root,4))"
   ]
  },
  {
   "cell_type": "code",
   "execution_count": 10,
   "metadata": {},
   "outputs": [
    {
     "name": "stdout",
     "output_type": "stream",
     "text": [
      "search\n",
      "True\n"
     ]
    }
   ],
   "source": [
    "print('search')\n",
    "print(Solution().search(root,-5)==root.left.left.left)"
   ]
  },
  {
   "cell_type": "code",
   "execution_count": 11,
   "metadata": {},
   "outputs": [
    {
     "name": "stdout",
     "output_type": "stream",
     "text": [
      "search\n",
      "None\n"
     ]
    }
   ],
   "source": [
    "print('search')\n",
    "print(Solution().search(root,1))"
   ]
  },
  {
   "cell_type": "markdown",
   "metadata": {},
   "source": [
    "# insert 新增"
   ]
  },
  {
   "cell_type": "markdown",
   "metadata": {},
   "source": [
    "![新增](https://github.com/wangweihsin/learning-note/blob/master/%E5%9C%96%E7%89%87/%E6%96%B0%E5%A2%9E.jpg?raw=true)"
   ]
  },
  {
   "cell_type": "markdown",
   "metadata": {},
   "source": [
    "根據left<root<right的規則來找到要新增的數的位置\n",
    "\n",
    "如圖 新增數字[26] 先跟root1比 26>17向右走\n",
    "\n",
    "26<32向左走 26<28放左"
   ]
  },
  {
   "cell_type": "code",
   "execution_count": 1,
   "metadata": {},
   "outputs": [],
   "source": [
    "class TreeNode(object):\n",
    "    def __init__(self,x):\n",
    "        self.val = x\n",
    "        self.left = None\n",
    "        self.right = None\n",
    "class Solution(object):\n",
    "    def insert(self, root, val): #root=3 insert(4)\n",
    "        if root: #如果root存在\n",
    "            if val>root.val: #>root往右\n",
    "                if root.right: #如果右存在\n",
    "                    return Solution().insert(root.right,val) #回傳繼續對比\n",
    "                else: #右不存在\n",
    "                    root.right=TreeNode(val) #右邊創新點\n",
    "                    return root.right\n",
    "            if val<=root.val: #<=root往左\n",
    "                if root.left: #如果左存在\n",
    "                    return Solution().insert(root.left,val) #回傳繼續對比\n",
    "                else: #左不存在\n",
    "                    root.left=TreeNode(val)\n",
    "                    return root.left\n",
    "        else: #如果root不存在\n",
    "            root=TreeNode(val)\n",
    "            return root"
   ]
  },
  {
   "cell_type": "code",
   "execution_count": 2,
   "metadata": {},
   "outputs": [
    {
     "name": "stdout",
     "output_type": "stream",
     "text": [
      "Insert\n",
      "True\n"
     ]
    }
   ],
   "source": [
    "root=TreeNode(5)\n",
    "Node1=TreeNode(3)\n",
    "Node2=TreeNode(3)\n",
    "Node3=TreeNode(-5)\n",
    "Node4=TreeNode(8)\n",
    "Node5=TreeNode(7)\n",
    "Node6=TreeNode(6)\n",
    "Node7=TreeNode(10)\n",
    "root.left=Node1\n",
    "root.right=Node4\n",
    "Node1.left=Node2\n",
    "Node2.left=Node3\n",
    "Node4.left=Node5\n",
    "Node4.right=Node7\n",
    "Node5.left=Node6\n",
    "print('Insert')\n",
    "print(Solution().insert(root,4)==root.left.right)"
   ]
  },
  {
   "cell_type": "code",
   "execution_count": 3,
   "metadata": {},
   "outputs": [
    {
     "name": "stdout",
     "output_type": "stream",
     "text": [
      "Insert\n",
      "True\n"
     ]
    }
   ],
   "source": [
    "print('Insert')\n",
    "print(Solution().insert(root,6)==root.right.left.left.left) #重複值"
   ]
  },
  {
   "cell_type": "markdown",
   "metadata": {},
   "source": [
    "# 刪除"
   ]
  },
  {
   "cell_type": "markdown",
   "metadata": {},
   "source": [
    "![刪除](https://github.com/wangweihsin/learning-note/blob/master/%E5%9C%96%E7%89%87/%E5%88%AA%E9%99%A4.jpg?raw=true)"
   ]
  },
  {
   "cell_type": "markdown",
   "metadata": {},
   "source": [
    "刪除有三種情況\n",
    "\n",
    "### 情況1:要刪除的值沒有子節點\n",
    "\n",
    "如圖 刪除[7] 直接把數字變成指向null就可\n",
    "\n",
    "### 情況2:要刪除的值有一個子節點\n",
    "\n",
    "如圖 刪除[2] 2下面還有個right(7)\n",
    "\n",
    "將10(root2)指向7就可 因為7也是10的左節點 可以保持樹的完整性\n",
    "\n",
    "### 情況3:要刪除的值有兩個子節點\n",
    "\n",
    "如圖 刪除[32]\n",
    "\n",
    "找大於(right)中的最小(如果右子節點下面還有子節點)\n",
    "\n",
    "找小於(left)中的最大(如果下面還有子節點)\n",
    "\n",
    "因為圖中87下面沒有其他子節點了 所以用87替代掉32"
   ]
  },
  {
   "cell_type": "code",
   "execution_count": 3,
   "metadata": {},
   "outputs": [],
   "source": [
    "class TreeNode(object):\n",
    "    def __init__(self,x):\n",
    "        self.val = x\n",
    "        self.left = None\n",
    "        self.right = None\n",
    "class Solution(object):\n",
    "    def delete(self, root, target):\n",
    "        father=None\n",
    "        node=root\n",
    "        while node and node.val!=target:\n",
    "            father=node\n",
    "            if target>node.val:#往右\n",
    "                node=node.right\n",
    "            elif target<node.val:#往左\n",
    "                node=node.left\n",
    "            #如果相等就會跳出去 此時father=5 node=3\n",
    "            \n",
    "        if node is None: #要記得設node沒有值跳出來的狀況\n",
    "            return root\n",
    "        if node.right is None and node.left is None:#沒有子節點\n",
    "            node=None #直接刪除\n",
    "            if target>father.val:\n",
    "                father.right=node\n",
    "            else:\n",
    "                father.left=node\n",
    "            return root\n",
    "\n",
    "        if node.left: #只有左節點\n",
    "            if node.right is None:\n",
    "                if target< father.val:\n",
    "                    father.left=node.left\n",
    "                    return self.delete(root,target)\n",
    "        if node.right: #只有右節點\n",
    "            if node.left is None:\n",
    "                if target> father.val:\n",
    "                    father.right=node.right\n",
    "                    return self.delete(root,target)\n",
    "        if node.right and node.left: #如果兩邊存在\n",
    "            minnode= self.findmin(node.right)\n",
    "            node=minnode\n",
    "            if target> father.val:\n",
    "                father.right=node\n",
    "            \n",
    "        return root\n",
    "    def findmin(self,root):\n",
    "        if root.left:\n",
    "            return self.findmin(node.right)\n",
    "        else:\n",
    "            return root"
   ]
  },
  {
   "cell_type": "markdown",
   "metadata": {},
   "source": [
    "# 修改"
   ]
  },
  {
   "cell_type": "markdown",
   "metadata": {},
   "source": [
    "![修改](https://github.com/wangweihsin/learning-note/blob/master/%E5%9C%96%E7%89%87/%E4%BF%AE%E6%94%B9.jpg?raw=true)"
   ]
  },
  {
   "cell_type": "markdown",
   "metadata": {},
   "source": [
    "修改就是想把某數改成某數\n",
    "\n",
    "但是不能直接替換 因為這樣會有可能破壞數的結構\n",
    "\n",
    "如圖 我不能刪掉32直接改成99\n",
    "\n",
    "所以先新增99 接著刪掉32"
   ]
  },
  {
   "cell_type": "code",
   "execution_count": 4,
   "metadata": {},
   "outputs": [],
   "source": [
    "class Solution(object):    \n",
    "    def modify(self, root, target, new_val):\n",
    "        if root: #如果root存在\n",
    "            if target ==root.val:\n",
    "                return root\n",
    "            else:\n",
    "                Solution().insert(root,new_val)\n",
    "                return Solution().delete(root,target)"
   ]
  },
  {
   "cell_type": "markdown",
   "metadata": {},
   "source": [
    "參考:\n",
    "\n",
    "http://alrightchiu.github.io/SecondRound/binary-search-tree-searchsou-xun-zi-liao-insertxin-zeng-zi-liao.html#search (新增、查詢)\n",
    "\n",
    "http://alrightchiu.github.io/SecondRound/binary-search-tree-sortpai-xu-deleteshan-chu-zi-liao.html (刪除、修改)\n",
    "\n",
    "https://zh.wikipedia.org/wiki/%E4%BA%8C%E5%85%83%E6%90%9C%E5%B0%8B%E6%A8%B9 (維基)\n",
    "\n",
    "http://alrightchiu.github.io/SecondRound/binary-search-tree-introjian-jie.html (簡介)"
   ]
  }
 ],
 "metadata": {
  "kernelspec": {
   "display_name": "Python 3",
   "language": "python",
   "name": "python3"
  },
  "language_info": {
   "codemirror_mode": {
    "name": "ipython",
    "version": 3
   },
   "file_extension": ".py",
   "mimetype": "text/x-python",
   "name": "python",
   "nbconvert_exporter": "python",
   "pygments_lexer": "ipython3",
   "version": "3.7.1"
  }
 },
 "nbformat": 4,
 "nbformat_minor": 2
}
