{
 "cells": [
  {
   "cell_type": "markdown",
   "metadata": {},
   "source": [
    "# binary search tree (二元搜尋樹)\n",
    "\n",
    "概念:將比根植小的數放左邊，比根植大的樹放右邊，left child<root<right child，子節點不一定有兩個。"
   ]
  },
  {
   "cell_type": "markdown",
   "metadata": {},
   "source": [
    "# 流程圖\n",
    "\n",
    "![流程圖](https://github.com/wangweihsin/learning-note/blob/master/%E5%9C%96%E7%89%87/binary%20tree%E6%B5%81%E7%A8%8B%E5%9C%96.jpg?raw=true)\n",
    "\n",
    "binary search tree有以下幾個功能 詳細的再另一篇討論"
   ]
  },
  {
   "cell_type": "markdown",
   "metadata": {},
   "source": [
    "# 搜尋\n",
    "\n",
    "![搜尋](https://github.com/wangweihsin/learning-note/blob/master/%E5%9C%96%E7%89%87/%E6%96%B0%E5%A2%9E.jpg?raw=true)\n",
    "\n",
    "# 新增\n",
    "\n",
    "![新增](https://github.com/wangweihsin/learning-note/blob/master/%E5%9C%96%E7%89%87/%E6%96%B0%E5%A2%9E.jpg?raw=true)\n",
    "\n",
    "# 刪除\n",
    "\n",
    "![刪除](https://github.com/wangweihsin/learning-note/blob/master/%E5%9C%96%E7%89%87/%E5%88%AA%E9%99%A4.jpg?raw=true)\n",
    "\n",
    "# 修改\n",
    "\n"
   ]
  },
  {
   "cell_type": "markdown",
   "metadata": {},
   "source": []
  },
  {
   "cell_type": "markdown",
   "metadata": {},
   "source": [
    "# insert(新增)的部分\n",
    "\n",
    "與root對比 >往右 <往左"
   ]
  },
  {
   "cell_type": "code",
   "execution_count": 44,
   "metadata": {},
   "outputs": [
    {
     "data": {
      "text/plain": [
       "3"
      ]
     },
     "execution_count": 44,
     "metadata": {},
     "output_type": "execute_result"
    }
   ],
   "source": [
    "class TreeNode(object):\n",
    "    def __init__(self,x):\n",
    "        self.val = x\n",
    "        self.left = None\n",
    "        self.right = None\n",
    "class Solution(object):\n",
    "    def insert(self, root, val): #root=3 insert(4)\n",
    "        if val>root.val: #如果insert>root:\n",
    "            return root.val\n",
    "l1 = TreeNode(3)\n",
    "l2 = TreeNode(2)\n",
    "l3 = TreeNode(5)\n",
    "root =l1\n",
    "Solution().insert(root,4)"
   ]
  },
  {
   "cell_type": "markdown",
   "metadata": {},
   "source": [
    "4>3 往右邊繼續跟l3(5)比\n",
    "\n",
    "原本直接寫>往右 <往左 忘記考慮當沒有值的情況\n",
    "\n",
    "所以外面要包一層root存在的判斷"
   ]
  },
  {
   "cell_type": "code",
   "execution_count": 52,
   "metadata": {},
   "outputs": [],
   "source": [
    "class TreeNode(object):\n",
    "    def __init__(self,x):\n",
    "        self.val = x\n",
    "        self.left = None\n",
    "        self.right = None\n",
    "class Solution(object):\n",
    "    def insert(self, root, val): #root=3 insert(4)\n",
    "        if root: #如果root存在\n",
    "            if val>root.val: #>root往右\n",
    "                if root.right: #如果右存在\n",
    "                    return Solution().insert(root.right,val) #回傳繼續對比\n",
    "                else: #右不存在\n",
    "                    return TreeNode(val)#右邊創新點\n",
    "            if val<=root.val: #<=root往左\n",
    "                if root.left: #如果左存在\n",
    "                    return Solution().insert(root.left,val) #回傳繼續對比\n",
    "                else: #左不存在\n",
    "                    return TreeNode(val) #左不存在\n",
    "        else: #如果root不存在\n",
    "            return TreeNode(val)"
   ]
  },
  {
   "cell_type": "code",
   "execution_count": 53,
   "metadata": {},
   "outputs": [
    {
     "name": "stdout",
     "output_type": "stream",
     "text": [
      "Insert\n",
      "False\n"
     ]
    }
   ],
   "source": [
    "print('Insert')\n",
    "print(Solution().insert(root,4)==root.left.right)"
   ]
  },
  {
   "cell_type": "markdown",
   "metadata": {},
   "source": [
    "如果左節點或右節點不存在的話!!!\n",
    "\n",
    "那個root的左或右節點就是val了!!"
   ]
  },
  {
   "cell_type": "code",
   "execution_count": 28,
   "metadata": {},
   "outputs": [],
   "source": [
    "class TreeNode(object):\n",
    "    def __init__(self,x):\n",
    "        self.val = x\n",
    "        self.left = None\n",
    "        self.right = None\n",
    "class Solution(object):\n",
    "    def insert(self, root, val): #root=3 insert(4)\n",
    "        if root: #如果root存在\n",
    "            if val>root.val: #>root往右\n",
    "                if root.right: #如果右存在\n",
    "                    return Solution().insert(root.right,val) #回傳繼續對比\n",
    "                else: #右不存在\n",
    "                    root.right=TreeNode(val) #右邊創新點\n",
    "                    return root.right\n",
    "            if val<=root.val: #<=root往左\n",
    "                if root.left: #如果左存在\n",
    "                    return Solution().insert(root.left,val) #回傳繼續對比\n",
    "                else: #左不存在\n",
    "                    root.left=TreeNode(val)\n",
    "                    return root.left\n",
    "        else: #如果root不存在\n",
    "            root=TreeNode(val)\n",
    "            return root"
   ]
  },
  {
   "cell_type": "markdown",
   "metadata": {},
   "source": [
    "# 測試"
   ]
  },
  {
   "cell_type": "code",
   "execution_count": 29,
   "metadata": {},
   "outputs": [
    {
     "name": "stdout",
     "output_type": "stream",
     "text": [
      "Insert\n",
      "True\n"
     ]
    }
   ],
   "source": [
    "root=TreeNode(5)\n",
    "Node1=TreeNode(3)\n",
    "Node2=TreeNode(3)\n",
    "Node3=TreeNode(-5)\n",
    "Node4=TreeNode(8)\n",
    "Node5=TreeNode(7)\n",
    "Node6=TreeNode(6)\n",
    "Node7=TreeNode(10)\n",
    "root.left=Node1\n",
    "root.right=Node4\n",
    "Node1.left=Node2\n",
    "Node2.left=Node3\n",
    "Node4.left=Node5\n",
    "Node4.right=Node7\n",
    "Node5.left=Node6\n",
    "print('Insert')\n",
    "print(Solution().insert(root,4)==root.left.right)"
   ]
  },
  {
   "cell_type": "code",
   "execution_count": 36,
   "metadata": {},
   "outputs": [
    {
     "name": "stdout",
     "output_type": "stream",
     "text": [
      "Insert\n",
      "True\n"
     ]
    }
   ],
   "source": [
    "print('Insert')\n",
    "print(Solution().insert(root,6)==root.right.left.left.left) #重複值"
   ]
  },
  {
   "cell_type": "markdown",
   "metadata": {},
   "source": [
    "# search(搜尋)"
   ]
  },
  {
   "cell_type": "markdown",
   "metadata": {},
   "source": [
    "搜尋跟新增很像 所以我打算搜尋的部分\n",
    "\n",
    "一樣 如果大於root往右 大於root往左\n",
    "\n",
    "如果val=節點值 那就回傳成功\n",
    "\n",
    "如果往右或往左後沒有結點 那就說明沒有那個值 回傳失敗"
   ]
  },
  {
   "cell_type": "code",
   "execution_count": 39,
   "metadata": {},
   "outputs": [],
   "source": [
    "class TreeNode(object):\n",
    "    def __init__(self,x):\n",
    "        self.val = x\n",
    "        self.left = None\n",
    "        self.right = None\n",
    "class Solution(object):\n",
    "    def search(self, root, target):\n",
    "        if root: #如果root存在\n",
    "            if target>root.val: #往右\n",
    "                if root.right: #如果右邊存在\n",
    "                    return Solution().search(root.right,target) #回傳繼續找\n",
    "                else: #右邊不存在 也就是找不到 回傳失敗\n",
    "                    return False \n",
    "            if target<root.val: #往左\n",
    "                if root.left: #如果左邊存在\n",
    "                    return Solution().search(root.left,target) #回傳繼續找\n",
    "                else: #左邊不存在 找不到 失敗\n",
    "                    return False\n",
    "            if target==root.val: #如果要找的值=root 找到\n",
    "                return True"
   ]
  },
  {
   "cell_type": "code",
   "execution_count": 40,
   "metadata": {},
   "outputs": [
    {
     "name": "stdout",
     "output_type": "stream",
     "text": [
      "search\n",
      "False\n"
     ]
    }
   ],
   "source": [
    "print('search')\n",
    "print(Solution().search(root,10)==root.right.right)"
   ]
  },
  {
   "cell_type": "markdown",
   "metadata": {},
   "source": [
    "發現測試應該不用回傳 true或false\n",
    "\n",
    "而是回傳值 然後print的時候看對不對\n",
    "\n",
    "所以稍微改一下\n",
    "\n",
    "想法:不需要新建個點 所以直接回傳值?"
   ]
  },
  {
   "cell_type": "code",
   "execution_count": 58,
   "metadata": {},
   "outputs": [],
   "source": [
    "class TreeNode(object):\n",
    "    def __init__(self,x):\n",
    "        self.val = x\n",
    "        self.left = None\n",
    "        self.right = None\n",
    "class Solution(object):\n",
    "    def search(self, root, target):\n",
    "        if root: #如果root存在\n",
    "            if target>root.val: #往右\n",
    "                if root.right: #如果右邊存在\n",
    "                    return Solution().search(root.right,target) #回傳繼續找\n",
    "                else: #右邊不存在 也就是找不到 回傳沒東西\n",
    "                    return None \n",
    "            if target<root.val: #往左\n",
    "                if root.left: #如果左邊存在\n",
    "                    return Solution().search(root.left,target) #回傳繼續找\n",
    "                else: #左邊不存在 找不到 沒東西\n",
    "                    return None\n",
    "            if target==root.val: #如果要找的值=root\n",
    "                return root"
   ]
  },
  {
   "cell_type": "markdown",
   "metadata": {},
   "source": [
    "# 測試值"
   ]
  },
  {
   "cell_type": "code",
   "execution_count": 46,
   "metadata": {},
   "outputs": [
    {
     "name": "stdout",
     "output_type": "stream",
     "text": [
      "search\n",
      "True\n"
     ]
    }
   ],
   "source": [
    "print('search')\n",
    "print(Solution().search(root,10)==root.right.right)"
   ]
  },
  {
   "cell_type": "code",
   "execution_count": 51,
   "metadata": {},
   "outputs": [
    {
     "name": "stdout",
     "output_type": "stream",
     "text": [
      "search\n",
      "True\n"
     ]
    }
   ],
   "source": [
    "print('search')\n",
    "print(Solution().search(root,-5)==root.left.left.left)"
   ]
  },
  {
   "cell_type": "code",
   "execution_count": 68,
   "metadata": {},
   "outputs": [
    {
     "name": "stdout",
     "output_type": "stream",
     "text": [
      "search\n",
      "True\n"
     ]
    }
   ],
   "source": [
    "print('search')\n",
    "print(Solution().search(root,4)==root.left.right)"
   ]
  },
  {
   "cell_type": "code",
   "execution_count": 60,
   "metadata": {},
   "outputs": [
    {
     "name": "stdout",
     "output_type": "stream",
     "text": [
      "None\n"
     ]
    }
   ],
   "source": [
    "print(root.left.right)"
   ]
  },
  {
   "cell_type": "markdown",
   "metadata": {},
   "source": [
    "發現新問題 找不存在的4的時候居然跑出true了\n",
    "\n",
    "找到原因了 我一開始回傳none\n",
    "\n",
    "改成root.right=None return root.right試試?"
   ]
  },
  {
   "cell_type": "code",
   "execution_count": 76,
   "metadata": {},
   "outputs": [],
   "source": [
    "class TreeNode(object):\n",
    "    def __init__(self,x):\n",
    "        self.val = x\n",
    "        self.left = None\n",
    "        self.right = None\n",
    "class Solution(object):\n",
    "    def search(self, root, target):\n",
    "        if root: #如果root存在\n",
    "            if target>root.val: #往右\n",
    "                if root.right: #如果右邊存在\n",
    "                    return Solution().search(root.right,target) #回傳繼續找\n",
    "                else: #右邊不存在 也就是找不到 回傳沒東西\n",
    "                    root.right=None\n",
    "                    return root.right\n",
    "            if target<root.val: #往左\n",
    "                if root.left: #如果左邊存在\n",
    "                    return Solution().search(root.left,target) #回傳繼續找\n",
    "                else: #左邊不存在 找不到 沒東西\n",
    "                    root.left=None\n",
    "                    return root.left\n",
    "            if target==root.val: #如果要找的值=root\n",
    "                return root"
   ]
  },
  {
   "cell_type": "code",
   "execution_count": 77,
   "metadata": {},
   "outputs": [
    {
     "name": "stdout",
     "output_type": "stream",
     "text": [
      "search\n",
      "True\n"
     ]
    }
   ],
   "source": [
    "print('search')\n",
    "print(Solution().search(root,4)==root.left.right)"
   ]
  },
  {
   "cell_type": "markdown",
   "metadata": {},
   "source": [
    "還是錯\n",
    "\n",
    "找到原因了 因為測試值試的意思是 那個位置是空值\n",
    "\n",
    "如果我回傳None 會變成None=None 難怪會變成true\n",
    "\n",
    "所以我這次return target的值 這樣就會變成4不於none\n",
    "\n",
    "才會變成false"
   ]
  },
  {
   "cell_type": "markdown",
   "metadata": {},
   "source": [
    "# 問題:助教尋找不存在的值的時候的測試值為何?\n",
    "\n",
    "助教ppt上解釋是說找不存在的值的話回傳None\n",
    "\n",
    "如果是print(Solution().search(root,4)==root.left.right)這樣的話 不能直接回傳None \n",
    "\n",
    "這樣會變成None=None 會變成True\n",
    "\n",
    "但如果是print(Solution().search(root,4))的話 就要直接回傳None"
   ]
  },
  {
   "cell_type": "code",
   "execution_count": 174,
   "metadata": {},
   "outputs": [],
   "source": [
    "class TreeNode(object):\n",
    "    def __init__(self,x):\n",
    "        self.val = x\n",
    "        self.left = None\n",
    "        self.right = None\n",
    "class Solution(object):\n",
    "    def search(self, root, target):\n",
    "        if root: #如果root存在\n",
    "            if target>root.val: #往右\n",
    "                if root.right: #如果右邊存在\n",
    "                    return Solution().search(root.right,target) #回傳繼續找\n",
    "                else: #右邊不存在 也就是找不到 回傳沒東西\n",
    "                    return None\n",
    "            if target<root.val: #往左\n",
    "                if root.left: #如果左邊存在\n",
    "                    return Solution().search(root.left,target) #回傳繼續找\n",
    "                else: #左邊不存在 找不到 沒東西\n",
    "                    return None\n",
    "            if target==root.val: #如果要找的值=root\n",
    "                return root\n",
    "        else:\n",
    "            return None"
   ]
  },
  {
   "cell_type": "code",
   "execution_count": 177,
   "metadata": {},
   "outputs": [
    {
     "name": "stdout",
     "output_type": "stream",
     "text": [
      "search\n",
      "None\n"
     ]
    }
   ],
   "source": [
    "print('search')\n",
    "print(Solution().search(root,4))"
   ]
  },
  {
   "cell_type": "code",
   "execution_count": 175,
   "metadata": {},
   "outputs": [
    {
     "name": "stdout",
     "output_type": "stream",
     "text": [
      "search\n",
      "None\n"
     ]
    }
   ],
   "source": [
    "print('search')\n",
    "print(Solution().search(root,1))"
   ]
  },
  {
   "cell_type": "code",
   "execution_count": 178,
   "metadata": {},
   "outputs": [
    {
     "name": "stdout",
     "output_type": "stream",
     "text": [
      "search\n",
      "True\n"
     ]
    }
   ],
   "source": [
    "print('search')\n",
    "print(Solution().search(root,-5)==root.left.left.left)"
   ]
  },
  {
   "cell_type": "code",
   "execution_count": 179,
   "metadata": {},
   "outputs": [
    {
     "name": "stdout",
     "output_type": "stream",
     "text": [
      "search\n",
      "True\n"
     ]
    }
   ],
   "source": [
    "print('search')\n",
    "print(Solution().search(root,10)==root.right.right)"
   ]
  },
  {
   "cell_type": "markdown",
   "metadata": {},
   "source": [
    "# 刪除"
   ]
  },
  {
   "cell_type": "markdown",
   "metadata": {},
   "source": [
    "刪除有三種情況\n",
    "\n",
    "1.沒有子結點-->直接刪除那個值\n",
    "\n",
    "2.只有一個節點-->把子節點替換上去\n",
    "\n",
    "3.有兩個節點-->找大於的最小或小於的最大\n",
    "\n",
    "先從最簡單的沒有子節點部分寫起"
   ]
  },
  {
   "cell_type": "code",
   "execution_count": 310,
   "metadata": {},
   "outputs": [],
   "source": [
    "class TreeNode(object):\n",
    "    def __init__(self,x):\n",
    "        self.val = x\n",
    "        self.left = None\n",
    "        self.right = None\n",
    "class Solution(object):\n",
    "    def delete(self, root, target):\n",
    "        if root: #如果root存在\n",
    "            if target>root.val: #往右\n",
    "                if root.right: #右邊存在\n",
    "                    return Solution().delete(root.right,target)\n",
    "            elif target<root.val: #往左\n",
    "                 if root.left: #左邊存在\n",
    "                    return Solution().delete(root.left,target)\n",
    "            else: #等於的話\n",
    "                if root.right is None and root.left is None: #如果他沒有左右子節點\n",
    "                        root.val = None #把root刪掉\n",
    "                return root\n",
    "                if root.left: #如果只有左邊\n",
    "                    if root.right is None:\n",
    "                        root=root.left #替換成左邊\n",
    "                        root.left.val==None\n",
    "                elif root.right: #如果只有右邊\n",
    "                    if root.left is None:\n",
    "                        root=root.right #替換成左邊\n",
    "                        root.right.val==None\n",
    "                elif root.right and root.left: #如果兩邊都在\n",
    "                    root.val = self.min(root.right).val#此處找最大的最小\n",
    "\n",
    "\n",
    "    def min(self,root):\n",
    "        if root.left is None: #如果左邊沒有值了\n",
    "            return root \n",
    "        else: #左邊還有值就回傳\n",
    "            return Solution().min(root.left)"
   ]
  },
  {
   "cell_type": "code",
   "execution_count": 311,
   "metadata": {},
   "outputs": [
    {
     "name": "stdout",
     "output_type": "stream",
     "text": [
      "delete\n",
      "False\n"
     ]
    }
   ],
   "source": [
    "root=TreeNode(5)\n",
    "Node1=TreeNode(3)\n",
    "Node2=TreeNode(3)\n",
    "Node3=TreeNode(-5)\n",
    "Node4=TreeNode(8)\n",
    "Node5=TreeNode(7)\n",
    "Node6=TreeNode(6)\n",
    "Node7=TreeNode(10)\n",
    "root.left=Node1\n",
    "root.right=Node4\n",
    "Node1.left=Node2\n",
    "Node2.left=Node3\n",
    "Node4.left=Node5\n",
    "Node4.right=Node7\n",
    "Node5.left=Node6\n",
    "root=Solution().delete(root,10)\n",
    "print('delete')\n",
    "print(root.val==5)"
   ]
  },
  {
   "cell_type": "markdown",
   "metadata": {},
   "source": [
    "# 修改"
   ]
  },
  {
   "cell_type": "markdown",
   "metadata": {},
   "source": [
    "先找到要修改的那個數"
   ]
  },
  {
   "cell_type": "code",
   "execution_count": null,
   "metadata": {},
   "outputs": [],
   "source": [
    "class TreeNode(object):\n",
    "    def __init__(self,x):\n",
    "        self.val = x\n",
    "        self.left = None\n",
    "        self.right = None\n",
    "class Solution(object):\n",
    "    def insert(self, root, val):\n",
    "\n",
    "            \n",
    "    def delete(self, root, target):\n",
    "        \"\"\"\n",
    "        :type root: TreeNode\n",
    "        :type target: int\n",
    "        :rtype: TreeNode(the root of new completed binary search tree) (cannot search())\n",
    "        \"\"\"\n",
    "    def search(self, root, target):\n",
    "        \"\"\"\n",
    "        :type root: TreeNode\n",
    "        :type target: int\n",
    "        :rtype: TreeNode(searched node)\n",
    "        \"\"\"\n",
    "    def modify(self, root, target, new_val):\n",
    "        \"\"\"\n",
    "        :type root: TreeNode\n",
    "        :type target: int\n",
    "        :type new_val: int\n",
    "        :rtype:TreeNode(the root of new completed binary search tree) (cannot search())\n",
    "        \"\"\""
   ]
  },
  {
   "cell_type": "markdown",
   "metadata": {},
   "source": [
    "# 參考\n",
    "\n",
    "https://ithelp.ithome.com.tw/articles/10226394 (插入)\n",
    "\n",
    "http://alrightchiu.github.io/SecondRound/binary-search-tree-searchsou-xun-zi-liao-insertxin-zeng-zi-liao.html#search (搜尋、插入)\n",
    "\n",
    "https://blog.csdn.net/weixin_38111819/article/details/79206207 (插入)\n",
    "\n",
    "https://blog.csdn.net/L141210113/article/details/89374241 (插入)\n",
    "\n",
    "https://medium.com/@desolution/%E5%BE%9Eleetcode%E5%AD%B8%E6%BC%94%E7%AE%97%E6%B3%95-16-bst-1-41d01e6a9f7a (插入)\n",
    "\n",
    "https://gist.github.com/jakemmarsh/8273963 (插入、搜尋)\n",
    "\n",
    "https://www.youtube.com/watch?v=qR35AEc84AI&feature=youtu.be (老師上課講解)"
   ]
  }
 ],
 "metadata": {
  "kernelspec": {
   "display_name": "Python 3",
   "language": "python",
   "name": "python3"
  },
  "language_info": {
   "codemirror_mode": {
    "name": "ipython",
    "version": 3
   },
   "file_extension": ".py",
   "mimetype": "text/x-python",
   "name": "python",
   "nbconvert_exporter": "python",
   "pygments_lexer": "ipython3",
   "version": "3.7.1"
  }
 },
 "nbformat": 4,
 "nbformat_minor": 2
}
