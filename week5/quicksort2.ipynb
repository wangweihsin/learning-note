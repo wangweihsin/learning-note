{
 "cells": [
  {
   "cell_type": "markdown",
   "metadata": {},
   "source": [
    "因為上次作業跟網路上的太像了，所以試著不看然後自己重打看看\n",
    "\n",
    "首先先從list裡面抽個標準值\n",
    "\n",
    "上次用隨機抽取的方法被說沒意義 所以這次從中間抽一個數"
   ]
  },
  {
   "cell_type": "code",
   "execution_count": 3,
   "metadata": {},
   "outputs": [
    {
     "data": {
      "text/plain": [
       "77"
      ]
     },
     "execution_count": 3,
     "metadata": {},
     "output_type": "execute_result"
    }
   ],
   "source": [
    "alist=[54,26,93,17,77,31,44,55,20]\n",
    "a=len(alist)//2\n",
    "alist[a]"
   ]
  },
  {
   "cell_type": "markdown",
   "metadata": {},
   "source": [
    "將其他數跟抽取值做對比"
   ]
  },
  {
   "cell_type": "code",
   "execution_count": 7,
   "metadata": {},
   "outputs": [
    {
     "name": "stdout",
     "output_type": "stream",
     "text": [
      "[54, 26, 17, 77, 31, 44, 55, 20] [93]\n"
     ]
    }
   ],
   "source": [
    "key=alist[a]\n",
    "right=[]\n",
    "left=[]\n",
    "for i in alist:\n",
    "    if i>key:\n",
    "        right.append(i)\n",
    "    else:\n",
    "        left.append(i)\n",
    "print(left,right)"
   ]
  },
  {
   "cell_type": "markdown",
   "metadata": {},
   "source": [
    "大的放右邊小的放左邊的 接著把右邊的再重複一次"
   ]
  },
  {
   "cell_type": "code",
   "execution_count": 68,
   "metadata": {},
   "outputs": [
    {
     "name": "stdout",
     "output_type": "stream",
     "text": [
      "[26, 17, 31, 20] [54, 77, 44, 55] [93]\n"
     ]
    }
   ],
   "source": [
    "if len(left)>1:\n",
    "    a=len(left)//2\n",
    "    key=left[a]\n",
    "    right2=[]\n",
    "    left2=[]\n",
    "    for i in left:\n",
    "        if i>key:\n",
    "            right2.append(i)\n",
    "        else:\n",
    "            left2.append(i)\n",
    "    print(left2,right2,right)"
   ]
  },
  {
   "cell_type": "markdown",
   "metadata": {},
   "source": [
    "這樣慢慢分解下去太麻煩了 而且每次的alist不一定相同 所以寫成def"
   ]
  },
  {
   "cell_type": "markdown",
   "metadata": {},
   "source": [
    "# 跟同學討論後 嘗試改成while寫"
   ]
  },
  {
   "cell_type": "code",
   "execution_count": 80,
   "metadata": {},
   "outputs": [
    {
     "name": "stdout",
     "output_type": "stream",
     "text": [
      "[54, 26, 17, 77, 31, 44, 55, 20] [93]\n"
     ]
    }
   ],
   "source": [
    "alist=[54,26,93,17,77,31,44,55,20]\n",
    "key=alist[len(alist)//2]\n",
    "right=[]\n",
    "left=[]\n",
    "i=0\n",
    "while i<len(alist):\n",
    "    j=alist[i]\n",
    "    i+=1\n",
    "    if j>key:\n",
    "        right.append(j)\n",
    "    else:\n",
    "        left.append(j)\n",
    "print(left,right)"
   ]
  },
  {
   "cell_type": "code",
   "execution_count": 92,
   "metadata": {},
   "outputs": [
    {
     "data": {
      "text/plain": [
       "([54, 26, 17, 77, 31, 44, 55, 20], [93])"
      ]
     },
     "execution_count": 92,
     "metadata": {},
     "output_type": "execute_result"
    }
   ],
   "source": [
    "def QS(alist):\n",
    "    key=alist[len(alist)//2]\n",
    "    right=[]\n",
    "    left=[]\n",
    "    i=0\n",
    "    while i<len(alist):\n",
    "        j=alist[i]\n",
    "        i+=1\n",
    "        if j>key:\n",
    "            right.append(j)\n",
    "        else:\n",
    "            left.append(j)\n",
    "    \n",
    "    return left,right\n",
    "QS(alist)"
   ]
  },
  {
   "cell_type": "markdown",
   "metadata": {},
   "source": [
    "要寫條件如果len<1直接回傳 \n",
    "\n",
    "嘗試幾次都出錯\n",
    "\n",
    "試著把左邊跟右邊分開寫\n",
    "\n",
    "最後再用一個def處理"
   ]
  },
  {
   "cell_type": "markdown",
   "metadata": {},
   "source": [
    "# 左&右"
   ]
  },
  {
   "cell_type": "code",
   "execution_count": 107,
   "metadata": {},
   "outputs": [
    {
     "data": {
      "text/plain": [
       "[54, 26, 17, 31, 44, 55, 20]"
      ]
     },
     "execution_count": 107,
     "metadata": {},
     "output_type": "execute_result"
    }
   ],
   "source": [
    "def left(alist):\n",
    "    key=alist[len(alist)//2]\n",
    "    left=[]\n",
    "    i=0\n",
    "    while i<len(alist):\n",
    "        j=alist[i]\n",
    "        i+=1\n",
    "        if j<key:\n",
    "            left.append(j)\n",
    "    return left\n",
    "left(alist)"
   ]
  },
  {
   "cell_type": "code",
   "execution_count": 108,
   "metadata": {},
   "outputs": [
    {
     "data": {
      "text/plain": [
       "[93]"
      ]
     },
     "execution_count": 108,
     "metadata": {},
     "output_type": "execute_result"
    }
   ],
   "source": [
    "def right(alist):\n",
    "    key=alist[len(alist)//2]\n",
    "    right=[]\n",
    "    i=0\n",
    "    while i<len(alist):\n",
    "        j=alist[i]\n",
    "        i+=1\n",
    "        if j>key:\n",
    "            right.append(j)\n",
    "    return right\n",
    "right(alist)"
   ]
  },
  {
   "cell_type": "markdown",
   "metadata": {},
   "source": [
    "一開始忘記中間的數字就直接寫QS 結果出錯 \n",
    "\n",
    "還有一開始太直覺的取left=left(alist) 這樣也會出錯要注意"
   ]
  },
  {
   "cell_type": "markdown",
   "metadata": {},
   "source": [
    "# 中間"
   ]
  },
  {
   "cell_type": "code",
   "execution_count": 109,
   "metadata": {},
   "outputs": [
    {
     "data": {
      "text/plain": [
       "[77]"
      ]
     },
     "execution_count": 109,
     "metadata": {},
     "output_type": "execute_result"
    }
   ],
   "source": [
    "def center(alist):\n",
    "    key=alist[len(alist)//2]\n",
    "    center=[]\n",
    "    i=0\n",
    "    while i<len(alist):\n",
    "        j=alist[i]\n",
    "        i+=1\n",
    "        if j==key:\n",
    "            center.append(j)\n",
    "    return center\n",
    "center(alist)"
   ]
  },
  {
   "cell_type": "markdown",
   "metadata": {},
   "source": [
    "# 最後排序"
   ]
  },
  {
   "cell_type": "code",
   "execution_count": 113,
   "metadata": {},
   "outputs": [
    {
     "data": {
      "text/plain": [
       "[17, 20, 26, 31, 44, 54, 55, 77, 93]"
      ]
     },
     "execution_count": 113,
     "metadata": {},
     "output_type": "execute_result"
    }
   ],
   "source": [
    "def QS(alist):\n",
    "    if len(alist)<=1:\n",
    "        return alist\n",
    "    else:\n",
    "        l=left(alist)\n",
    "        c=center(alist)\n",
    "        r=right(alist)\n",
    "    return QS(l)+QS(c)+QS(r)\n",
    "QS(alist)"
   ]
  },
  {
   "cell_type": "markdown",
   "metadata": {},
   "source": [
    "# 總結"
   ]
  },
  {
   "cell_type": "markdown",
   "metadata": {},
   "source": [
    "試著不看之前的程式碼打還是多少會被影響到，同學建議我可以試試while，一開始將while的用法跟for搞混，直接while i in alist之類的，就導致迴圈不會停下來，關於while的用法還是要多熟悉一下了。\n",
    "\n",
    "原本想用一個def直接解決，結果發現還是會寫成跟之前差不多的程式碼，所以試著寫的麻煩一點，分開寫，最後再用一個def總排序。"
   ]
  },
  {
   "cell_type": "markdown",
   "metadata": {},
   "source": [
    "# 參考\n",
    "\n",
    "https://www.runoob.com/python/python-while-loop.html (while用法)\n",
    "\n",
    "https://nbis.pixnet.net/blog/post/58238148 (for&while)\n",
    "\n",
    "http://jialin128.pixnet.net/blog/post/142927691-%5B-%E8%B3%87%E6%96%99%E7%B5%90%E6%A7%8B-%5D-%E5%BF%AB%E9%80%9F%E6%8E%92%E5%BA%8F%E6%B3%95%EF%BC%88quick-sort%EF%BC%89in-python (最後還是有被影響到)"
   ]
  }
 ],
 "metadata": {
  "kernelspec": {
   "display_name": "Python 3",
   "language": "python",
   "name": "python3"
  },
  "language_info": {
   "codemirror_mode": {
    "name": "ipython",
    "version": 3
   },
   "file_extension": ".py",
   "mimetype": "text/x-python",
   "name": "python",
   "nbconvert_exporter": "python",
   "pygments_lexer": "ipython3",
   "version": "3.7.1"
  }
 },
 "nbformat": 4,
 "nbformat_minor": 2
}
