{
 "cells": [
  {
   "cell_type": "markdown",
   "metadata": {},
   "source": [
    "# 問題"
   ]
  },
  {
   "cell_type": "markdown",
   "metadata": {},
   "source": [
    "從一組未排序過的list中選取一個標準值比較排序"
   ]
  },
  {
   "cell_type": "markdown",
   "metadata": {},
   "source": [
    "# 程式架構設計說明"
   ]
  },
  {
   "cell_type": "markdown",
   "metadata": {},
   "source": [
    "- 從list中拿取一個數字當標準點，這邊選取第一個數當標準"
   ]
  },
  {
   "cell_type": "markdown",
   "metadata": {},
   "source": [
    "- 將其他數字與標準值比較\n",
    "\n",
    "     1.大於放左邊list\n",
    "     \n",
    "     2.等於於放中間list\n",
    "     \n",
    "     3.小於放右邊list\n",
    "    "
   ]
  },
  {
   "cell_type": "markdown",
   "metadata": {},
   "source": [
    "- 將左右list重複上面步驟，從中抽取標準值比較排序。"
   ]
  },
  {
   "cell_type": "markdown",
   "metadata": {},
   "source": [
    "# 流程圖"
   ]
  },
  {
   "cell_type": "markdown",
   "metadata": {},
   "source": [
    "https://github.com/wangweihsin/learning-note/blob/master/week5/%E6%B5%81%E7%A8%8B%E5%9C%96.png?raw=true"
   ]
  },
  {
   "cell_type": "code",
   "execution_count": 23,
   "metadata": {},
   "outputs": [],
   "source": [
    "def QuickSort(alist):\n",
    "    left=[]    #左邊、中間、右邊三個空list\n",
    "    center=[]\n",
    "    right=[]\n",
    "    if len(alist)<=1: #如果alist裡只有一個或沒有元素就不用排序 ex:[1]\n",
    "        return alist\n",
    "    else:\n",
    "        key=alist[0] #拿第一個數字當基準 ex:[3,5,1] key=3\n",
    "        for i in alist:\n",
    "            if i>key:  #大於key放右邊 ex:left=[1],center=[3],right=[5] \n",
    "                right.append(i)\n",
    "            elif i<key: #小於key放左邊\n",
    "                left.append(i)\n",
    "            else: #等於key放中間\n",
    "                center.append(i)\n",
    "    left=QuickSort(left)  #左邊跟右邊list再重新排序一次\n",
    "    right=QuickSort(right)\n",
    "    return left+center+right #把左邊中間右邊加起來 ex:[1,3,5]"
   ]
  },
  {
   "cell_type": "code",
   "execution_count": 24,
   "metadata": {},
   "outputs": [
    {
     "name": "stdout",
     "output_type": "stream",
     "text": [
      "[17, 20, 26, 31, 44, 54, 55, 77, 93]\n"
     ]
    }
   ],
   "source": [
    "alist=[54,26,93,17,77,31,44,55,20]\n",
    "blist=QuickSort(alist)\n",
    "print(blist)"
   ]
  },
  {
   "cell_type": "code",
   "execution_count": 25,
   "metadata": {},
   "outputs": [
    {
     "name": "stdout",
     "output_type": "stream",
     "text": [
      "[0, 1, 5, 5, 8, 10, 22, 22, 65]\n"
     ]
    }
   ],
   "source": [
    "alist=[5,1,10,0,5,8,22,65,22]\n",
    "blist=QuickSort(alist)\n",
    "print(blist)"
   ]
  }
 ],
 "metadata": {
  "kernelspec": {
   "display_name": "Python 3",
   "language": "python",
   "name": "python3"
  },
  "language_info": {
   "codemirror_mode": {
    "name": "ipython",
    "version": 3
   },
   "file_extension": ".py",
   "mimetype": "text/x-python",
   "name": "python",
   "nbconvert_exporter": "python",
   "pygments_lexer": "ipython3",
   "version": "3.7.1"
  }
 },
 "nbformat": 4,
 "nbformat_minor": 2
}
