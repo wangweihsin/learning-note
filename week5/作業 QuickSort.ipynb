{
 "cells": [
  {
   "cell_type": "code",
   "execution_count": 23,
   "metadata": {},
   "outputs": [],
   "source": [
    "def QuickSort(alist):\n",
    "    left=[]    #左邊、中間、右邊三個空list\n",
    "    center=[]\n",
    "    right=[]\n",
    "    if len(alist)<=1: #如果alist裡只有一個或沒有元素就不用排序 ex:[1]\n",
    "        return alist\n",
    "    else:\n",
    "        key=alist[0] #拿第一個數字當基準 ex:[3,5,1] key=3\n",
    "        for i in alist:\n",
    "            if i>key:  #大於key放右邊 ex:left=[1],center=[3],right=[5] \n",
    "                right.append(i)\n",
    "            elif i<key: #小於key放左邊\n",
    "                left.append(i)\n",
    "            else: #等於key放中間\n",
    "                center.append(i)\n",
    "    left=QuickSort(left)  #左邊跟右邊list再重新排序一次\n",
    "    right=QuickSort(right)\n",
    "    return left+center+right #把左邊中間右邊加起來 ex:[1,3,5]"
   ]
  },
  {
   "cell_type": "code",
   "execution_count": 24,
   "metadata": {},
   "outputs": [
    {
     "name": "stdout",
     "output_type": "stream",
     "text": [
      "[17, 20, 26, 31, 44, 54, 55, 77, 93]\n"
     ]
    }
   ],
   "source": [
    "alist=[54,26,93,17,77,31,44,55,20]\n",
    "blist=QuickSort(alist)\n",
    "print(blist)"
   ]
  },
  {
   "cell_type": "code",
   "execution_count": 25,
   "metadata": {},
   "outputs": [
    {
     "name": "stdout",
     "output_type": "stream",
     "text": [
      "[0, 1, 5, 5, 8, 10, 22, 22, 65]\n"
     ]
    }
   ],
   "source": [
    "alist=[5,1,10,0,5,8,22,65,22]\n",
    "blist=QuickSort(alist)\n",
    "print(blist)"
   ]
  }
 ],
 "metadata": {
  "kernelspec": {
   "display_name": "Python 3",
   "language": "python",
   "name": "python3"
  },
  "language_info": {
   "codemirror_mode": {
    "name": "ipython",
    "version": 3
   },
   "file_extension": ".py",
   "mimetype": "text/x-python",
   "name": "python",
   "nbconvert_exporter": "python",
   "pygments_lexer": "ipython3",
   "version": "3.7.1"
  }
 },
 "nbformat": 4,
 "nbformat_minor": 2
}
